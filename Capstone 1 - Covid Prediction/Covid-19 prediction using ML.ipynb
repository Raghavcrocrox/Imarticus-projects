{
 "cells": [
  {
   "cell_type": "code",
   "execution_count": 2,
   "metadata": {},
   "outputs": [
    {
     "name": "stdout",
     "output_type": "stream",
     "text": [
      "Collecting plotly\n",
      "  Downloading plotly-5.2.2-py2.py3-none-any.whl (21.8 MB)\n",
      "Requirement already satisfied: six in f:\\anaconda\\lib\\site-packages (from plotly) (1.15.0)\n",
      "Collecting tenacity>=6.2.0\n",
      "  Downloading tenacity-8.0.1-py3-none-any.whl (24 kB)\n",
      "Installing collected packages: tenacity, plotly\n",
      "Successfully installed plotly-5.2.2 tenacity-8.0.1\n"
     ]
    }
   ],
   "source": [
    "!pip install plotly"
   ]
  },
  {
   "cell_type": "code",
   "execution_count": 2,
   "metadata": {
    "colab": {
     "base_uri": "https://localhost:8080/",
     "height": 71
    },
    "colab_type": "code",
    "id": "hTmls6kCfoPW",
    "outputId": "eb9ef8e9-845d-4277-eb6f-d9cc3ff93ac2"
   },
   "outputs": [
    {
     "data": {
      "text/html": [
       "        <script type=\"text/javascript\">\n",
       "        window.PlotlyConfig = {MathJaxConfig: 'local'};\n",
       "        if (window.MathJax) {MathJax.Hub.Config({SVG: {font: \"STIX-Web\"}});}\n",
       "        if (typeof require !== 'undefined') {\n",
       "        require.undef(\"plotly\");\n",
       "        requirejs.config({\n",
       "            paths: {\n",
       "                'plotly': ['https://cdn.plot.ly/plotly-2.3.1.min']\n",
       "            }\n",
       "        });\n",
       "        require(['plotly'], function(Plotly) {\n",
       "            window._Plotly = Plotly;\n",
       "        });\n",
       "        }\n",
       "        </script>\n",
       "        "
      ]
     },
     "metadata": {},
     "output_type": "display_data"
    }
   ],
   "source": [
    "import numpy as np\n",
    "import pandas as pd\n",
    "import matplotlib.pyplot as plt\n",
    "import seaborn as sns\n",
    "plt.style.use('fivethirtyeight')\n",
    "sns.set_context(\"notebook\")\n",
    "import datetime\n",
    "import requests\n",
    "import warnings\n",
    "warnings.filterwarnings('ignore')\n",
    "\n",
    "import plotly.offline as py\n",
    "import plotly.graph_objects as go\n",
    "import plotly.express as px\n",
    "py.init_notebook_mode(connected=True)\n",
    "import numpy as np\n",
    "import matplotlib.pyplot as plt\n",
    "import pandas as pd\n",
    "from sklearn.utils import shuffle\n",
    "import pickle\n",
    "from sklearn import linear_model, preprocessing\n"
   ]
  },
  {
   "cell_type": "code",
   "execution_count": 3,
   "metadata": {
    "colab": {},
    "colab_type": "code",
    "id": "WDtZfYvNfxtp"
   },
   "outputs": [],
   "source": [
    "\n",
    "covid19India = pd.read_csv(r'C:\\Users\\Admin\\OneDrive\\Desktop\\covid 19\\covid_19_india (1).csv')\n",
    "covidVaccine = pd.read_csv(r'C:\\Users\\Admin\\OneDrive\\Desktop\\covid 19\\covid_vaccine_statewise.csv')\n",
    "stateDetails = pd.read_csv(r'C:\\Users\\Admin\\OneDrive\\Desktop\\covid 19\\StatewiseTestingDetails.csv')"
   ]
  },
  {
   "cell_type": "code",
   "execution_count": 4,
   "metadata": {
    "colab": {
     "base_uri": "https://localhost:8080/",
     "height": 289
    },
    "colab_type": "code",
    "id": "aiAtz1vAgJkD",
    "outputId": "d1a606e9-6948-45c4-e1d0-12dc0e86b5e5"
   },
   "outputs": [
    {
     "name": "stdout",
     "output_type": "stream",
     "text": [
      "<class 'pandas.core.frame.DataFrame'>\n",
      "RangeIndex: 18110 entries, 0 to 18109\n",
      "Data columns (total 9 columns):\n",
      " #   Column                    Non-Null Count  Dtype \n",
      "---  ------                    --------------  ----- \n",
      " 0   Sno                       18110 non-null  int64 \n",
      " 1   Date                      18110 non-null  object\n",
      " 2   Time                      18110 non-null  object\n",
      " 3   State/UnionTerritory      18110 non-null  object\n",
      " 4   ConfirmedIndianNational   18110 non-null  object\n",
      " 5   ConfirmedForeignNational  18110 non-null  object\n",
      " 6   Cured                     18110 non-null  int64 \n",
      " 7   Deaths                    18110 non-null  int64 \n",
      " 8   Confirmed                 18110 non-null  int64 \n",
      "dtypes: int64(4), object(5)\n",
      "memory usage: 1.2+ MB\n"
     ]
    }
   ],
   "source": [
    "covid19India.info()"
   ]
  },
  {
   "cell_type": "code",
   "execution_count": 5,
   "metadata": {
    "colab": {},
    "colab_type": "code",
    "id": "I3WndWpZgUXg"
   },
   "outputs": [],
   "source": [
    "covid19India['Date'] = pd.to_datetime(covid19India['Date'],dayfirst=True)\n",
    "df1=covid19India.groupby('Date').sum()\n",
    "df1.reset_index(inplace=True)"
   ]
  },
  {
   "cell_type": "code",
   "execution_count": 6,
   "metadata": {},
   "outputs": [
    {
     "data": {
      "text/html": [
       "<div>\n",
       "<style scoped>\n",
       "    .dataframe tbody tr th:only-of-type {\n",
       "        vertical-align: middle;\n",
       "    }\n",
       "\n",
       "    .dataframe tbody tr th {\n",
       "        vertical-align: top;\n",
       "    }\n",
       "\n",
       "    .dataframe thead th {\n",
       "        text-align: right;\n",
       "    }\n",
       "</style>\n",
       "<table border=\"1\" class=\"dataframe\">\n",
       "  <thead>\n",
       "    <tr style=\"text-align: right;\">\n",
       "      <th></th>\n",
       "      <th>Date</th>\n",
       "      <th>Sno</th>\n",
       "      <th>Cured</th>\n",
       "      <th>Deaths</th>\n",
       "      <th>Confirmed</th>\n",
       "    </tr>\n",
       "  </thead>\n",
       "  <tbody>\n",
       "    <tr>\n",
       "      <th>0</th>\n",
       "      <td>2020-01-30</td>\n",
       "      <td>1</td>\n",
       "      <td>0</td>\n",
       "      <td>0</td>\n",
       "      <td>1</td>\n",
       "    </tr>\n",
       "    <tr>\n",
       "      <th>1</th>\n",
       "      <td>2020-01-31</td>\n",
       "      <td>2</td>\n",
       "      <td>0</td>\n",
       "      <td>0</td>\n",
       "      <td>1</td>\n",
       "    </tr>\n",
       "    <tr>\n",
       "      <th>2</th>\n",
       "      <td>2020-02-01</td>\n",
       "      <td>3</td>\n",
       "      <td>0</td>\n",
       "      <td>0</td>\n",
       "      <td>2</td>\n",
       "    </tr>\n",
       "    <tr>\n",
       "      <th>3</th>\n",
       "      <td>2020-02-02</td>\n",
       "      <td>4</td>\n",
       "      <td>0</td>\n",
       "      <td>0</td>\n",
       "      <td>3</td>\n",
       "    </tr>\n",
       "    <tr>\n",
       "      <th>4</th>\n",
       "      <td>2020-02-03</td>\n",
       "      <td>5</td>\n",
       "      <td>0</td>\n",
       "      <td>0</td>\n",
       "      <td>3</td>\n",
       "    </tr>\n",
       "  </tbody>\n",
       "</table>\n",
       "</div>"
      ],
      "text/plain": [
       "        Date  Sno  Cured  Deaths  Confirmed\n",
       "0 2020-01-30    1      0       0          1\n",
       "1 2020-01-31    2      0       0          1\n",
       "2 2020-02-01    3      0       0          2\n",
       "3 2020-02-02    4      0       0          3\n",
       "4 2020-02-03    5      0       0          3"
      ]
     },
     "execution_count": 6,
     "metadata": {},
     "output_type": "execute_result"
    }
   ],
   "source": [
    "df1.head()"
   ]
  },
  {
   "cell_type": "code",
   "execution_count": 7,
   "metadata": {
    "colab": {
     "base_uri": "https://localhost:8080/",
     "height": 578
    },
    "colab_type": "code",
    "id": "zoe2OCeYgX-S",
    "outputId": "978a54bb-95b2-454c-d231-e7e18dce24bd"
   },
   "outputs": [
    {
     "data": {
      "text/plain": [
       "<matplotlib.legend.Legend at 0x1dce5080df0>"
      ]
     },
     "execution_count": 7,
     "metadata": {},
     "output_type": "execute_result"
    },
    {
     "data": {
      "image/png": "[encoded data removed]",
      "text/plain": [
       "<Figure size 1008x576 with 1 Axes>"
      ]
     },
     "metadata": {},
     "output_type": "display_data"
    }
   ],
   "source": [
    "plt.figure(figsize= (14,8))\n",
    "plt.xticks(rotation = 90 ,fontsize = 10)\n",
    "plt.yticks(fontsize = 10)\n",
    "plt.xlabel(\"Dates\",fontsize = 20)\n",
    "plt.ylabel('Total cases',fontsize = 20)\n",
    "plt.title(\"Total Confirmed, Active, Death in India\" , fontsize = 20)\n",
    "\n",
    "ax1 = plt.plot_date(data=df1,y= 'Confirmed',x= 'Date',label = 'Confirmed',linestyle ='-',color = 'b')\n",
    "ax2 = plt.plot_date(data=df1,y= 'Cured',x= 'Date',label = 'Cured',linestyle ='-',color = 'g')\n",
    "ax3 = plt.plot_date(data=df1,y= 'Deaths',x= 'Date',label = 'Death',linestyle ='-',color = 'r')\n",
    "plt.legend()"
   ]
  },
  {
   "cell_type": "code",
   "execution_count": 8,
   "metadata": {
    "colab": {
     "base_uri": "https://localhost:8080/",
     "height": 577
    },
    "colab_type": "code",
    "id": "6kRn7L7YggPt",
    "outputId": "c19d8697-57b2-4b83-f31f-0b9cf81543d5"
   },
   "outputs": [
    {
     "data": {
      "image/png": "[encoded data removed]",
      "text/plain": [
       "<Figure size 1008x576 with 1 Axes>"
      ]
     },
     "metadata": {},
     "output_type": "display_data"
    }
   ],
   "source": [
    "df2=df1.tail(25)\n",
    "df2['Date'] = df2['Date'].apply(lambda x: x.strftime('%Y-%m-%d'))\n",
    "plt.figure(figsize=(14,8))\n",
    "sns.barplot(data=df2,x='Date',y='Confirmed',color=sns.color_palette('Set3')[3],label='Confirmed')\n",
    "sns.barplot(data=df2,x='Date',y='Cured',color=sns.color_palette('Set3')[4],label='Cured')\n",
    "sns.barplot(data=df2,x='Date',y='Deaths',color=sns.color_palette('Set3')[5],label='Deaths')\n",
    "plt.xlabel('Date')\n",
    "plt.ylabel('Count')\n",
    "plt.xticks(rotation = 90)\n",
    "plt.title(\"Total Confirmed, Active, Death in India\" , fontsize = 20)\n",
    "plt.legend(frameon=True,fontsize=12);"
   ]
  },
  {
   "cell_type": "code",
   "execution_count": 9,
   "metadata": {
    "colab": {
     "base_uri": "https://localhost:8080/",
     "height": 922
    },
    "colab_type": "code",
    "id": "73QBxysMg62v",
    "outputId": "f235f34e-91b7-4f03-ca29-6f589eb333bd"
   },
   "outputs": [
    {
     "data": {
      "text/html": [
       "<style  type=\"text/css\" >\n",
       "#T_516d909e_13a3_11ec_88a9_2c6e85b37657row0_col1{\n",
       "            background-color:  #67000d;\n",
       "            color:  #f1f1f1;\n",
       "        }#T_516d909e_13a3_11ec_88a9_2c6e85b37657row0_col2{\n",
       "            background-color:  #08306b;\n",
       "            color:  #f1f1f1;\n",
       "        }#T_516d909e_13a3_11ec_88a9_2c6e85b37657row0_col3{\n",
       "            background-color:  #00441b;\n",
       "            color:  #f1f1f1;\n",
       "        }#T_516d909e_13a3_11ec_88a9_2c6e85b37657row0_col4{\n",
       "            background-color:  #491285;\n",
       "            color:  #f1f1f1;\n",
       "        }#T_516d909e_13a3_11ec_88a9_2c6e85b37657row0_col5{\n",
       "            background-color:  #484848;\n",
       "            color:  #f1f1f1;\n",
       "        }#T_516d909e_13a3_11ec_88a9_2c6e85b37657row0_col6,#T_516d909e_13a3_11ec_88a9_2c6e85b37657row21_col6{\n",
       "            background-color:  #882a04;\n",
       "            color:  #f1f1f1;\n",
       "        }#T_516d909e_13a3_11ec_88a9_2c6e85b37657row1_col1{\n",
       "            background-color:  #71020e;\n",
       "            color:  #f1f1f1;\n",
       "        }#T_516d909e_13a3_11ec_88a9_2c6e85b37657row1_col2{\n",
       "            background-color:  #083674;\n",
       "            color:  #f1f1f1;\n",
       "        }#T_516d909e_13a3_11ec_88a9_2c6e85b37657row1_col3{\n",
       "            background-color:  #004c1e;\n",
       "            color:  #f1f1f1;\n",
       "        }#T_516d909e_13a3_11ec_88a9_2c6e85b37657row1_col4{\n",
       "            background-color:  #3f007d;\n",
       "            color:  #f1f1f1;\n",
       "        }#T_516d909e_13a3_11ec_88a9_2c6e85b37657row1_col5{\n",
       "            background-color:  #4a4a4a;\n",
       "            color:  #f1f1f1;\n",
       "        }#T_516d909e_13a3_11ec_88a9_2c6e85b37657row1_col6{\n",
       "            background-color:  #8a2b04;\n",
       "            color:  #f1f1f1;\n",
       "        }#T_516d909e_13a3_11ec_88a9_2c6e85b37657row2_col1{\n",
       "            background-color:  #f5523a;\n",
       "            color:  #000000;\n",
       "        }#T_516d909e_13a3_11ec_88a9_2c6e85b37657row2_col2,#T_516d909e_13a3_11ec_88a9_2c6e85b37657row8_col2{\n",
       "            background-color:  #dceaf6;\n",
       "            color:  #000000;\n",
       "        }#T_516d909e_13a3_11ec_88a9_2c6e85b37657row2_col3{\n",
       "            background-color:  #5eb96b;\n",
       "            color:  #000000;\n",
       "        }#T_516d909e_13a3_11ec_88a9_2c6e85b37657row2_col4{\n",
       "            background-color:  #8b87bf;\n",
       "            color:  #000000;\n",
       "        }#T_516d909e_13a3_11ec_88a9_2c6e85b37657row2_col5,#T_516d909e_13a3_11ec_88a9_2c6e85b37657row41_col5{\n",
       "            background-color:  #e5e5e5;\n",
       "            color:  #000000;\n",
       "        }#T_516d909e_13a3_11ec_88a9_2c6e85b37657row2_col6,#T_516d909e_13a3_11ec_88a9_2c6e85b37657row34_col6{\n",
       "            background-color:  #8f2d04;\n",
       "            color:  #f1f1f1;\n",
       "        }#T_516d909e_13a3_11ec_88a9_2c6e85b37657row3_col1{\n",
       "            background-color:  #fb7757;\n",
       "            color:  #000000;\n",
       "        }#T_516d909e_13a3_11ec_88a9_2c6e85b37657row3_col2{\n",
       "            background-color:  #bed8ec;\n",
       "            color:  #000000;\n",
       "        }#T_516d909e_13a3_11ec_88a9_2c6e85b37657row3_col3{\n",
       "            background-color:  #81ca81;\n",
       "            color:  #000000;\n",
       "        }#T_516d909e_13a3_11ec_88a9_2c6e85b37657row3_col4{\n",
       "            background-color:  #d6d6e9;\n",
       "            color:  #000000;\n",
       "        }#T_516d909e_13a3_11ec_88a9_2c6e85b37657row3_col5{\n",
       "            background-color:  #a2a2a2;\n",
       "            color:  #000000;\n",
       "        }#T_516d909e_13a3_11ec_88a9_2c6e85b37657row3_col6,#T_516d909e_13a3_11ec_88a9_2c6e85b37657row4_col6,#T_516d909e_13a3_11ec_88a9_2c6e85b37657row5_col6,#T_516d909e_13a3_11ec_88a9_2c6e85b37657row24_col6,#T_516d909e_13a3_11ec_88a9_2c6e85b37657row27_col6,#T_516d909e_13a3_11ec_88a9_2c6e85b37657row28_col6,#T_516d909e_13a3_11ec_88a9_2c6e85b37657row29_col6{\n",
       "            background-color:  #852904;\n",
       "            color:  #f1f1f1;\n",
       "        }#T_516d909e_13a3_11ec_88a9_2c6e85b37657row4_col1{\n",
       "            background-color:  #fb7858;\n",
       "            color:  #000000;\n",
       "        }#T_516d909e_13a3_11ec_88a9_2c6e85b37657row4_col2{\n",
       "            background-color:  #bfd8ed;\n",
       "            color:  #000000;\n",
       "        }#T_516d909e_13a3_11ec_88a9_2c6e85b37657row4_col3{\n",
       "            background-color:  #83cb82;\n",
       "            color:  #000000;\n",
       "        }#T_516d909e_13a3_11ec_88a9_2c6e85b37657row4_col4{\n",
       "            background-color:  #d3d3e8;\n",
       "            color:  #000000;\n",
       "        }#T_516d909e_13a3_11ec_88a9_2c6e85b37657row4_col5,#T_516d909e_13a3_11ec_88a9_2c6e85b37657row16_col5{\n",
       "            background-color:  #a3a3a3;\n",
       "            color:  #000000;\n",
       "        }#T_516d909e_13a3_11ec_88a9_2c6e85b37657row5_col1{\n",
       "            background-color:  #fc8969;\n",
       "            color:  #000000;\n",
       "        }#T_516d909e_13a3_11ec_88a9_2c6e85b37657row5_col2{\n",
       "            background-color:  #c4daee;\n",
       "            color:  #000000;\n",
       "        }#T_516d909e_13a3_11ec_88a9_2c6e85b37657row5_col3{\n",
       "            background-color:  #95d391;\n",
       "            color:  #000000;\n",
       "        }#T_516d909e_13a3_11ec_88a9_2c6e85b37657row5_col4{\n",
       "            background-color:  #dadaeb;\n",
       "            color:  #000000;\n",
       "        }#T_516d909e_13a3_11ec_88a9_2c6e85b37657row5_col5,#T_516d909e_13a3_11ec_88a9_2c6e85b37657row7_col5,#T_516d909e_13a3_11ec_88a9_2c6e85b37657row14_col5,#T_516d909e_13a3_11ec_88a9_2c6e85b37657row15_col5,#T_516d909e_13a3_11ec_88a9_2c6e85b37657row17_col5{\n",
       "            background-color:  #999999;\n",
       "            color:  #000000;\n",
       "        }#T_516d909e_13a3_11ec_88a9_2c6e85b37657row6_col1{\n",
       "            background-color:  #fca78b;\n",
       "            color:  #000000;\n",
       "        }#T_516d909e_13a3_11ec_88a9_2c6e85b37657row6_col2,#T_516d909e_13a3_11ec_88a9_2c6e85b37657row10_col2{\n",
       "            background-color:  #e3eef9;\n",
       "            color:  #000000;\n",
       "        }#T_516d909e_13a3_11ec_88a9_2c6e85b37657row6_col3{\n",
       "            background-color:  #b2e0ac;\n",
       "            color:  #000000;\n",
       "        }#T_516d909e_13a3_11ec_88a9_2c6e85b37657row6_col4,#T_516d909e_13a3_11ec_88a9_2c6e85b37657row7_col4{\n",
       "            background-color:  #efedf5;\n",
       "            color:  #000000;\n",
       "        }#T_516d909e_13a3_11ec_88a9_2c6e85b37657row6_col5{\n",
       "            background-color:  #d9d9d9;\n",
       "            color:  #000000;\n",
       "        }#T_516d909e_13a3_11ec_88a9_2c6e85b37657row6_col6,#T_516d909e_13a3_11ec_88a9_2c6e85b37657row7_col6,#T_516d909e_13a3_11ec_88a9_2c6e85b37657row10_col6,#T_516d909e_13a3_11ec_88a9_2c6e85b37657row14_col6,#T_516d909e_13a3_11ec_88a9_2c6e85b37657row15_col6,#T_516d909e_13a3_11ec_88a9_2c6e85b37657row16_col6,#T_516d909e_13a3_11ec_88a9_2c6e85b37657row17_col6,#T_516d909e_13a3_11ec_88a9_2c6e85b37657row23_col6,#T_516d909e_13a3_11ec_88a9_2c6e85b37657row33_col6,#T_516d909e_13a3_11ec_88a9_2c6e85b37657row38_col6{\n",
       "            background-color:  #832804;\n",
       "            color:  #f1f1f1;\n",
       "        }#T_516d909e_13a3_11ec_88a9_2c6e85b37657row7_col1{\n",
       "            background-color:  #fcb69b;\n",
       "            color:  #000000;\n",
       "        }#T_516d909e_13a3_11ec_88a9_2c6e85b37657row7_col2{\n",
       "            background-color:  #d6e5f4;\n",
       "            color:  #000000;\n",
       "        }#T_516d909e_13a3_11ec_88a9_2c6e85b37657row7_col3{\n",
       "            background-color:  #c0e6b9;\n",
       "            color:  #000000;\n",
       "        }#T_516d909e_13a3_11ec_88a9_2c6e85b37657row8_col1{\n",
       "            background-color:  #fcbea5;\n",
       "            color:  #000000;\n",
       "        }#T_516d909e_13a3_11ec_88a9_2c6e85b37657row8_col3{\n",
       "            background-color:  #c9eac2;\n",
       "            color:  #000000;\n",
       "        }#T_516d909e_13a3_11ec_88a9_2c6e85b37657row8_col4{\n",
       "            background-color:  #eeecf5;\n",
       "            color:  #000000;\n",
       "        }#T_516d909e_13a3_11ec_88a9_2c6e85b37657row8_col5{\n",
       "            background-color:  #aaaaaa;\n",
       "            color:  #000000;\n",
       "        }#T_516d909e_13a3_11ec_88a9_2c6e85b37657row8_col6,#T_516d909e_13a3_11ec_88a9_2c6e85b37657row9_col6,#T_516d909e_13a3_11ec_88a9_2c6e85b37657row11_col6,#T_516d909e_13a3_11ec_88a9_2c6e85b37657row18_col6,#T_516d909e_13a3_11ec_88a9_2c6e85b37657row19_col6,#T_516d909e_13a3_11ec_88a9_2c6e85b37657row25_col6,#T_516d909e_13a3_11ec_88a9_2c6e85b37657row43_col6{\n",
       "            background-color:  #842904;\n",
       "            color:  #f1f1f1;\n",
       "        }#T_516d909e_13a3_11ec_88a9_2c6e85b37657row9_col1{\n",
       "            background-color:  #fcc3ab;\n",
       "            color:  #000000;\n",
       "        }#T_516d909e_13a3_11ec_88a9_2c6e85b37657row9_col2{\n",
       "            background-color:  #d3e3f3;\n",
       "            color:  #000000;\n",
       "        }#T_516d909e_13a3_11ec_88a9_2c6e85b37657row9_col3{\n",
       "            background-color:  #ccebc6;\n",
       "            color:  #000000;\n",
       "        }#T_516d909e_13a3_11ec_88a9_2c6e85b37657row9_col4{\n",
       "            background-color:  #ecebf4;\n",
       "            color:  #000000;\n",
       "        }#T_516d909e_13a3_11ec_88a9_2c6e85b37657row9_col5{\n",
       "            background-color:  #6f6f6f;\n",
       "            color:  #000000;\n",
       "        }#T_516d909e_13a3_11ec_88a9_2c6e85b37657row10_col1{\n",
       "            background-color:  #fdd7c6;\n",
       "            color:  #000000;\n",
       "        }#T_516d909e_13a3_11ec_88a9_2c6e85b37657row10_col3{\n",
       "            background-color:  #dcf2d7;\n",
       "            color:  #000000;\n",
       "        }#T_516d909e_13a3_11ec_88a9_2c6e85b37657row10_col4{\n",
       "            background-color:  #f4f2f8;\n",
       "            color:  #000000;\n",
       "        }#T_516d909e_13a3_11ec_88a9_2c6e85b37657row10_col5{\n",
       "            background-color:  #979797;\n",
       "            color:  #000000;\n",
       "        }#T_516d909e_13a3_11ec_88a9_2c6e85b37657row11_col1{\n",
       "            background-color:  #fed8c7;\n",
       "            color:  #000000;\n",
       "        }#T_516d909e_13a3_11ec_88a9_2c6e85b37657row11_col2{\n",
       "            background-color:  #eef5fc;\n",
       "            color:  #000000;\n",
       "        }#T_516d909e_13a3_11ec_88a9_2c6e85b37657row11_col3{\n",
       "            background-color:  #ddf2d8;\n",
       "            color:  #000000;\n",
       "        }#T_516d909e_13a3_11ec_88a9_2c6e85b37657row11_col4,#T_516d909e_13a3_11ec_88a9_2c6e85b37657row18_col4{\n",
       "            background-color:  #f5f4f9;\n",
       "            color:  #000000;\n",
       "        }#T_516d909e_13a3_11ec_88a9_2c6e85b37657row11_col5{\n",
       "            background-color:  #dadada;\n",
       "            color:  #000000;\n",
       "        }#T_516d909e_13a3_11ec_88a9_2c6e85b37657row12_col1{\n",
       "            background-color:  #fed9c9;\n",
       "            color:  #000000;\n",
       "        }#T_516d909e_13a3_11ec_88a9_2c6e85b37657row12_col2{\n",
       "            background-color:  #eaf2fb;\n",
       "            color:  #000000;\n",
       "        }#T_516d909e_13a3_11ec_88a9_2c6e85b37657row12_col3{\n",
       "            background-color:  #def2d9;\n",
       "            color:  #000000;\n",
       "        }#T_516d909e_13a3_11ec_88a9_2c6e85b37657row12_col4{\n",
       "            background-color:  #f7f6fa;\n",
       "            color:  #000000;\n",
       "        }#T_516d909e_13a3_11ec_88a9_2c6e85b37657row12_col5,#T_516d909e_13a3_11ec_88a9_2c6e85b37657row21_col5{\n",
       "            background-color:  #c4c4c4;\n",
       "            color:  #000000;\n",
       "        }#T_516d909e_13a3_11ec_88a9_2c6e85b37657row12_col6,#T_516d909e_13a3_11ec_88a9_2c6e85b37657row13_col6,#T_516d909e_13a3_11ec_88a9_2c6e85b37657row40_col6,#T_516d909e_13a3_11ec_88a9_2c6e85b37657row41_col6{\n",
       "            background-color:  #812804;\n",
       "            color:  #f1f1f1;\n",
       "        }#T_516d909e_13a3_11ec_88a9_2c6e85b37657row13_col1{\n",
       "            background-color:  #fedfd0;\n",
       "            color:  #000000;\n",
       "        }#T_516d909e_13a3_11ec_88a9_2c6e85b37657row13_col2{\n",
       "            background-color:  #e8f1fa;\n",
       "            color:  #000000;\n",
       "        }#T_516d909e_13a3_11ec_88a9_2c6e85b37657row13_col3{\n",
       "            background-color:  #e4f5df;\n",
       "            color:  #000000;\n",
       "        }#T_516d909e_13a3_11ec_88a9_2c6e85b37657row13_col4,#T_516d909e_13a3_11ec_88a9_2c6e85b37657row16_col4{\n",
       "            background-color:  #f6f5f9;\n",
       "            color:  #000000;\n",
       "        }#T_516d909e_13a3_11ec_88a9_2c6e85b37657row13_col5{\n",
       "            background-color:  #a7a7a7;\n",
       "            color:  #000000;\n",
       "        }#T_516d909e_13a3_11ec_88a9_2c6e85b37657row14_col1,#T_516d909e_13a3_11ec_88a9_2c6e85b37657row15_col1{\n",
       "            background-color:  #fee1d3;\n",
       "            color:  #000000;\n",
       "        }#T_516d909e_13a3_11ec_88a9_2c6e85b37657row14_col2,#T_516d909e_13a3_11ec_88a9_2c6e85b37657row15_col2{\n",
       "            background-color:  #e7f1fa;\n",
       "            color:  #000000;\n",
       "        }#T_516d909e_13a3_11ec_88a9_2c6e85b37657row14_col3,#T_516d909e_13a3_11ec_88a9_2c6e85b37657row15_col3{\n",
       "            background-color:  #e5f5e0;\n",
       "            color:  #000000;\n",
       "        }#T_516d909e_13a3_11ec_88a9_2c6e85b37657row14_col4,#T_516d909e_13a3_11ec_88a9_2c6e85b37657row15_col4,#T_516d909e_13a3_11ec_88a9_2c6e85b37657row21_col4{\n",
       "            background-color:  #f6f4f9;\n",
       "            color:  #000000;\n",
       "        }#T_516d909e_13a3_11ec_88a9_2c6e85b37657row16_col1{\n",
       "            background-color:  #fee1d4;\n",
       "            color:  #000000;\n",
       "        }#T_516d909e_13a3_11ec_88a9_2c6e85b37657row16_col2,#T_516d909e_13a3_11ec_88a9_2c6e85b37657row17_col2,#T_516d909e_13a3_11ec_88a9_2c6e85b37657row18_col2{\n",
       "            background-color:  #e9f2fa;\n",
       "            color:  #000000;\n",
       "        }#T_516d909e_13a3_11ec_88a9_2c6e85b37657row16_col3{\n",
       "            background-color:  #e5f5e1;\n",
       "            color:  #000000;\n",
       "        }#T_516d909e_13a3_11ec_88a9_2c6e85b37657row17_col1{\n",
       "            background-color:  #fee2d5;\n",
       "            color:  #000000;\n",
       "        }#T_516d909e_13a3_11ec_88a9_2c6e85b37657row17_col3,#T_516d909e_13a3_11ec_88a9_2c6e85b37657row18_col3{\n",
       "            background-color:  #e7f6e2;\n",
       "            color:  #000000;\n",
       "        }#T_516d909e_13a3_11ec_88a9_2c6e85b37657row17_col4{\n",
       "            background-color:  #f7f5fa;\n",
       "            color:  #000000;\n",
       "        }#T_516d909e_13a3_11ec_88a9_2c6e85b37657row18_col1{\n",
       "            background-color:  #fee3d6;\n",
       "            color:  #000000;\n",
       "        }#T_516d909e_13a3_11ec_88a9_2c6e85b37657row18_col5{\n",
       "            background-color:  #9a9a9a;\n",
       "            color:  #000000;\n",
       "        }#T_516d909e_13a3_11ec_88a9_2c6e85b37657row19_col1{\n",
       "            background-color:  #fee4d8;\n",
       "            color:  #000000;\n",
       "        }#T_516d909e_13a3_11ec_88a9_2c6e85b37657row19_col2{\n",
       "            background-color:  #f2f7fd;\n",
       "            color:  #000000;\n",
       "        }#T_516d909e_13a3_11ec_88a9_2c6e85b37657row19_col3{\n",
       "            background-color:  #e8f6e4;\n",
       "            color:  #000000;\n",
       "        }#T_516d909e_13a3_11ec_88a9_2c6e85b37657row19_col4{\n",
       "            background-color:  #f8f6fa;\n",
       "            color:  #000000;\n",
       "        }#T_516d909e_13a3_11ec_88a9_2c6e85b37657row19_col5{\n",
       "            background-color:  #dfdfdf;\n",
       "            color:  #000000;\n",
       "        }#T_516d909e_13a3_11ec_88a9_2c6e85b37657row20_col1{\n",
       "            background-color:  #fee5d9;\n",
       "            color:  #000000;\n",
       "        }#T_516d909e_13a3_11ec_88a9_2c6e85b37657row20_col2{\n",
       "            background-color:  #dfebf7;\n",
       "            color:  #000000;\n",
       "        }#T_516d909e_13a3_11ec_88a9_2c6e85b37657row20_col3{\n",
       "            background-color:  #e9f7e5;\n",
       "            color:  #000000;\n",
       "        }#T_516d909e_13a3_11ec_88a9_2c6e85b37657row20_col4{\n",
       "            background-color:  #f3f1f7;\n",
       "            color:  #000000;\n",
       "        }#T_516d909e_13a3_11ec_88a9_2c6e85b37657row20_col5{\n",
       "            background-color:  #000000;\n",
       "            color:  #f1f1f1;\n",
       "        }#T_516d909e_13a3_11ec_88a9_2c6e85b37657row20_col6,#T_516d909e_13a3_11ec_88a9_2c6e85b37657row26_col6{\n",
       "            background-color:  #862a04;\n",
       "            color:  #f1f1f1;\n",
       "        }#T_516d909e_13a3_11ec_88a9_2c6e85b37657row21_col1{\n",
       "            background-color:  #fee6da;\n",
       "            color:  #000000;\n",
       "        }#T_516d909e_13a3_11ec_88a9_2c6e85b37657row21_col2{\n",
       "            background-color:  #eff6fc;\n",
       "            color:  #000000;\n",
       "        }#T_516d909e_13a3_11ec_88a9_2c6e85b37657row21_col3{\n",
       "            background-color:  #eaf7e6;\n",
       "            color:  #000000;\n",
       "        }#T_516d909e_13a3_11ec_88a9_2c6e85b37657row22_col1{\n",
       "            background-color:  #feeae0;\n",
       "            color:  #000000;\n",
       "        }#T_516d909e_13a3_11ec_88a9_2c6e85b37657row22_col2{\n",
       "            background-color:  #f4f9fe;\n",
       "            color:  #000000;\n",
       "        }#T_516d909e_13a3_11ec_88a9_2c6e85b37657row22_col3{\n",
       "            background-color:  #eff9eb;\n",
       "            color:  #000000;\n",
       "        }#T_516d909e_13a3_11ec_88a9_2c6e85b37657row22_col4{\n",
       "            background-color:  #ddddec;\n",
       "            color:  #000000;\n",
       "        }#T_516d909e_13a3_11ec_88a9_2c6e85b37657row22_col5{\n",
       "            background-color:  #e4e4e4;\n",
       "            color:  #000000;\n",
       "        }#T_516d909e_13a3_11ec_88a9_2c6e85b37657row22_col6{\n",
       "            background-color:  #bd3e02;\n",
       "            color:  #f1f1f1;\n",
       "        }#T_516d909e_13a3_11ec_88a9_2c6e85b37657row23_col1,#T_516d909e_13a3_11ec_88a9_2c6e85b37657row24_col1{\n",
       "            background-color:  #ffece4;\n",
       "            color:  #000000;\n",
       "        }#T_516d909e_13a3_11ec_88a9_2c6e85b37657row23_col2{\n",
       "            background-color:  #f0f6fd;\n",
       "            color:  #000000;\n",
       "        }#T_516d909e_13a3_11ec_88a9_2c6e85b37657row23_col3{\n",
       "            background-color:  #eff9ec;\n",
       "            color:  #000000;\n",
       "        }#T_516d909e_13a3_11ec_88a9_2c6e85b37657row23_col4,#T_516d909e_13a3_11ec_88a9_2c6e85b37657row25_col4,#T_516d909e_13a3_11ec_88a9_2c6e85b37657row30_col4{\n",
       "            background-color:  #f9f8fb;\n",
       "            color:  #000000;\n",
       "        }#T_516d909e_13a3_11ec_88a9_2c6e85b37657row23_col5,#T_516d909e_13a3_11ec_88a9_2c6e85b37657row29_col5{\n",
       "            background-color:  #898989;\n",
       "            color:  #000000;\n",
       "        }#T_516d909e_13a3_11ec_88a9_2c6e85b37657row24_col2{\n",
       "            background-color:  #ecf4fb;\n",
       "            color:  #000000;\n",
       "        }#T_516d909e_13a3_11ec_88a9_2c6e85b37657row24_col3,#T_516d909e_13a3_11ec_88a9_2c6e85b37657row25_col3{\n",
       "            background-color:  #f0f9ec;\n",
       "            color:  #000000;\n",
       "        }#T_516d909e_13a3_11ec_88a9_2c6e85b37657row24_col4{\n",
       "            background-color:  #f8f7fa;\n",
       "            color:  #000000;\n",
       "        }#T_516d909e_13a3_11ec_88a9_2c6e85b37657row24_col5{\n",
       "            background-color:  #434343;\n",
       "            color:  #f1f1f1;\n",
       "        }#T_516d909e_13a3_11ec_88a9_2c6e85b37657row25_col1{\n",
       "            background-color:  #ffede5;\n",
       "            color:  #000000;\n",
       "        }#T_516d909e_13a3_11ec_88a9_2c6e85b37657row25_col2{\n",
       "            background-color:  #f1f7fd;\n",
       "            color:  #000000;\n",
       "        }#T_516d909e_13a3_11ec_88a9_2c6e85b37657row25_col5{\n",
       "            background-color:  #959595;\n",
       "            color:  #000000;\n",
       "        }#T_516d909e_13a3_11ec_88a9_2c6e85b37657row26_col1,#T_516d909e_13a3_11ec_88a9_2c6e85b37657row27_col1{\n",
       "            background-color:  #fff0e8;\n",
       "            color:  #000000;\n",
       "        }#T_516d909e_13a3_11ec_88a9_2c6e85b37657row26_col2,#T_516d909e_13a3_11ec_88a9_2c6e85b37657row27_col2,#T_516d909e_13a3_11ec_88a9_2c6e85b37657row28_col2{\n",
       "            background-color:  #f2f8fd;\n",
       "            color:  #000000;\n",
       "        }#T_516d909e_13a3_11ec_88a9_2c6e85b37657row26_col3,#T_516d909e_13a3_11ec_88a9_2c6e85b37657row27_col3{\n",
       "            background-color:  #f2faf0;\n",
       "            color:  #000000;\n",
       "        }#T_516d909e_13a3_11ec_88a9_2c6e85b37657row26_col4,#T_516d909e_13a3_11ec_88a9_2c6e85b37657row42_col4{\n",
       "            background-color:  #faf8fb;\n",
       "            color:  #000000;\n",
       "        }#T_516d909e_13a3_11ec_88a9_2c6e85b37657row26_col5,#T_516d909e_13a3_11ec_88a9_2c6e85b37657row32_col5{\n",
       "            background-color:  #737373;\n",
       "            color:  #000000;\n",
       "        }#T_516d909e_13a3_11ec_88a9_2c6e85b37657row27_col4,#T_516d909e_13a3_11ec_88a9_2c6e85b37657row28_col4,#T_516d909e_13a3_11ec_88a9_2c6e85b37657row32_col4{\n",
       "            background-color:  #faf9fc;\n",
       "            color:  #000000;\n",
       "        }#T_516d909e_13a3_11ec_88a9_2c6e85b37657row27_col5,#T_516d909e_13a3_11ec_88a9_2c6e85b37657row43_col5{\n",
       "            background-color:  #727272;\n",
       "            color:  #000000;\n",
       "        }#T_516d909e_13a3_11ec_88a9_2c6e85b37657row28_col1{\n",
       "            background-color:  #fff1ea;\n",
       "            color:  #000000;\n",
       "        }#T_516d909e_13a3_11ec_88a9_2c6e85b37657row28_col3{\n",
       "            background-color:  #f4fbf1;\n",
       "            color:  #000000;\n",
       "        }#T_516d909e_13a3_11ec_88a9_2c6e85b37657row28_col5{\n",
       "            background-color:  #656565;\n",
       "            color:  #f1f1f1;\n",
       "        }#T_516d909e_13a3_11ec_88a9_2c6e85b37657row29_col1,#T_516d909e_13a3_11ec_88a9_2c6e85b37657row30_col1{\n",
       "            background-color:  #fff2ec;\n",
       "            color:  #000000;\n",
       "        }#T_516d909e_13a3_11ec_88a9_2c6e85b37657row29_col2,#T_516d909e_13a3_11ec_88a9_2c6e85b37657row30_col2{\n",
       "            background-color:  #f5f9fe;\n",
       "            color:  #000000;\n",
       "        }#T_516d909e_13a3_11ec_88a9_2c6e85b37657row29_col3,#T_516d909e_13a3_11ec_88a9_2c6e85b37657row30_col3{\n",
       "            background-color:  #f5fbf2;\n",
       "            color:  #000000;\n",
       "        }#T_516d909e_13a3_11ec_88a9_2c6e85b37657row29_col4,#T_516d909e_13a3_11ec_88a9_2c6e85b37657row31_col4,#T_516d909e_13a3_11ec_88a9_2c6e85b37657row34_col4,#T_516d909e_13a3_11ec_88a9_2c6e85b37657row37_col4{\n",
       "            background-color:  #fbfafc;\n",
       "            color:  #000000;\n",
       "        }#T_516d909e_13a3_11ec_88a9_2c6e85b37657row30_col5{\n",
       "            background-color:  #7f7f7f;\n",
       "            color:  #000000;\n",
       "        }#T_516d909e_13a3_11ec_88a9_2c6e85b37657row30_col6,#T_516d909e_13a3_11ec_88a9_2c6e85b37657row32_col6{\n",
       "            background-color:  #973003;\n",
       "            color:  #f1f1f1;\n",
       "        }#T_516d909e_13a3_11ec_88a9_2c6e85b37657row31_col1{\n",
       "            background-color:  #fff3ed;\n",
       "            color:  #000000;\n",
       "        }#T_516d909e_13a3_11ec_88a9_2c6e85b37657row31_col2,#T_516d909e_13a3_11ec_88a9_2c6e85b37657row33_col2,#T_516d909e_13a3_11ec_88a9_2c6e85b37657row36_col2{\n",
       "            background-color:  #f6faff;\n",
       "            color:  #000000;\n",
       "        }#T_516d909e_13a3_11ec_88a9_2c6e85b37657row31_col3{\n",
       "            background-color:  #f5fbf3;\n",
       "            color:  #000000;\n",
       "        }#T_516d909e_13a3_11ec_88a9_2c6e85b37657row31_col5{\n",
       "            background-color:  #c2c2c2;\n",
       "            color:  #000000;\n",
       "        }#T_516d909e_13a3_11ec_88a9_2c6e85b37657row31_col6{\n",
       "            background-color:  #892b04;\n",
       "            color:  #f1f1f1;\n",
       "        }#T_516d909e_13a3_11ec_88a9_2c6e85b37657row32_col1,#T_516d909e_13a3_11ec_88a9_2c6e85b37657row33_col1,#T_516d909e_13a3_11ec_88a9_2c6e85b37657row34_col1{\n",
       "            background-color:  #fff4ee;\n",
       "            color:  #000000;\n",
       "        }#T_516d909e_13a3_11ec_88a9_2c6e85b37657row32_col2{\n",
       "            background-color:  #f5fafe;\n",
       "            color:  #000000;\n",
       "        }#T_516d909e_13a3_11ec_88a9_2c6e85b37657row32_col3,#T_516d909e_13a3_11ec_88a9_2c6e85b37657row33_col3,#T_516d909e_13a3_11ec_88a9_2c6e85b37657row34_col3,#T_516d909e_13a3_11ec_88a9_2c6e85b37657row35_col3,#T_516d909e_13a3_11ec_88a9_2c6e85b37657row36_col3,#T_516d909e_13a3_11ec_88a9_2c6e85b37657row37_col3{\n",
       "            background-color:  #f6fcf4;\n",
       "            color:  #000000;\n",
       "        }#T_516d909e_13a3_11ec_88a9_2c6e85b37657row33_col4,#T_516d909e_13a3_11ec_88a9_2c6e85b37657row36_col4,#T_516d909e_13a3_11ec_88a9_2c6e85b37657row38_col4,#T_516d909e_13a3_11ec_88a9_2c6e85b37657row39_col4,#T_516d909e_13a3_11ec_88a9_2c6e85b37657row40_col4,#T_516d909e_13a3_11ec_88a9_2c6e85b37657row41_col4,#T_516d909e_13a3_11ec_88a9_2c6e85b37657row43_col4,#T_516d909e_13a3_11ec_88a9_2c6e85b37657row44_col4,#T_516d909e_13a3_11ec_88a9_2c6e85b37657row45_col4{\n",
       "            background-color:  #fcfbfd;\n",
       "            color:  #000000;\n",
       "        }#T_516d909e_13a3_11ec_88a9_2c6e85b37657row33_col5{\n",
       "            background-color:  #9c9c9c;\n",
       "            color:  #000000;\n",
       "        }#T_516d909e_13a3_11ec_88a9_2c6e85b37657row34_col2,#T_516d909e_13a3_11ec_88a9_2c6e85b37657row35_col2,#T_516d909e_13a3_11ec_88a9_2c6e85b37657row37_col2,#T_516d909e_13a3_11ec_88a9_2c6e85b37657row38_col2,#T_516d909e_13a3_11ec_88a9_2c6e85b37657row39_col2,#T_516d909e_13a3_11ec_88a9_2c6e85b37657row40_col2,#T_516d909e_13a3_11ec_88a9_2c6e85b37657row41_col2,#T_516d909e_13a3_11ec_88a9_2c6e85b37657row42_col2,#T_516d909e_13a3_11ec_88a9_2c6e85b37657row43_col2,#T_516d909e_13a3_11ec_88a9_2c6e85b37657row44_col2,#T_516d909e_13a3_11ec_88a9_2c6e85b37657row45_col2{\n",
       "            background-color:  #f7fbff;\n",
       "            color:  #000000;\n",
       "        }#T_516d909e_13a3_11ec_88a9_2c6e85b37657row34_col5{\n",
       "            background-color:  #e6e6e6;\n",
       "            color:  #000000;\n",
       "        }#T_516d909e_13a3_11ec_88a9_2c6e85b37657row35_col1,#T_516d909e_13a3_11ec_88a9_2c6e85b37657row36_col1,#T_516d909e_13a3_11ec_88a9_2c6e85b37657row37_col1{\n",
       "            background-color:  #fff4ef;\n",
       "            color:  #000000;\n",
       "        }#T_516d909e_13a3_11ec_88a9_2c6e85b37657row35_col4{\n",
       "            background-color:  #f8f7fb;\n",
       "            color:  #000000;\n",
       "        }#T_516d909e_13a3_11ec_88a9_2c6e85b37657row35_col5{\n",
       "            background-color:  #eeeeee;\n",
       "            color:  #000000;\n",
       "        }#T_516d909e_13a3_11ec_88a9_2c6e85b37657row35_col6{\n",
       "            background-color:  #dd4d04;\n",
       "            color:  #f1f1f1;\n",
       "        }#T_516d909e_13a3_11ec_88a9_2c6e85b37657row36_col5{\n",
       "            background-color:  #525252;\n",
       "            color:  #f1f1f1;\n",
       "        }#T_516d909e_13a3_11ec_88a9_2c6e85b37657row36_col6{\n",
       "            background-color:  #942f03;\n",
       "            color:  #f1f1f1;\n",
       "        }#T_516d909e_13a3_11ec_88a9_2c6e85b37657row37_col5{\n",
       "            background-color:  #a0a0a0;\n",
       "            color:  #000000;\n",
       "        }#T_516d909e_13a3_11ec_88a9_2c6e85b37657row37_col6{\n",
       "            background-color:  #9f3303;\n",
       "            color:  #f1f1f1;\n",
       "        }#T_516d909e_13a3_11ec_88a9_2c6e85b37657row38_col1,#T_516d909e_13a3_11ec_88a9_2c6e85b37657row39_col1,#T_516d909e_13a3_11ec_88a9_2c6e85b37657row40_col1,#T_516d909e_13a3_11ec_88a9_2c6e85b37657row41_col1,#T_516d909e_13a3_11ec_88a9_2c6e85b37657row42_col1,#T_516d909e_13a3_11ec_88a9_2c6e85b37657row43_col1,#T_516d909e_13a3_11ec_88a9_2c6e85b37657row44_col1,#T_516d909e_13a3_11ec_88a9_2c6e85b37657row45_col1{\n",
       "            background-color:  #fff5f0;\n",
       "            color:  #000000;\n",
       "        }#T_516d909e_13a3_11ec_88a9_2c6e85b37657row38_col3,#T_516d909e_13a3_11ec_88a9_2c6e85b37657row39_col3,#T_516d909e_13a3_11ec_88a9_2c6e85b37657row40_col3,#T_516d909e_13a3_11ec_88a9_2c6e85b37657row41_col3,#T_516d909e_13a3_11ec_88a9_2c6e85b37657row42_col3,#T_516d909e_13a3_11ec_88a9_2c6e85b37657row43_col3,#T_516d909e_13a3_11ec_88a9_2c6e85b37657row44_col3,#T_516d909e_13a3_11ec_88a9_2c6e85b37657row45_col3{\n",
       "            background-color:  #f7fcf5;\n",
       "            color:  #000000;\n",
       "        }#T_516d909e_13a3_11ec_88a9_2c6e85b37657row38_col5{\n",
       "            background-color:  #bebebe;\n",
       "            color:  #000000;\n",
       "        }#T_516d909e_13a3_11ec_88a9_2c6e85b37657row39_col5,#T_516d909e_13a3_11ec_88a9_2c6e85b37657row40_col5{\n",
       "            background-color:  #fefefe;\n",
       "            color:  #000000;\n",
       "        }#T_516d909e_13a3_11ec_88a9_2c6e85b37657row39_col6{\n",
       "            background-color:  #7f2704;\n",
       "            color:  #f1f1f1;\n",
       "        }#T_516d909e_13a3_11ec_88a9_2c6e85b37657row42_col5,#T_516d909e_13a3_11ec_88a9_2c6e85b37657row44_col5,#T_516d909e_13a3_11ec_88a9_2c6e85b37657row45_col5{\n",
       "            background-color:  #ffffff;\n",
       "            color:  #000000;\n",
       "        }#T_516d909e_13a3_11ec_88a9_2c6e85b37657row42_col6,#T_516d909e_13a3_11ec_88a9_2c6e85b37657row44_col6,#T_516d909e_13a3_11ec_88a9_2c6e85b37657row45_col6{\n",
       "            background-color:  #fff5eb;\n",
       "            color:  #000000;\n",
       "        }</style><table id=\"T_516d909e_13a3_11ec_88a9_2c6e85b37657\" ><thead>    <tr>        <th class=\"blank level0\" ></th>        <th class=\"col_heading level0 col0\" >State/UnionTerritory</th>        <th class=\"col_heading level0 col1\" >Confirmed</th>        <th class=\"col_heading level0 col2\" >Deaths</th>        <th class=\"col_heading level0 col3\" >Cured</th>        <th class=\"col_heading level0 col4\" >Active</th>        <th class=\"col_heading level0 col5\" >Death Rate (per 100)</th>        <th class=\"col_heading level0 col6\" >Cure Rate (per 100)</th>    </tr></thead><tbody>\n",
       "                <tr>\n",
       "                        <th id=\"T_516d909e_13a3_11ec_88a9_2c6e85b37657level0_row0\" class=\"row_heading level0 row0\" >27</th>\n",
       "                        <td id=\"T_516d909e_13a3_11ec_88a9_2c6e85b37657row0_col0\" class=\"data row0 col0\" >Maharashtra</td>\n",
       "                        <td id=\"T_516d909e_13a3_11ec_88a9_2c6e85b37657row0_col1\" class=\"data row0 col1\" >6363442</td>\n",
       "                        <td id=\"T_516d909e_13a3_11ec_88a9_2c6e85b37657row0_col2\" class=\"data row0 col2\" >134201</td>\n",
       "                        <td id=\"T_516d909e_13a3_11ec_88a9_2c6e85b37657row0_col3\" class=\"data row0 col3\" >6159676</td>\n",
       "                        <td id=\"T_516d909e_13a3_11ec_88a9_2c6e85b37657row0_col4\" class=\"data row0 col4\" >337967</td>\n",
       "                        <td id=\"T_516d909e_13a3_11ec_88a9_2c6e85b37657row0_col5\" class=\"data row0 col5\" >2.110000</td>\n",
       "                        <td id=\"T_516d909e_13a3_11ec_88a9_2c6e85b37657row0_col6\" class=\"data row0 col6\" >96.800000</td>\n",
       "            </tr>\n",
       "            <tr>\n",
       "                        <th id=\"T_516d909e_13a3_11ec_88a9_2c6e85b37657level0_row1\" class=\"row_heading level0 row1\" >28</th>\n",
       "                        <td id=\"T_516d909e_13a3_11ec_88a9_2c6e85b37657row1_col0\" class=\"data row1 col0\" >Maharashtra***</td>\n",
       "                        <td id=\"T_516d909e_13a3_11ec_88a9_2c6e85b37657row1_col1\" class=\"data row1 col1\" >6229596</td>\n",
       "                        <td id=\"T_516d909e_13a3_11ec_88a9_2c6e85b37657row1_col2\" class=\"data row1 col2\" >130753</td>\n",
       "                        <td id=\"T_516d909e_13a3_11ec_88a9_2c6e85b37657row1_col3\" class=\"data row1 col3\" >6000911</td>\n",
       "                        <td id=\"T_516d909e_13a3_11ec_88a9_2c6e85b37657row1_col4\" class=\"data row1 col4\" >359438</td>\n",
       "                        <td id=\"T_516d909e_13a3_11ec_88a9_2c6e85b37657row1_col5\" class=\"data row1 col5\" >2.100000</td>\n",
       "                        <td id=\"T_516d909e_13a3_11ec_88a9_2c6e85b37657row1_col6\" class=\"data row1 col6\" >96.330000</td>\n",
       "            </tr>\n",
       "            <tr>\n",
       "                        <th id=\"T_516d909e_13a3_11ec_88a9_2c6e85b37657level0_row2\" class=\"row_heading level0 row2\" >22</th>\n",
       "                        <td id=\"T_516d909e_13a3_11ec_88a9_2c6e85b37657row2_col0\" class=\"data row2 col0\" >Kerala</td>\n",
       "                        <td id=\"T_516d909e_13a3_11ec_88a9_2c6e85b37657row2_col1\" class=\"data row2 col1\" >3586693</td>\n",
       "                        <td id=\"T_516d909e_13a3_11ec_88a9_2c6e85b37657row2_col2\" class=\"data row2 col2\" >18004</td>\n",
       "                        <td id=\"T_516d909e_13a3_11ec_88a9_2c6e85b37657row2_col3\" class=\"data row2 col3\" >3396184</td>\n",
       "                        <td id=\"T_516d909e_13a3_11ec_88a9_2c6e85b37657row2_col4\" class=\"data row2 col4\" >208513</td>\n",
       "                        <td id=\"T_516d909e_13a3_11ec_88a9_2c6e85b37657row2_col5\" class=\"data row2 col5\" >0.500000</td>\n",
       "                        <td id=\"T_516d909e_13a3_11ec_88a9_2c6e85b37657row2_col6\" class=\"data row2 col6\" >94.690000</td>\n",
       "            </tr>\n",
       "            <tr>\n",
       "                        <th id=\"T_516d909e_13a3_11ec_88a9_2c6e85b37657level0_row3\" class=\"row_heading level0 row3\" >21</th>\n",
       "                        <td id=\"T_516d909e_13a3_11ec_88a9_2c6e85b37657row3_col0\" class=\"data row3 col0\" >Karnataka</td>\n",
       "                        <td id=\"T_516d909e_13a3_11ec_88a9_2c6e85b37657row3_col1\" class=\"data row3 col1\" >2921049</td>\n",
       "                        <td id=\"T_516d909e_13a3_11ec_88a9_2c6e85b37657row3_col2\" class=\"data row3 col2\" >36848</td>\n",
       "                        <td id=\"T_516d909e_13a3_11ec_88a9_2c6e85b37657row3_col3\" class=\"data row3 col3\" >2861499</td>\n",
       "                        <td id=\"T_516d909e_13a3_11ec_88a9_2c6e85b37657row3_col4\" class=\"data row3 col4\" >96398</td>\n",
       "                        <td id=\"T_516d909e_13a3_11ec_88a9_2c6e85b37657row3_col5\" class=\"data row3 col5\" >1.260000</td>\n",
       "                        <td id=\"T_516d909e_13a3_11ec_88a9_2c6e85b37657row3_col6\" class=\"data row3 col6\" >97.960000</td>\n",
       "            </tr>\n",
       "            <tr>\n",
       "                        <th id=\"T_516d909e_13a3_11ec_88a9_2c6e85b37657level0_row4\" class=\"row_heading level0 row4\" >20</th>\n",
       "                        <td id=\"T_516d909e_13a3_11ec_88a9_2c6e85b37657row4_col0\" class=\"data row4 col0\" >Karanataka</td>\n",
       "                        <td id=\"T_516d909e_13a3_11ec_88a9_2c6e85b37657row4_col1\" class=\"data row4 col1\" >2885238</td>\n",
       "                        <td id=\"T_516d909e_13a3_11ec_88a9_2c6e85b37657row4_col2\" class=\"data row4 col2\" >36197</td>\n",
       "                        <td id=\"T_516d909e_13a3_11ec_88a9_2c6e85b37657row4_col3\" class=\"data row4 col3\" >2821491</td>\n",
       "                        <td id=\"T_516d909e_13a3_11ec_88a9_2c6e85b37657row4_col4\" class=\"data row4 col4\" >99944</td>\n",
       "                        <td id=\"T_516d909e_13a3_11ec_88a9_2c6e85b37657row4_col5\" class=\"data row4 col5\" >1.250000</td>\n",
       "                        <td id=\"T_516d909e_13a3_11ec_88a9_2c6e85b37657row4_col6\" class=\"data row4 col6\" >97.790000</td>\n",
       "            </tr>\n",
       "            <tr>\n",
       "                        <th id=\"T_516d909e_13a3_11ec_88a9_2c6e85b37657level0_row5\" class=\"row_heading level0 row5\" >38</th>\n",
       "                        <td id=\"T_516d909e_13a3_11ec_88a9_2c6e85b37657row5_col0\" class=\"data row5 col0\" >Tamil Nadu</td>\n",
       "                        <td id=\"T_516d909e_13a3_11ec_88a9_2c6e85b37657row5_col1\" class=\"data row5 col1\" >2579130</td>\n",
       "                        <td id=\"T_516d909e_13a3_11ec_88a9_2c6e85b37657row5_col2\" class=\"data row5 col2\" >34367</td>\n",
       "                        <td id=\"T_516d909e_13a3_11ec_88a9_2c6e85b37657row5_col3\" class=\"data row5 col3\" >2524400</td>\n",
       "                        <td id=\"T_516d909e_13a3_11ec_88a9_2c6e85b37657row5_col4\" class=\"data row5 col4\" >89097</td>\n",
       "                        <td id=\"T_516d909e_13a3_11ec_88a9_2c6e85b37657row5_col5\" class=\"data row5 col5\" >1.330000</td>\n",
       "                        <td id=\"T_516d909e_13a3_11ec_88a9_2c6e85b37657row5_col6\" class=\"data row5 col6\" >97.880000</td>\n",
       "            </tr>\n",
       "            <tr>\n",
       "                        <th id=\"T_516d909e_13a3_11ec_88a9_2c6e85b37657level0_row6\" class=\"row_heading level0 row6\" >1</th>\n",
       "                        <td id=\"T_516d909e_13a3_11ec_88a9_2c6e85b37657row6_col0\" class=\"data row6 col0\" >Andhra Pradesh</td>\n",
       "                        <td id=\"T_516d909e_13a3_11ec_88a9_2c6e85b37657row6_col1\" class=\"data row6 col1\" >1985182</td>\n",
       "                        <td id=\"T_516d909e_13a3_11ec_88a9_2c6e85b37657row6_col2\" class=\"data row6 col2\" >13564</td>\n",
       "                        <td id=\"T_516d909e_13a3_11ec_88a9_2c6e85b37657row6_col3\" class=\"data row6 col3\" >1952736</td>\n",
       "                        <td id=\"T_516d909e_13a3_11ec_88a9_2c6e85b37657row6_col4\" class=\"data row6 col4\" >46010</td>\n",
       "                        <td id=\"T_516d909e_13a3_11ec_88a9_2c6e85b37657row6_col5\" class=\"data row6 col5\" >0.680000</td>\n",
       "                        <td id=\"T_516d909e_13a3_11ec_88a9_2c6e85b37657row6_col6\" class=\"data row6 col6\" >98.370000</td>\n",
       "            </tr>\n",
       "            <tr>\n",
       "                        <th id=\"T_516d909e_13a3_11ec_88a9_2c6e85b37657level0_row7\" class=\"row_heading level0 row7\" >43</th>\n",
       "                        <td id=\"T_516d909e_13a3_11ec_88a9_2c6e85b37657row7_col0\" class=\"data row7 col0\" >Uttar Pradesh</td>\n",
       "                        <td id=\"T_516d909e_13a3_11ec_88a9_2c6e85b37657row7_col1\" class=\"data row7 col1\" >1708812</td>\n",
       "                        <td id=\"T_516d909e_13a3_11ec_88a9_2c6e85b37657row7_col2\" class=\"data row7 col2\" >22775</td>\n",
       "                        <td id=\"T_516d909e_13a3_11ec_88a9_2c6e85b37657row7_col3\" class=\"data row7 col3\" >1685492</td>\n",
       "                        <td id=\"T_516d909e_13a3_11ec_88a9_2c6e85b37657row7_col4\" class=\"data row7 col4\" >46095</td>\n",
       "                        <td id=\"T_516d909e_13a3_11ec_88a9_2c6e85b37657row7_col5\" class=\"data row7 col5\" >1.330000</td>\n",
       "                        <td id=\"T_516d909e_13a3_11ec_88a9_2c6e85b37657row7_col6\" class=\"data row7 col6\" >98.640000</td>\n",
       "            </tr>\n",
       "            <tr>\n",
       "                        <th id=\"T_516d909e_13a3_11ec_88a9_2c6e85b37657level0_row8\" class=\"row_heading level0 row8\" >45</th>\n",
       "                        <td id=\"T_516d909e_13a3_11ec_88a9_2c6e85b37657row8_col0\" class=\"data row8 col0\" >West Bengal</td>\n",
       "                        <td id=\"T_516d909e_13a3_11ec_88a9_2c6e85b37657row8_col1\" class=\"data row8 col1\" >1534999</td>\n",
       "                        <td id=\"T_516d909e_13a3_11ec_88a9_2c6e85b37657row8_col2\" class=\"data row8 col2\" >18252</td>\n",
       "                        <td id=\"T_516d909e_13a3_11ec_88a9_2c6e85b37657row8_col3\" class=\"data row8 col3\" >1506532</td>\n",
       "                        <td id=\"T_516d909e_13a3_11ec_88a9_2c6e85b37657row8_col4\" class=\"data row8 col4\" >46719</td>\n",
       "                        <td id=\"T_516d909e_13a3_11ec_88a9_2c6e85b37657row8_col5\" class=\"data row8 col5\" >1.190000</td>\n",
       "                        <td id=\"T_516d909e_13a3_11ec_88a9_2c6e85b37657row8_col6\" class=\"data row8 col6\" >98.150000</td>\n",
       "            </tr>\n",
       "            <tr>\n",
       "                        <th id=\"T_516d909e_13a3_11ec_88a9_2c6e85b37657level0_row9\" class=\"row_heading level0 row9\" >12</th>\n",
       "                        <td id=\"T_516d909e_13a3_11ec_88a9_2c6e85b37657row9_col0\" class=\"data row9 col0\" >Delhi</td>\n",
       "                        <td id=\"T_516d909e_13a3_11ec_88a9_2c6e85b37657row9_col1\" class=\"data row9 col1\" >1436852</td>\n",
       "                        <td id=\"T_516d909e_13a3_11ec_88a9_2c6e85b37657row9_col2\" class=\"data row9 col2\" >25068</td>\n",
       "                        <td id=\"T_516d909e_13a3_11ec_88a9_2c6e85b37657row9_col3\" class=\"data row9 col3\" >1411280</td>\n",
       "                        <td id=\"T_516d909e_13a3_11ec_88a9_2c6e85b37657row9_col4\" class=\"data row9 col4\" >50640</td>\n",
       "                        <td id=\"T_516d909e_13a3_11ec_88a9_2c6e85b37657row9_col5\" class=\"data row9 col5\" >1.740000</td>\n",
       "                        <td id=\"T_516d909e_13a3_11ec_88a9_2c6e85b37657row9_col6\" class=\"data row9 col6\" >98.220000</td>\n",
       "            </tr>\n",
       "            <tr>\n",
       "                        <th id=\"T_516d909e_13a3_11ec_88a9_2c6e85b37657level0_row10\" class=\"row_heading level0 row10\" >8</th>\n",
       "                        <td id=\"T_516d909e_13a3_11ec_88a9_2c6e85b37657row10_col0\" class=\"data row10 col0\" >Chhattisgarh</td>\n",
       "                        <td id=\"T_516d909e_13a3_11ec_88a9_2c6e85b37657row10_col1\" class=\"data row10 col1\" >1003356</td>\n",
       "                        <td id=\"T_516d909e_13a3_11ec_88a9_2c6e85b37657row10_col2\" class=\"data row10 col2\" >13544</td>\n",
       "                        <td id=\"T_516d909e_13a3_11ec_88a9_2c6e85b37657row10_col3\" class=\"data row10 col3\" >988189</td>\n",
       "                        <td id=\"T_516d909e_13a3_11ec_88a9_2c6e85b37657row10_col4\" class=\"data row10 col4\" >28711</td>\n",
       "                        <td id=\"T_516d909e_13a3_11ec_88a9_2c6e85b37657row10_col5\" class=\"data row10 col5\" >1.350000</td>\n",
       "                        <td id=\"T_516d909e_13a3_11ec_88a9_2c6e85b37657row10_col6\" class=\"data row10 col6\" >98.490000</td>\n",
       "            </tr>\n",
       "            <tr>\n",
       "                        <th id=\"T_516d909e_13a3_11ec_88a9_2c6e85b37657level0_row11\" class=\"row_heading level0 row11\" >33</th>\n",
       "                        <td id=\"T_516d909e_13a3_11ec_88a9_2c6e85b37657row11_col0\" class=\"data row11 col0\" >Odisha</td>\n",
       "                        <td id=\"T_516d909e_13a3_11ec_88a9_2c6e85b37657row11_col1\" class=\"data row11 col1\" >988997</td>\n",
       "                        <td id=\"T_516d909e_13a3_11ec_88a9_2c6e85b37657row11_col2\" class=\"data row11 col2\" >6565</td>\n",
       "                        <td id=\"T_516d909e_13a3_11ec_88a9_2c6e85b37657row11_col3\" class=\"data row11 col3\" >972710</td>\n",
       "                        <td id=\"T_516d909e_13a3_11ec_88a9_2c6e85b37657row11_col4\" class=\"data row11 col4\" >22852</td>\n",
       "                        <td id=\"T_516d909e_13a3_11ec_88a9_2c6e85b37657row11_col5\" class=\"data row11 col5\" >0.660000</td>\n",
       "                        <td id=\"T_516d909e_13a3_11ec_88a9_2c6e85b37657row11_col6\" class=\"data row11 col6\" >98.350000</td>\n",
       "            </tr>\n",
       "            <tr>\n",
       "                        <th id=\"T_516d909e_13a3_11ec_88a9_2c6e85b37657level0_row12\" class=\"row_heading level0 row12\" >36</th>\n",
       "                        <td id=\"T_516d909e_13a3_11ec_88a9_2c6e85b37657row12_col0\" class=\"data row12 col0\" >Rajasthan</td>\n",
       "                        <td id=\"T_516d909e_13a3_11ec_88a9_2c6e85b37657row12_col1\" class=\"data row12 col1\" >953851</td>\n",
       "                        <td id=\"T_516d909e_13a3_11ec_88a9_2c6e85b37657row12_col2\" class=\"data row12 col2\" >8954</td>\n",
       "                        <td id=\"T_516d909e_13a3_11ec_88a9_2c6e85b37657row12_col3\" class=\"data row12 col3\" >944700</td>\n",
       "                        <td id=\"T_516d909e_13a3_11ec_88a9_2c6e85b37657row12_col4\" class=\"data row12 col4\" >18105</td>\n",
       "                        <td id=\"T_516d909e_13a3_11ec_88a9_2c6e85b37657row12_col5\" class=\"data row12 col5\" >0.940000</td>\n",
       "                        <td id=\"T_516d909e_13a3_11ec_88a9_2c6e85b37657row12_col6\" class=\"data row12 col6\" >99.040000</td>\n",
       "            </tr>\n",
       "            <tr>\n",
       "                        <th id=\"T_516d909e_13a3_11ec_88a9_2c6e85b37657level0_row13\" class=\"row_heading level0 row13\" >14</th>\n",
       "                        <td id=\"T_516d909e_13a3_11ec_88a9_2c6e85b37657row13_col0\" class=\"data row13 col0\" >Gujarat</td>\n",
       "                        <td id=\"T_516d909e_13a3_11ec_88a9_2c6e85b37657row13_col1\" class=\"data row13 col1\" >825085</td>\n",
       "                        <td id=\"T_516d909e_13a3_11ec_88a9_2c6e85b37657row13_col2\" class=\"data row13 col2\" >10077</td>\n",
       "                        <td id=\"T_516d909e_13a3_11ec_88a9_2c6e85b37657row13_col3\" class=\"data row13 col3\" >814802</td>\n",
       "                        <td id=\"T_516d909e_13a3_11ec_88a9_2c6e85b37657row13_col4\" class=\"data row13 col4\" >20360</td>\n",
       "                        <td id=\"T_516d909e_13a3_11ec_88a9_2c6e85b37657row13_col5\" class=\"data row13 col5\" >1.220000</td>\n",
       "                        <td id=\"T_516d909e_13a3_11ec_88a9_2c6e85b37657row13_col6\" class=\"data row13 col6\" >98.750000</td>\n",
       "            </tr>\n",
       "            <tr>\n",
       "                        <th id=\"T_516d909e_13a3_11ec_88a9_2c6e85b37657level0_row14\" class=\"row_heading level0 row14\" >25</th>\n",
       "                        <td id=\"T_516d909e_13a3_11ec_88a9_2c6e85b37657row14_col0\" class=\"data row14 col0\" >Madhya Pradesh</td>\n",
       "                        <td id=\"T_516d909e_13a3_11ec_88a9_2c6e85b37657row14_col1\" class=\"data row14 col1\" >791980</td>\n",
       "                        <td id=\"T_516d909e_13a3_11ec_88a9_2c6e85b37657row14_col2\" class=\"data row14 col2\" >10514</td>\n",
       "                        <td id=\"T_516d909e_13a3_11ec_88a9_2c6e85b37657row14_col3\" class=\"data row14 col3\" >781330</td>\n",
       "                        <td id=\"T_516d909e_13a3_11ec_88a9_2c6e85b37657row14_col4\" class=\"data row14 col4\" >21164</td>\n",
       "                        <td id=\"T_516d909e_13a3_11ec_88a9_2c6e85b37657row14_col5\" class=\"data row14 col5\" >1.330000</td>\n",
       "                        <td id=\"T_516d909e_13a3_11ec_88a9_2c6e85b37657row14_col6\" class=\"data row14 col6\" >98.660000</td>\n",
       "            </tr>\n",
       "            <tr>\n",
       "                        <th id=\"T_516d909e_13a3_11ec_88a9_2c6e85b37657level0_row15\" class=\"row_heading level0 row15\" >26</th>\n",
       "                        <td id=\"T_516d909e_13a3_11ec_88a9_2c6e85b37657row15_col0\" class=\"data row15 col0\" >Madhya Pradesh***</td>\n",
       "                        <td id=\"T_516d909e_13a3_11ec_88a9_2c6e85b37657row15_col1\" class=\"data row15 col1\" >791656</td>\n",
       "                        <td id=\"T_516d909e_13a3_11ec_88a9_2c6e85b37657row15_col2\" class=\"data row15 col2\" >10506</td>\n",
       "                        <td id=\"T_516d909e_13a3_11ec_88a9_2c6e85b37657row15_col3\" class=\"data row15 col3\" >780735</td>\n",
       "                        <td id=\"T_516d909e_13a3_11ec_88a9_2c6e85b37657row15_col4\" class=\"data row15 col4\" >21427</td>\n",
       "                        <td id=\"T_516d909e_13a3_11ec_88a9_2c6e85b37657row15_col5\" class=\"data row15 col5\" >1.330000</td>\n",
       "                        <td id=\"T_516d909e_13a3_11ec_88a9_2c6e85b37657row15_col6\" class=\"data row15 col6\" >98.620000</td>\n",
       "            </tr>\n",
       "            <tr>\n",
       "                        <th id=\"T_516d909e_13a3_11ec_88a9_2c6e85b37657level0_row16\" class=\"row_heading level0 row16\" >15</th>\n",
       "                        <td id=\"T_516d909e_13a3_11ec_88a9_2c6e85b37657row16_col0\" class=\"data row16 col0\" >Haryana</td>\n",
       "                        <td id=\"T_516d909e_13a3_11ec_88a9_2c6e85b37657row16_col1\" class=\"data row16 col1\" >770114</td>\n",
       "                        <td id=\"T_516d909e_13a3_11ec_88a9_2c6e85b37657row16_col2\" class=\"data row16 col2\" >9652</td>\n",
       "                        <td id=\"T_516d909e_13a3_11ec_88a9_2c6e85b37657row16_col3\" class=\"data row16 col3\" >759790</td>\n",
       "                        <td id=\"T_516d909e_13a3_11ec_88a9_2c6e85b37657row16_col4\" class=\"data row16 col4\" >19976</td>\n",
       "                        <td id=\"T_516d909e_13a3_11ec_88a9_2c6e85b37657row16_col5\" class=\"data row16 col5\" >1.250000</td>\n",
       "                        <td id=\"T_516d909e_13a3_11ec_88a9_2c6e85b37657row16_col6\" class=\"data row16 col6\" >98.660000</td>\n",
       "            </tr>\n",
       "            <tr>\n",
       "                        <th id=\"T_516d909e_13a3_11ec_88a9_2c6e85b37657level0_row17\" class=\"row_heading level0 row17\" >4</th>\n",
       "                        <td id=\"T_516d909e_13a3_11ec_88a9_2c6e85b37657row17_col0\" class=\"data row17 col0\" >Bihar</td>\n",
       "                        <td id=\"T_516d909e_13a3_11ec_88a9_2c6e85b37657row17_col1\" class=\"data row17 col1\" >725279</td>\n",
       "                        <td id=\"T_516d909e_13a3_11ec_88a9_2c6e85b37657row17_col2\" class=\"data row17 col2\" >9646</td>\n",
       "                        <td id=\"T_516d909e_13a3_11ec_88a9_2c6e85b37657row17_col3\" class=\"data row17 col3\" >715352</td>\n",
       "                        <td id=\"T_516d909e_13a3_11ec_88a9_2c6e85b37657row17_col4\" class=\"data row17 col4\" >19573</td>\n",
       "                        <td id=\"T_516d909e_13a3_11ec_88a9_2c6e85b37657row17_col5\" class=\"data row17 col5\" >1.330000</td>\n",
       "                        <td id=\"T_516d909e_13a3_11ec_88a9_2c6e85b37657row17_col6\" class=\"data row17 col6\" >98.630000</td>\n",
       "            </tr>\n",
       "            <tr>\n",
       "                        <th id=\"T_516d909e_13a3_11ec_88a9_2c6e85b37657level0_row18\" class=\"row_heading level0 row18\" >5</th>\n",
       "                        <td id=\"T_516d909e_13a3_11ec_88a9_2c6e85b37657row18_col0\" class=\"data row18 col0\" >Bihar****</td>\n",
       "                        <td id=\"T_516d909e_13a3_11ec_88a9_2c6e85b37657row18_col1\" class=\"data row18 col1\" >715730</td>\n",
       "                        <td id=\"T_516d909e_13a3_11ec_88a9_2c6e85b37657row18_col2\" class=\"data row18 col2\" >9452</td>\n",
       "                        <td id=\"T_516d909e_13a3_11ec_88a9_2c6e85b37657row18_col3\" class=\"data row18 col3\" >701234</td>\n",
       "                        <td id=\"T_516d909e_13a3_11ec_88a9_2c6e85b37657row18_col4\" class=\"data row18 col4\" >23948</td>\n",
       "                        <td id=\"T_516d909e_13a3_11ec_88a9_2c6e85b37657row18_col5\" class=\"data row18 col5\" >1.320000</td>\n",
       "                        <td id=\"T_516d909e_13a3_11ec_88a9_2c6e85b37657row18_col6\" class=\"data row18 col6\" >97.970000</td>\n",
       "            </tr>\n",
       "            <tr>\n",
       "                        <th id=\"T_516d909e_13a3_11ec_88a9_2c6e85b37657level0_row19\" class=\"row_heading level0 row19\" >39</th>\n",
       "                        <td id=\"T_516d909e_13a3_11ec_88a9_2c6e85b37657row19_col0\" class=\"data row19 col0\" >Telangana</td>\n",
       "                        <td id=\"T_516d909e_13a3_11ec_88a9_2c6e85b37657row19_col1\" class=\"data row19 col1\" >650353</td>\n",
       "                        <td id=\"T_516d909e_13a3_11ec_88a9_2c6e85b37657row19_col2\" class=\"data row19 col2\" >3831</td>\n",
       "                        <td id=\"T_516d909e_13a3_11ec_88a9_2c6e85b37657row19_col3\" class=\"data row19 col3\" >638410</td>\n",
       "                        <td id=\"T_516d909e_13a3_11ec_88a9_2c6e85b37657row19_col4\" class=\"data row19 col4\" >15774</td>\n",
       "                        <td id=\"T_516d909e_13a3_11ec_88a9_2c6e85b37657row19_col5\" class=\"data row19 col5\" >0.590000</td>\n",
       "                        <td id=\"T_516d909e_13a3_11ec_88a9_2c6e85b37657row19_col6\" class=\"data row19 col6\" >98.160000</td>\n",
       "            </tr>\n",
       "            <tr>\n",
       "                        <th id=\"T_516d909e_13a3_11ec_88a9_2c6e85b37657level0_row20\" class=\"row_heading level0 row20\" >35</th>\n",
       "                        <td id=\"T_516d909e_13a3_11ec_88a9_2c6e85b37657row20_col0\" class=\"data row20 col0\" >Punjab</td>\n",
       "                        <td id=\"T_516d909e_13a3_11ec_88a9_2c6e85b37657row20_col1\" class=\"data row20 col1\" >599573</td>\n",
       "                        <td id=\"T_516d909e_13a3_11ec_88a9_2c6e85b37657row20_col2\" class=\"data row20 col2\" >16322</td>\n",
       "                        <td id=\"T_516d909e_13a3_11ec_88a9_2c6e85b37657row20_col3\" class=\"data row20 col3\" >582791</td>\n",
       "                        <td id=\"T_516d909e_13a3_11ec_88a9_2c6e85b37657row20_col4\" class=\"data row20 col4\" >33104</td>\n",
       "                        <td id=\"T_516d909e_13a3_11ec_88a9_2c6e85b37657row20_col5\" class=\"data row20 col5\" >2.720000</td>\n",
       "                        <td id=\"T_516d909e_13a3_11ec_88a9_2c6e85b37657row20_col6\" class=\"data row20 col6\" >97.200000</td>\n",
       "            </tr>\n",
       "            <tr>\n",
       "                        <th id=\"T_516d909e_13a3_11ec_88a9_2c6e85b37657level0_row21\" class=\"row_heading level0 row21\" >3</th>\n",
       "                        <td id=\"T_516d909e_13a3_11ec_88a9_2c6e85b37657row21_col0\" class=\"data row21 col0\" >Assam</td>\n",
       "                        <td id=\"T_516d909e_13a3_11ec_88a9_2c6e85b37657row21_col1\" class=\"data row21 col1\" >576149</td>\n",
       "                        <td id=\"T_516d909e_13a3_11ec_88a9_2c6e85b37657row21_col2\" class=\"data row21 col2\" >5420</td>\n",
       "                        <td id=\"T_516d909e_13a3_11ec_88a9_2c6e85b37657row21_col3\" class=\"data row21 col3\" >559684</td>\n",
       "                        <td id=\"T_516d909e_13a3_11ec_88a9_2c6e85b37657row21_col4\" class=\"data row21 col4\" >21885</td>\n",
       "                        <td id=\"T_516d909e_13a3_11ec_88a9_2c6e85b37657row21_col5\" class=\"data row21 col5\" >0.940000</td>\n",
       "                        <td id=\"T_516d909e_13a3_11ec_88a9_2c6e85b37657row21_col6\" class=\"data row21 col6\" >97.140000</td>\n",
       "            </tr>\n",
       "            <tr>\n",
       "                        <th id=\"T_516d909e_13a3_11ec_88a9_2c6e85b37657level0_row22\" class=\"row_heading level0 row22\" >40</th>\n",
       "                        <td id=\"T_516d909e_13a3_11ec_88a9_2c6e85b37657row22_col0\" class=\"data row22 col0\" >Telengana</td>\n",
       "                        <td id=\"T_516d909e_13a3_11ec_88a9_2c6e85b37657row22_col1\" class=\"data row22 col1\" >443360</td>\n",
       "                        <td id=\"T_516d909e_13a3_11ec_88a9_2c6e85b37657row22_col2\" class=\"data row22 col2\" >2312</td>\n",
       "                        <td id=\"T_516d909e_13a3_11ec_88a9_2c6e85b37657row22_col3\" class=\"data row22 col3\" >362160</td>\n",
       "                        <td id=\"T_516d909e_13a3_11ec_88a9_2c6e85b37657row22_col4\" class=\"data row22 col4\" >83512</td>\n",
       "                        <td id=\"T_516d909e_13a3_11ec_88a9_2c6e85b37657row22_col5\" class=\"data row22 col5\" >0.520000</td>\n",
       "                        <td id=\"T_516d909e_13a3_11ec_88a9_2c6e85b37657row22_col6\" class=\"data row22 col6\" >81.690000</td>\n",
       "            </tr>\n",
       "            <tr>\n",
       "                        <th id=\"T_516d909e_13a3_11ec_88a9_2c6e85b37657level0_row23\" class=\"row_heading level0 row23\" >19</th>\n",
       "                        <td id=\"T_516d909e_13a3_11ec_88a9_2c6e85b37657row23_col0\" class=\"data row23 col0\" >Jharkhand</td>\n",
       "                        <td id=\"T_516d909e_13a3_11ec_88a9_2c6e85b37657row23_col1\" class=\"data row23 col1\" >347440</td>\n",
       "                        <td id=\"T_516d909e_13a3_11ec_88a9_2c6e85b37657row23_col2\" class=\"data row23 col2\" >5130</td>\n",
       "                        <td id=\"T_516d909e_13a3_11ec_88a9_2c6e85b37657row23_col3\" class=\"data row23 col3\" >342102</td>\n",
       "                        <td id=\"T_516d909e_13a3_11ec_88a9_2c6e85b37657row23_col4\" class=\"data row23 col4\" >10468</td>\n",
       "                        <td id=\"T_516d909e_13a3_11ec_88a9_2c6e85b37657row23_col5\" class=\"data row23 col5\" >1.480000</td>\n",
       "                        <td id=\"T_516d909e_13a3_11ec_88a9_2c6e85b37657row23_col6\" class=\"data row23 col6\" >98.460000</td>\n",
       "            </tr>\n",
       "            <tr>\n",
       "                        <th id=\"T_516d909e_13a3_11ec_88a9_2c6e85b37657level0_row24\" class=\"row_heading level0 row24\" >44</th>\n",
       "                        <td id=\"T_516d909e_13a3_11ec_88a9_2c6e85b37657row24_col0\" class=\"data row24 col0\" >Uttarakhand</td>\n",
       "                        <td id=\"T_516d909e_13a3_11ec_88a9_2c6e85b37657row24_col1\" class=\"data row24 col1\" >342462</td>\n",
       "                        <td id=\"T_516d909e_13a3_11ec_88a9_2c6e85b37657row24_col2\" class=\"data row24 col2\" >7368</td>\n",
       "                        <td id=\"T_516d909e_13a3_11ec_88a9_2c6e85b37657row24_col3\" class=\"data row24 col3\" >334650</td>\n",
       "                        <td id=\"T_516d909e_13a3_11ec_88a9_2c6e85b37657row24_col4\" class=\"data row24 col4\" >15180</td>\n",
       "                        <td id=\"T_516d909e_13a3_11ec_88a9_2c6e85b37657row24_col5\" class=\"data row24 col5\" >2.150000</td>\n",
       "                        <td id=\"T_516d909e_13a3_11ec_88a9_2c6e85b37657row24_col6\" class=\"data row24 col6\" >97.720000</td>\n",
       "            </tr>\n",
       "            <tr>\n",
       "                        <th id=\"T_516d909e_13a3_11ec_88a9_2c6e85b37657level0_row25\" class=\"row_heading level0 row25\" >18</th>\n",
       "                        <td id=\"T_516d909e_13a3_11ec_88a9_2c6e85b37657row25_col0\" class=\"data row25 col0\" >Jammu and Kashmir</td>\n",
       "                        <td id=\"T_516d909e_13a3_11ec_88a9_2c6e85b37657row25_col1\" class=\"data row25 col1\" >322771</td>\n",
       "                        <td id=\"T_516d909e_13a3_11ec_88a9_2c6e85b37657row25_col2\" class=\"data row25 col2\" >4392</td>\n",
       "                        <td id=\"T_516d909e_13a3_11ec_88a9_2c6e85b37657row25_col3\" class=\"data row25 col3\" >317081</td>\n",
       "                        <td id=\"T_516d909e_13a3_11ec_88a9_2c6e85b37657row25_col4\" class=\"data row25 col4\" >10082</td>\n",
       "                        <td id=\"T_516d909e_13a3_11ec_88a9_2c6e85b37657row25_col5\" class=\"data row25 col5\" >1.360000</td>\n",
       "                        <td id=\"T_516d909e_13a3_11ec_88a9_2c6e85b37657row25_col6\" class=\"data row25 col6\" >98.240000</td>\n",
       "            </tr>\n",
       "            <tr>\n",
       "                        <th id=\"T_516d909e_13a3_11ec_88a9_2c6e85b37657level0_row26\" class=\"row_heading level0 row26\" >16</th>\n",
       "                        <td id=\"T_516d909e_13a3_11ec_88a9_2c6e85b37657row26_col0\" class=\"data row26 col0\" >Himachal Pradesh</td>\n",
       "                        <td id=\"T_516d909e_13a3_11ec_88a9_2c6e85b37657row26_col1\" class=\"data row26 col1\" >208616</td>\n",
       "                        <td id=\"T_516d909e_13a3_11ec_88a9_2c6e85b37657row26_col2\" class=\"data row26 col2\" >3537</td>\n",
       "                        <td id=\"T_516d909e_13a3_11ec_88a9_2c6e85b37657row26_col3\" class=\"data row26 col3\" >202761</td>\n",
       "                        <td id=\"T_516d909e_13a3_11ec_88a9_2c6e85b37657row26_col4\" class=\"data row26 col4\" >9392</td>\n",
       "                        <td id=\"T_516d909e_13a3_11ec_88a9_2c6e85b37657row26_col5\" class=\"data row26 col5\" >1.700000</td>\n",
       "                        <td id=\"T_516d909e_13a3_11ec_88a9_2c6e85b37657row26_col6\" class=\"data row26 col6\" >97.190000</td>\n",
       "            </tr>\n",
       "            <tr>\n",
       "                        <th id=\"T_516d909e_13a3_11ec_88a9_2c6e85b37657level0_row27\" class=\"row_heading level0 row27\" >17</th>\n",
       "                        <td id=\"T_516d909e_13a3_11ec_88a9_2c6e85b37657row27_col0\" class=\"data row27 col0\" >Himanchal Pradesh</td>\n",
       "                        <td id=\"T_516d909e_13a3_11ec_88a9_2c6e85b37657row27_col1\" class=\"data row27 col1\" >204516</td>\n",
       "                        <td id=\"T_516d909e_13a3_11ec_88a9_2c6e85b37657row27_col2\" class=\"data row27 col2\" >3507</td>\n",
       "                        <td id=\"T_516d909e_13a3_11ec_88a9_2c6e85b37657row27_col3\" class=\"data row27 col3\" >200040</td>\n",
       "                        <td id=\"T_516d909e_13a3_11ec_88a9_2c6e85b37657row27_col4\" class=\"data row27 col4\" >7983</td>\n",
       "                        <td id=\"T_516d909e_13a3_11ec_88a9_2c6e85b37657row27_col5\" class=\"data row27 col5\" >1.710000</td>\n",
       "                        <td id=\"T_516d909e_13a3_11ec_88a9_2c6e85b37657row27_col6\" class=\"data row27 col6\" >97.810000</td>\n",
       "            </tr>\n",
       "            <tr>\n",
       "                        <th id=\"T_516d909e_13a3_11ec_88a9_2c6e85b37657level0_row28\" class=\"row_heading level0 row28\" >13</th>\n",
       "                        <td id=\"T_516d909e_13a3_11ec_88a9_2c6e85b37657row28_col0\" class=\"data row28 col0\" >Goa</td>\n",
       "                        <td id=\"T_516d909e_13a3_11ec_88a9_2c6e85b37657row28_col1\" class=\"data row28 col1\" >172085</td>\n",
       "                        <td id=\"T_516d909e_13a3_11ec_88a9_2c6e85b37657row28_col2\" class=\"data row28 col2\" >3164</td>\n",
       "                        <td id=\"T_516d909e_13a3_11ec_88a9_2c6e85b37657row28_col3\" class=\"data row28 col3\" >167978</td>\n",
       "                        <td id=\"T_516d909e_13a3_11ec_88a9_2c6e85b37657row28_col4\" class=\"data row28 col4\" >7271</td>\n",
       "                        <td id=\"T_516d909e_13a3_11ec_88a9_2c6e85b37657row28_col5\" class=\"data row28 col5\" >1.840000</td>\n",
       "                        <td id=\"T_516d909e_13a3_11ec_88a9_2c6e85b37657row28_col6\" class=\"data row28 col6\" >97.610000</td>\n",
       "            </tr>\n",
       "            <tr>\n",
       "                        <th id=\"T_516d909e_13a3_11ec_88a9_2c6e85b37657level0_row29\" class=\"row_heading level0 row29\" >34</th>\n",
       "                        <td id=\"T_516d909e_13a3_11ec_88a9_2c6e85b37657row29_col0\" class=\"data row29 col0\" >Puducherry</td>\n",
       "                        <td id=\"T_516d909e_13a3_11ec_88a9_2c6e85b37657row29_col1\" class=\"data row29 col1\" >121766</td>\n",
       "                        <td id=\"T_516d909e_13a3_11ec_88a9_2c6e85b37657row29_col2\" class=\"data row29 col2\" >1800</td>\n",
       "                        <td id=\"T_516d909e_13a3_11ec_88a9_2c6e85b37657row29_col3\" class=\"data row29 col3\" >119115</td>\n",
       "                        <td id=\"T_516d909e_13a3_11ec_88a9_2c6e85b37657row29_col4\" class=\"data row29 col4\" >4451</td>\n",
       "                        <td id=\"T_516d909e_13a3_11ec_88a9_2c6e85b37657row29_col5\" class=\"data row29 col5\" >1.480000</td>\n",
       "                        <td id=\"T_516d909e_13a3_11ec_88a9_2c6e85b37657row29_col6\" class=\"data row29 col6\" >97.820000</td>\n",
       "            </tr>\n",
       "            <tr>\n",
       "                        <th id=\"T_516d909e_13a3_11ec_88a9_2c6e85b37657level0_row30\" class=\"row_heading level0 row30\" >29</th>\n",
       "                        <td id=\"T_516d909e_13a3_11ec_88a9_2c6e85b37657row30_col0\" class=\"data row30 col0\" >Manipur</td>\n",
       "                        <td id=\"T_516d909e_13a3_11ec_88a9_2c6e85b37657row30_col1\" class=\"data row30 col1\" >105424</td>\n",
       "                        <td id=\"T_516d909e_13a3_11ec_88a9_2c6e85b37657row30_col2\" class=\"data row30 col2\" >1664</td>\n",
       "                        <td id=\"T_516d909e_13a3_11ec_88a9_2c6e85b37657row30_col3\" class=\"data row30 col3\" >96776</td>\n",
       "                        <td id=\"T_516d909e_13a3_11ec_88a9_2c6e85b37657row30_col4\" class=\"data row30 col4\" >10312</td>\n",
       "                        <td id=\"T_516d909e_13a3_11ec_88a9_2c6e85b37657row30_col5\" class=\"data row30 col5\" >1.580000</td>\n",
       "                        <td id=\"T_516d909e_13a3_11ec_88a9_2c6e85b37657row30_col6\" class=\"data row30 col6\" >91.800000</td>\n",
       "            </tr>\n",
       "            <tr>\n",
       "                        <th id=\"T_516d909e_13a3_11ec_88a9_2c6e85b37657level0_row31\" class=\"row_heading level0 row31\" >41</th>\n",
       "                        <td id=\"T_516d909e_13a3_11ec_88a9_2c6e85b37657row31_col0\" class=\"data row31 col0\" >Tripura</td>\n",
       "                        <td id=\"T_516d909e_13a3_11ec_88a9_2c6e85b37657row31_col1\" class=\"data row31 col1\" >80660</td>\n",
       "                        <td id=\"T_516d909e_13a3_11ec_88a9_2c6e85b37657row31_col2\" class=\"data row31 col2\" >773</td>\n",
       "                        <td id=\"T_516d909e_13a3_11ec_88a9_2c6e85b37657row31_col3\" class=\"data row31 col3\" >77811</td>\n",
       "                        <td id=\"T_516d909e_13a3_11ec_88a9_2c6e85b37657row31_col4\" class=\"data row31 col4\" >3622</td>\n",
       "                        <td id=\"T_516d909e_13a3_11ec_88a9_2c6e85b37657row31_col5\" class=\"data row31 col5\" >0.960000</td>\n",
       "                        <td id=\"T_516d909e_13a3_11ec_88a9_2c6e85b37657row31_col6\" class=\"data row31 col6\" >96.470000</td>\n",
       "            </tr>\n",
       "            <tr>\n",
       "                        <th id=\"T_516d909e_13a3_11ec_88a9_2c6e85b37657level0_row32\" class=\"row_heading level0 row32\" >30</th>\n",
       "                        <td id=\"T_516d909e_13a3_11ec_88a9_2c6e85b37657row32_col0\" class=\"data row32 col0\" >Meghalaya</td>\n",
       "                        <td id=\"T_516d909e_13a3_11ec_88a9_2c6e85b37657row32_col1\" class=\"data row32 col1\" >69769</td>\n",
       "                        <td id=\"T_516d909e_13a3_11ec_88a9_2c6e85b37657row32_col2\" class=\"data row32 col2\" >1185</td>\n",
       "                        <td id=\"T_516d909e_13a3_11ec_88a9_2c6e85b37657row32_col3\" class=\"data row32 col3\" >64157</td>\n",
       "                        <td id=\"T_516d909e_13a3_11ec_88a9_2c6e85b37657row32_col4\" class=\"data row32 col4\" >6797</td>\n",
       "                        <td id=\"T_516d909e_13a3_11ec_88a9_2c6e85b37657row32_col5\" class=\"data row32 col5\" >1.700000</td>\n",
       "                        <td id=\"T_516d909e_13a3_11ec_88a9_2c6e85b37657row32_col6\" class=\"data row32 col6\" >91.960000</td>\n",
       "            </tr>\n",
       "            <tr>\n",
       "                        <th id=\"T_516d909e_13a3_11ec_88a9_2c6e85b37657level0_row33\" class=\"row_heading level0 row33\" >7</th>\n",
       "                        <td id=\"T_516d909e_13a3_11ec_88a9_2c6e85b37657row33_col0\" class=\"data row33 col0\" >Chandigarh</td>\n",
       "                        <td id=\"T_516d909e_13a3_11ec_88a9_2c6e85b37657row33_col1\" class=\"data row33 col1\" >61992</td>\n",
       "                        <td id=\"T_516d909e_13a3_11ec_88a9_2c6e85b37657row33_col2\" class=\"data row33 col2\" >811</td>\n",
       "                        <td id=\"T_516d909e_13a3_11ec_88a9_2c6e85b37657row33_col3\" class=\"data row33 col3\" >61150</td>\n",
       "                        <td id=\"T_516d909e_13a3_11ec_88a9_2c6e85b37657row33_col4\" class=\"data row33 col4\" >1653</td>\n",
       "                        <td id=\"T_516d909e_13a3_11ec_88a9_2c6e85b37657row33_col5\" class=\"data row33 col5\" >1.310000</td>\n",
       "                        <td id=\"T_516d909e_13a3_11ec_88a9_2c6e85b37657row33_col6\" class=\"data row33 col6\" >98.640000</td>\n",
       "            </tr>\n",
       "            <tr>\n",
       "                        <th id=\"T_516d909e_13a3_11ec_88a9_2c6e85b37657level0_row34\" class=\"row_heading level0 row34\" >2</th>\n",
       "                        <td id=\"T_516d909e_13a3_11ec_88a9_2c6e85b37657row34_col0\" class=\"data row34 col0\" >Arunachal Pradesh</td>\n",
       "                        <td id=\"T_516d909e_13a3_11ec_88a9_2c6e85b37657row34_col1\" class=\"data row34 col1\" >50605</td>\n",
       "                        <td id=\"T_516d909e_13a3_11ec_88a9_2c6e85b37657row34_col2\" class=\"data row34 col2\" >248</td>\n",
       "                        <td id=\"T_516d909e_13a3_11ec_88a9_2c6e85b37657row34_col3\" class=\"data row34 col3\" >47821</td>\n",
       "                        <td id=\"T_516d909e_13a3_11ec_88a9_2c6e85b37657row34_col4\" class=\"data row34 col4\" >3032</td>\n",
       "                        <td id=\"T_516d909e_13a3_11ec_88a9_2c6e85b37657row34_col5\" class=\"data row34 col5\" >0.490000</td>\n",
       "                        <td id=\"T_516d909e_13a3_11ec_88a9_2c6e85b37657row34_col6\" class=\"data row34 col6\" >94.500000</td>\n",
       "            </tr>\n",
       "            <tr>\n",
       "                        <th id=\"T_516d909e_13a3_11ec_88a9_2c6e85b37657level0_row35\" class=\"row_heading level0 row35\" >31</th>\n",
       "                        <td id=\"T_516d909e_13a3_11ec_88a9_2c6e85b37657row35_col0\" class=\"data row35 col0\" >Mizoram</td>\n",
       "                        <td id=\"T_516d909e_13a3_11ec_88a9_2c6e85b37657row35_col1\" class=\"data row35 col1\" >46320</td>\n",
       "                        <td id=\"T_516d909e_13a3_11ec_88a9_2c6e85b37657row35_col2\" class=\"data row35 col2\" >171</td>\n",
       "                        <td id=\"T_516d909e_13a3_11ec_88a9_2c6e85b37657row35_col3\" class=\"data row35 col3\" >33722</td>\n",
       "                        <td id=\"T_516d909e_13a3_11ec_88a9_2c6e85b37657row35_col4\" class=\"data row35 col4\" >12769</td>\n",
       "                        <td id=\"T_516d909e_13a3_11ec_88a9_2c6e85b37657row35_col5\" class=\"data row35 col5\" >0.370000</td>\n",
       "                        <td id=\"T_516d909e_13a3_11ec_88a9_2c6e85b37657row35_col6\" class=\"data row35 col6\" >72.800000</td>\n",
       "            </tr>\n",
       "            <tr>\n",
       "                        <th id=\"T_516d909e_13a3_11ec_88a9_2c6e85b37657level0_row36\" class=\"row_heading level0 row36\" >32</th>\n",
       "                        <td id=\"T_516d909e_13a3_11ec_88a9_2c6e85b37657row36_col0\" class=\"data row36 col0\" >Nagaland</td>\n",
       "                        <td id=\"T_516d909e_13a3_11ec_88a9_2c6e85b37657row36_col1\" class=\"data row36 col1\" >28811</td>\n",
       "                        <td id=\"T_516d909e_13a3_11ec_88a9_2c6e85b37657row36_col2\" class=\"data row36 col2\" >585</td>\n",
       "                        <td id=\"T_516d909e_13a3_11ec_88a9_2c6e85b37657row36_col3\" class=\"data row36 col3\" >26852</td>\n",
       "                        <td id=\"T_516d909e_13a3_11ec_88a9_2c6e85b37657row36_col4\" class=\"data row36 col4\" >2544</td>\n",
       "                        <td id=\"T_516d909e_13a3_11ec_88a9_2c6e85b37657row36_col5\" class=\"data row36 col5\" >2.030000</td>\n",
       "                        <td id=\"T_516d909e_13a3_11ec_88a9_2c6e85b37657row36_col6\" class=\"data row36 col6\" >93.200000</td>\n",
       "            </tr>\n",
       "            <tr>\n",
       "                        <th id=\"T_516d909e_13a3_11ec_88a9_2c6e85b37657level0_row37\" class=\"row_heading level0 row37\" >37</th>\n",
       "                        <td id=\"T_516d909e_13a3_11ec_88a9_2c6e85b37657row37_col0\" class=\"data row37 col0\" >Sikkim</td>\n",
       "                        <td id=\"T_516d909e_13a3_11ec_88a9_2c6e85b37657row37_col1\" class=\"data row37 col1\" >28018</td>\n",
       "                        <td id=\"T_516d909e_13a3_11ec_88a9_2c6e85b37657row37_col2\" class=\"data row37 col2\" >356</td>\n",
       "                        <td id=\"T_516d909e_13a3_11ec_88a9_2c6e85b37657row37_col3\" class=\"data row37 col3\" >25095</td>\n",
       "                        <td id=\"T_516d909e_13a3_11ec_88a9_2c6e85b37657row37_col4\" class=\"data row37 col4\" >3279</td>\n",
       "                        <td id=\"T_516d909e_13a3_11ec_88a9_2c6e85b37657row37_col5\" class=\"data row37 col5\" >1.270000</td>\n",
       "                        <td id=\"T_516d909e_13a3_11ec_88a9_2c6e85b37657row37_col6\" class=\"data row37 col6\" >89.570000</td>\n",
       "            </tr>\n",
       "            <tr>\n",
       "                        <th id=\"T_516d909e_13a3_11ec_88a9_2c6e85b37657level0_row38\" class=\"row_heading level0 row38\" >23</th>\n",
       "                        <td id=\"T_516d909e_13a3_11ec_88a9_2c6e85b37657row38_col0\" class=\"data row38 col0\" >Ladakh</td>\n",
       "                        <td id=\"T_516d909e_13a3_11ec_88a9_2c6e85b37657row38_col1\" class=\"data row38 col1\" >20411</td>\n",
       "                        <td id=\"T_516d909e_13a3_11ec_88a9_2c6e85b37657row38_col2\" class=\"data row38 col2\" >207</td>\n",
       "                        <td id=\"T_516d909e_13a3_11ec_88a9_2c6e85b37657row38_col3\" class=\"data row38 col3\" >20130</td>\n",
       "                        <td id=\"T_516d909e_13a3_11ec_88a9_2c6e85b37657row38_col4\" class=\"data row38 col4\" >488</td>\n",
       "                        <td id=\"T_516d909e_13a3_11ec_88a9_2c6e85b37657row38_col5\" class=\"data row38 col5\" >1.010000</td>\n",
       "                        <td id=\"T_516d909e_13a3_11ec_88a9_2c6e85b37657row38_col6\" class=\"data row38 col6\" >98.620000</td>\n",
       "            </tr>\n",
       "            <tr>\n",
       "                        <th id=\"T_516d909e_13a3_11ec_88a9_2c6e85b37657level0_row39\" class=\"row_heading level0 row39\" >10</th>\n",
       "                        <td id=\"T_516d909e_13a3_11ec_88a9_2c6e85b37657row39_col0\" class=\"data row39 col0\" >Dadra and Nagar Haveli and Daman and Diu</td>\n",
       "                        <td id=\"T_516d909e_13a3_11ec_88a9_2c6e85b37657row39_col1\" class=\"data row39 col1\" >10654</td>\n",
       "                        <td id=\"T_516d909e_13a3_11ec_88a9_2c6e85b37657row39_col2\" class=\"data row39 col2\" >4</td>\n",
       "                        <td id=\"T_516d909e_13a3_11ec_88a9_2c6e85b37657row39_col3\" class=\"data row39 col3\" >10646</td>\n",
       "                        <td id=\"T_516d909e_13a3_11ec_88a9_2c6e85b37657row39_col4\" class=\"data row39 col4\" >12</td>\n",
       "                        <td id=\"T_516d909e_13a3_11ec_88a9_2c6e85b37657row39_col5\" class=\"data row39 col5\" >0.040000</td>\n",
       "                        <td id=\"T_516d909e_13a3_11ec_88a9_2c6e85b37657row39_col6\" class=\"data row39 col6\" >99.920000</td>\n",
       "            </tr>\n",
       "            <tr>\n",
       "                        <th id=\"T_516d909e_13a3_11ec_88a9_2c6e85b37657level0_row40\" class=\"row_heading level0 row40\" >9</th>\n",
       "                        <td id=\"T_516d909e_13a3_11ec_88a9_2c6e85b37657row40_col0\" class=\"data row40 col0\" >Dadra and Nagar Haveli</td>\n",
       "                        <td id=\"T_516d909e_13a3_11ec_88a9_2c6e85b37657row40_col1\" class=\"data row40 col1\" >10377</td>\n",
       "                        <td id=\"T_516d909e_13a3_11ec_88a9_2c6e85b37657row40_col2\" class=\"data row40 col2\" >4</td>\n",
       "                        <td id=\"T_516d909e_13a3_11ec_88a9_2c6e85b37657row40_col3\" class=\"data row40 col3\" >10261</td>\n",
       "                        <td id=\"T_516d909e_13a3_11ec_88a9_2c6e85b37657row40_col4\" class=\"data row40 col4\" >120</td>\n",
       "                        <td id=\"T_516d909e_13a3_11ec_88a9_2c6e85b37657row40_col5\" class=\"data row40 col5\" >0.040000</td>\n",
       "                        <td id=\"T_516d909e_13a3_11ec_88a9_2c6e85b37657row40_col6\" class=\"data row40 col6\" >98.880000</td>\n",
       "            </tr>\n",
       "            <tr>\n",
       "                        <th id=\"T_516d909e_13a3_11ec_88a9_2c6e85b37657level0_row41\" class=\"row_heading level0 row41\" >24</th>\n",
       "                        <td id=\"T_516d909e_13a3_11ec_88a9_2c6e85b37657row41_col0\" class=\"data row41 col0\" >Lakshadweep</td>\n",
       "                        <td id=\"T_516d909e_13a3_11ec_88a9_2c6e85b37657row41_col1\" class=\"data row41 col1\" >10263</td>\n",
       "                        <td id=\"T_516d909e_13a3_11ec_88a9_2c6e85b37657row41_col2\" class=\"data row41 col2\" >51</td>\n",
       "                        <td id=\"T_516d909e_13a3_11ec_88a9_2c6e85b37657row41_col3\" class=\"data row41 col3\" >10165</td>\n",
       "                        <td id=\"T_516d909e_13a3_11ec_88a9_2c6e85b37657row41_col4\" class=\"data row41 col4\" >149</td>\n",
       "                        <td id=\"T_516d909e_13a3_11ec_88a9_2c6e85b37657row41_col5\" class=\"data row41 col5\" >0.500000</td>\n",
       "                        <td id=\"T_516d909e_13a3_11ec_88a9_2c6e85b37657row41_col6\" class=\"data row41 col6\" >99.050000</td>\n",
       "            </tr>\n",
       "            <tr>\n",
       "                        <th id=\"T_516d909e_13a3_11ec_88a9_2c6e85b37657level0_row42\" class=\"row_heading level0 row42\" >6</th>\n",
       "                        <td id=\"T_516d909e_13a3_11ec_88a9_2c6e85b37657row42_col0\" class=\"data row42 col0\" >Cases being reassigned to states</td>\n",
       "                        <td id=\"T_516d909e_13a3_11ec_88a9_2c6e85b37657row42_col1\" class=\"data row42 col1\" >9265</td>\n",
       "                        <td id=\"T_516d909e_13a3_11ec_88a9_2c6e85b37657row42_col2\" class=\"data row42 col2\" >0</td>\n",
       "                        <td id=\"T_516d909e_13a3_11ec_88a9_2c6e85b37657row42_col3\" class=\"data row42 col3\" >0</td>\n",
       "                        <td id=\"T_516d909e_13a3_11ec_88a9_2c6e85b37657row42_col4\" class=\"data row42 col4\" >9265</td>\n",
       "                        <td id=\"T_516d909e_13a3_11ec_88a9_2c6e85b37657row42_col5\" class=\"data row42 col5\" >0.000000</td>\n",
       "                        <td id=\"T_516d909e_13a3_11ec_88a9_2c6e85b37657row42_col6\" class=\"data row42 col6\" >0.000000</td>\n",
       "            </tr>\n",
       "            <tr>\n",
       "                        <th id=\"T_516d909e_13a3_11ec_88a9_2c6e85b37657level0_row43\" class=\"row_heading level0 row43\" >0</th>\n",
       "                        <td id=\"T_516d909e_13a3_11ec_88a9_2c6e85b37657row43_col0\" class=\"data row43 col0\" >Andaman and Nicobar Islands</td>\n",
       "                        <td id=\"T_516d909e_13a3_11ec_88a9_2c6e85b37657row43_col1\" class=\"data row43 col1\" >7548</td>\n",
       "                        <td id=\"T_516d909e_13a3_11ec_88a9_2c6e85b37657row43_col2\" class=\"data row43 col2\" >129</td>\n",
       "                        <td id=\"T_516d909e_13a3_11ec_88a9_2c6e85b37657row43_col3\" class=\"data row43 col3\" >7412</td>\n",
       "                        <td id=\"T_516d909e_13a3_11ec_88a9_2c6e85b37657row43_col4\" class=\"data row43 col4\" >265</td>\n",
       "                        <td id=\"T_516d909e_13a3_11ec_88a9_2c6e85b37657row43_col5\" class=\"data row43 col5\" >1.710000</td>\n",
       "                        <td id=\"T_516d909e_13a3_11ec_88a9_2c6e85b37657row43_col6\" class=\"data row43 col6\" >98.200000</td>\n",
       "            </tr>\n",
       "            <tr>\n",
       "                        <th id=\"T_516d909e_13a3_11ec_88a9_2c6e85b37657level0_row44\" class=\"row_heading level0 row44\" >42</th>\n",
       "                        <td id=\"T_516d909e_13a3_11ec_88a9_2c6e85b37657row44_col0\" class=\"data row44 col0\" >Unassigned</td>\n",
       "                        <td id=\"T_516d909e_13a3_11ec_88a9_2c6e85b37657row44_col1\" class=\"data row44 col1\" >77</td>\n",
       "                        <td id=\"T_516d909e_13a3_11ec_88a9_2c6e85b37657row44_col2\" class=\"data row44 col2\" >0</td>\n",
       "                        <td id=\"T_516d909e_13a3_11ec_88a9_2c6e85b37657row44_col3\" class=\"data row44 col3\" >0</td>\n",
       "                        <td id=\"T_516d909e_13a3_11ec_88a9_2c6e85b37657row44_col4\" class=\"data row44 col4\" >77</td>\n",
       "                        <td id=\"T_516d909e_13a3_11ec_88a9_2c6e85b37657row44_col5\" class=\"data row44 col5\" >0.000000</td>\n",
       "                        <td id=\"T_516d909e_13a3_11ec_88a9_2c6e85b37657row44_col6\" class=\"data row44 col6\" >0.000000</td>\n",
       "            </tr>\n",
       "            <tr>\n",
       "                        <th id=\"T_516d909e_13a3_11ec_88a9_2c6e85b37657level0_row45\" class=\"row_heading level0 row45\" >11</th>\n",
       "                        <td id=\"T_516d909e_13a3_11ec_88a9_2c6e85b37657row45_col0\" class=\"data row45 col0\" >Daman & Diu</td>\n",
       "                        <td id=\"T_516d909e_13a3_11ec_88a9_2c6e85b37657row45_col1\" class=\"data row45 col1\" >2</td>\n",
       "                        <td id=\"T_516d909e_13a3_11ec_88a9_2c6e85b37657row45_col2\" class=\"data row45 col2\" >0</td>\n",
       "                        <td id=\"T_516d909e_13a3_11ec_88a9_2c6e85b37657row45_col3\" class=\"data row45 col3\" >0</td>\n",
       "                        <td id=\"T_516d909e_13a3_11ec_88a9_2c6e85b37657row45_col4\" class=\"data row45 col4\" >2</td>\n",
       "                        <td id=\"T_516d909e_13a3_11ec_88a9_2c6e85b37657row45_col5\" class=\"data row45 col5\" >0.000000</td>\n",
       "                        <td id=\"T_516d909e_13a3_11ec_88a9_2c6e85b37657row45_col6\" class=\"data row45 col6\" >0.000000</td>\n",
       "            </tr>\n",
       "    </tbody></table>"
      ],
      "text/plain": [
       "<pandas.io.formats.style.Styler at 0x1dce52e9c70>"
      ]
     },
     "execution_count": 9,
     "metadata": {},
     "output_type": "execute_result"
    }
   ],
   "source": [
    "state_cases=covid19India.groupby('State/UnionTerritory')['Confirmed','Deaths','Cured'].max().reset_index()\n",
    "state_cases['Active'] = state_cases['Confirmed'] - abs((state_cases['Deaths']- state_cases['Cured']))\n",
    "state_cases[\"Death Rate (per 100)\"] = np.round(100*state_cases[\"Deaths\"]/state_cases[\"Confirmed\"],2)\n",
    "state_cases[\"Cure Rate (per 100)\"] = np.round(100*state_cases[\"Cured\"]/state_cases[\"Confirmed\"],2)\n",
    "state_cases.sort_values('Confirmed', ascending= False).fillna(0).style.background_gradient(cmap='Reds',subset=[\"Confirmed\"])\\\n",
    "                        .background_gradient(cmap='Blues',subset=[\"Deaths\"])\\\n",
    "                        .background_gradient(cmap='Greens',subset=[\"Cured\"])\\\n",
    "                        .background_gradient(cmap='Purples',subset=[\"Active\"])\\\n",
    "                        .background_gradient(cmap='Greys',subset=[\"Death Rate (per 100)\"])\\\n",
    "                        .background_gradient(cmap='Oranges',subset=[\"Cure Rate (per 100)\"])"
   ]
  },
  {
   "cell_type": "code",
   "execution_count": 10,
   "metadata": {
    "colab": {
     "base_uri": "https://localhost:8080/",
     "height": 571
    },
    "colab_type": "code",
    "id": "MCgt3zEshI-O",
    "outputId": "59d18515-950b-4981-c88e-b83625ad799b"
   },
   "outputs": [
    {
     "data": {
      "image/png": "[encoded data removed]",
      "text/plain": [
       "<Figure size 1008x576 with 1 Axes>"
      ]
     },
     "metadata": {},
     "output_type": "display_data"
    }
   ],
   "source": [
    "state_cases=state_cases.sort_values('Confirmed', ascending= False).fillna(0)\n",
    "state_cases=state_cases.head(15)\n",
    "state_cases\n",
    "plt.figure(figsize=(14,8))\n",
    "sns.barplot(data=state_cases,x='State/UnionTerritory',y='Confirmed',color=sns.color_palette('Set3')[3],label='Confirmed')\n",
    "sns.barplot(data=state_cases,x='State/UnionTerritory',y='Active',color=sns.color_palette('Set3')[7],label='Active')\n",
    "sns.barplot(data=state_cases,x='State/UnionTerritory',y='Cured',color=sns.color_palette('Set3')[8],label='Cured')\n",
    "sns.barplot(data=state_cases,x='State/UnionTerritory',y='Deaths',color=sns.color_palette('Set3')[9],label='Deaths')\n",
    "plt.xticks(rotation=90)\n",
    "plt.legend();"
   ]
  },
  {
   "cell_type": "code",
   "execution_count": null,
   "metadata": {
    "colab": {
     "base_uri": "https://localhost:8080/",
     "height": 1000
    },
    "colab_type": "code",
    "id": "tDQUpYAhiD3P",
    "outputId": "5828e7e0-d035-47bd-a98b-2b833d7ccc49"
   },
   "outputs": [],
   "source": []
  },
  {
   "cell_type": "code",
   "execution_count": 11,
   "metadata": {
    "colab": {
     "base_uri": "https://localhost:8080/",
     "height": 1000
    },
    "colab_type": "code",
    "id": "ldXYKisBiKkq",
    "outputId": "716262f0-e5b8-457f-d8bf-1aa4a7fbc89a"
   },
   "outputs": [
    {
     "data": {
      "image/png": "[encoded data removed]",
      "text/plain": [
       "<Figure size 1440x4320 with 14 Axes>"
      ]
     },
     "metadata": {},
     "output_type": "display_data"
    }
   ],
   "source": [
    "states_list=['Maharashtra','Gujarat','Delhi','Rajasthan','Madhya Pradesh','Tamil Nadu','Uttar Pradesh','Andhra Pradesh',\n",
    "            'West Bengal','Karnataka','Kerala','Jammu and Kashmir','Punjab','Haryana']\n",
    "df5=covid19India[covid19India['Date']>'2020-04-07']\n",
    "df5=df5.groupby(['Date','State/UnionTerritory']).sum()\n",
    "df5.reset_index(inplace=True)\n",
    "df5['Date'] = df5['Date'].apply(lambda x: x.strftime('%Y-%m-%d'))\n",
    "plt.figure(figsize=(20,60))\n",
    "\n",
    "for i,state in enumerate(states_list):\n",
    "    plt.subplot(7,2,i+1)\n",
    "    df4=df5[df5['State/UnionTerritory']==state]\n",
    "    plt.bar(df4.Date,df4.Confirmed,label='Confirmed')\n",
    "    plt.bar(df4.Date,df4.Cured,label='Cured')\n",
    "    plt.bar(df4.Date,df4.Deaths,label='Death')\n",
    "    plt.xticks(rotation=90)\n",
    "    plt.title(state)\n",
    "    plt.ylabel('Total Cases')\n",
    "    plt.xlabel('Date')\n",
    "    plt.legend()\n",
    "plt.tight_layout()\n",
    "plt.show()"
   ]
  },
  {
   "cell_type": "code",
   "execution_count": 12,
   "metadata": {},
   "outputs": [
    {
     "name": "stdout",
     "output_type": "stream",
     "text": [
      "<class 'pandas.core.frame.DataFrame'>\n",
      "RangeIndex: 7845 entries, 0 to 7844\n",
      "Data columns (total 24 columns):\n",
      " #   Column                               Non-Null Count  Dtype  \n",
      "---  ------                               --------------  -----  \n",
      " 0   Updated On                           7845 non-null   object \n",
      " 1   State                                7845 non-null   object \n",
      " 2   Total Doses Administered             7621 non-null   float64\n",
      " 3   Sessions                             7621 non-null   float64\n",
      " 4    Sites                               7621 non-null   float64\n",
      " 5   First Dose Administered              7621 non-null   float64\n",
      " 6   Second Dose Administered             7621 non-null   float64\n",
      " 7   Male (Doses Administered)            7461 non-null   float64\n",
      " 8   Female (Doses Administered)          7461 non-null   float64\n",
      " 9   Transgender (Doses Administered)     7461 non-null   float64\n",
      " 10   Covaxin (Doses Administered)        7621 non-null   float64\n",
      " 11  CoviShield (Doses Administered)      7621 non-null   float64\n",
      " 12  Sputnik V (Doses Administered)       2995 non-null   float64\n",
      " 13  AEFI                                 5438 non-null   float64\n",
      " 14  18-44 Years (Doses Administered)     1702 non-null   float64\n",
      " 15  45-60 Years (Doses Administered)     1702 non-null   float64\n",
      " 16  60+ Years (Doses Administered)       1702 non-null   float64\n",
      " 17  18-44 Years(Individuals Vaccinated)  3733 non-null   float64\n",
      " 18  45-60 Years(Individuals Vaccinated)  3734 non-null   float64\n",
      " 19  60+ Years(Individuals Vaccinated)    3734 non-null   float64\n",
      " 20  Male(Individuals Vaccinated)         160 non-null    float64\n",
      " 21  Female(Individuals Vaccinated)       160 non-null    float64\n",
      " 22  Transgender(Individuals Vaccinated)  160 non-null    float64\n",
      " 23  Total Individuals Vaccinated         5919 non-null   float64\n",
      "dtypes: float64(22), object(2)\n",
      "memory usage: 1.4+ MB\n"
     ]
    }
   ],
   "source": [
    "covidVaccine.info()"
   ]
  },
  {
   "cell_type": "code",
   "execution_count": 18,
   "metadata": {},
   "outputs": [
    {
     "data": {
      "text/html": [
       "<div>\n",
       "<style scoped>\n",
       "    .dataframe tbody tr th:only-of-type {\n",
       "        vertical-align: middle;\n",
       "    }\n",
       "\n",
       "    .dataframe tbody tr th {\n",
       "        vertical-align: top;\n",
       "    }\n",
       "\n",
       "    .dataframe thead th {\n",
       "        text-align: right;\n",
       "    }\n",
       "</style>\n",
       "<table border=\"1\" class=\"dataframe\">\n",
       "  <thead>\n",
       "    <tr style=\"text-align: right;\">\n",
       "      <th></th>\n",
       "      <th>Date</th>\n",
       "      <th>State</th>\n",
       "      <th>TotalDoses</th>\n",
       "      <th>Sessions</th>\n",
       "      <th>Sites</th>\n",
       "      <th>First Dose Administered</th>\n",
       "      <th>Second Dose Administered</th>\n",
       "      <th>Male (Doses Administered)</th>\n",
       "      <th>Female (Doses Administered)</th>\n",
       "      <th>Transgender (Doses Administered)</th>\n",
       "      <th>...</th>\n",
       "      <th>18-44 Years (Doses Administered)</th>\n",
       "      <th>45-60 Years (Doses Administered)</th>\n",
       "      <th>60+ Years (Doses Administered)</th>\n",
       "      <th>18-44 Years(Individuals Vaccinated)</th>\n",
       "      <th>45-60 Years(Individuals Vaccinated)</th>\n",
       "      <th>60+ Years(Individuals Vaccinated)</th>\n",
       "      <th>Male</th>\n",
       "      <th>Female</th>\n",
       "      <th>Transgender(Individuals Vaccinated)</th>\n",
       "      <th>TotalVaccinated</th>\n",
       "    </tr>\n",
       "  </thead>\n",
       "  <tbody>\n",
       "    <tr>\n",
       "      <th>212</th>\n",
       "      <td>2021-01-16</td>\n",
       "      <td>Andaman and Nicobar Islands</td>\n",
       "      <td>23.0</td>\n",
       "      <td>2.0</td>\n",
       "      <td>2.0</td>\n",
       "      <td>23.0</td>\n",
       "      <td>0.0</td>\n",
       "      <td>12.0</td>\n",
       "      <td>11.0</td>\n",
       "      <td>0.0</td>\n",
       "      <td>...</td>\n",
       "      <td>NaN</td>\n",
       "      <td>NaN</td>\n",
       "      <td>NaN</td>\n",
       "      <td>NaN</td>\n",
       "      <td>NaN</td>\n",
       "      <td>NaN</td>\n",
       "      <td>NaN</td>\n",
       "      <td>NaN</td>\n",
       "      <td>NaN</td>\n",
       "      <td>23.0</td>\n",
       "    </tr>\n",
       "    <tr>\n",
       "      <th>213</th>\n",
       "      <td>2021-01-17</td>\n",
       "      <td>Andaman and Nicobar Islands</td>\n",
       "      <td>23.0</td>\n",
       "      <td>2.0</td>\n",
       "      <td>2.0</td>\n",
       "      <td>23.0</td>\n",
       "      <td>0.0</td>\n",
       "      <td>12.0</td>\n",
       "      <td>11.0</td>\n",
       "      <td>0.0</td>\n",
       "      <td>...</td>\n",
       "      <td>NaN</td>\n",
       "      <td>NaN</td>\n",
       "      <td>NaN</td>\n",
       "      <td>NaN</td>\n",
       "      <td>NaN</td>\n",
       "      <td>NaN</td>\n",
       "      <td>NaN</td>\n",
       "      <td>NaN</td>\n",
       "      <td>NaN</td>\n",
       "      <td>23.0</td>\n",
       "    </tr>\n",
       "    <tr>\n",
       "      <th>214</th>\n",
       "      <td>2021-01-18</td>\n",
       "      <td>Andaman and Nicobar Islands</td>\n",
       "      <td>42.0</td>\n",
       "      <td>9.0</td>\n",
       "      <td>2.0</td>\n",
       "      <td>42.0</td>\n",
       "      <td>0.0</td>\n",
       "      <td>29.0</td>\n",
       "      <td>13.0</td>\n",
       "      <td>0.0</td>\n",
       "      <td>...</td>\n",
       "      <td>NaN</td>\n",
       "      <td>NaN</td>\n",
       "      <td>NaN</td>\n",
       "      <td>NaN</td>\n",
       "      <td>NaN</td>\n",
       "      <td>NaN</td>\n",
       "      <td>NaN</td>\n",
       "      <td>NaN</td>\n",
       "      <td>NaN</td>\n",
       "      <td>42.0</td>\n",
       "    </tr>\n",
       "    <tr>\n",
       "      <th>215</th>\n",
       "      <td>2021-01-19</td>\n",
       "      <td>Andaman and Nicobar Islands</td>\n",
       "      <td>89.0</td>\n",
       "      <td>12.0</td>\n",
       "      <td>2.0</td>\n",
       "      <td>89.0</td>\n",
       "      <td>0.0</td>\n",
       "      <td>53.0</td>\n",
       "      <td>36.0</td>\n",
       "      <td>0.0</td>\n",
       "      <td>...</td>\n",
       "      <td>NaN</td>\n",
       "      <td>NaN</td>\n",
       "      <td>NaN</td>\n",
       "      <td>NaN</td>\n",
       "      <td>NaN</td>\n",
       "      <td>NaN</td>\n",
       "      <td>NaN</td>\n",
       "      <td>NaN</td>\n",
       "      <td>NaN</td>\n",
       "      <td>89.0</td>\n",
       "    </tr>\n",
       "    <tr>\n",
       "      <th>216</th>\n",
       "      <td>2021-01-20</td>\n",
       "      <td>Andaman and Nicobar Islands</td>\n",
       "      <td>124.0</td>\n",
       "      <td>16.0</td>\n",
       "      <td>3.0</td>\n",
       "      <td>124.0</td>\n",
       "      <td>0.0</td>\n",
       "      <td>67.0</td>\n",
       "      <td>57.0</td>\n",
       "      <td>0.0</td>\n",
       "      <td>...</td>\n",
       "      <td>NaN</td>\n",
       "      <td>NaN</td>\n",
       "      <td>NaN</td>\n",
       "      <td>NaN</td>\n",
       "      <td>NaN</td>\n",
       "      <td>NaN</td>\n",
       "      <td>NaN</td>\n",
       "      <td>NaN</td>\n",
       "      <td>NaN</td>\n",
       "      <td>124.0</td>\n",
       "    </tr>\n",
       "  </tbody>\n",
       "</table>\n",
       "<p>5 rows × 24 columns</p>\n",
       "</div>"
      ],
      "text/plain": [
       "          Date                        State  TotalDoses  Sessions   Sites   \\\n",
       "212 2021-01-16  Andaman and Nicobar Islands        23.0       2.0      2.0   \n",
       "213 2021-01-17  Andaman and Nicobar Islands        23.0       2.0      2.0   \n",
       "214 2021-01-18  Andaman and Nicobar Islands        42.0       9.0      2.0   \n",
       "215 2021-01-19  Andaman and Nicobar Islands        89.0      12.0      2.0   \n",
       "216 2021-01-20  Andaman and Nicobar Islands       124.0      16.0      3.0   \n",
       "\n",
       "     First Dose Administered  Second Dose Administered  \\\n",
       "212                     23.0                       0.0   \n",
       "213                     23.0                       0.0   \n",
       "214                     42.0                       0.0   \n",
       "215                     89.0                       0.0   \n",
       "216                    124.0                       0.0   \n",
       "\n",
       "     Male (Doses Administered)  Female (Doses Administered)  \\\n",
       "212                       12.0                         11.0   \n",
       "213                       12.0                         11.0   \n",
       "214                       29.0                         13.0   \n",
       "215                       53.0                         36.0   \n",
       "216                       67.0                         57.0   \n",
       "\n",
       "     Transgender (Doses Administered)  ...  18-44 Years (Doses Administered)  \\\n",
       "212                               0.0  ...                               NaN   \n",
       "213                               0.0  ...                               NaN   \n",
       "214                               0.0  ...                               NaN   \n",
       "215                               0.0  ...                               NaN   \n",
       "216                               0.0  ...                               NaN   \n",
       "\n",
       "     45-60 Years (Doses Administered)  60+ Years (Doses Administered)  \\\n",
       "212                               NaN                             NaN   \n",
       "213                               NaN                             NaN   \n",
       "214                               NaN                             NaN   \n",
       "215                               NaN                             NaN   \n",
       "216                               NaN                             NaN   \n",
       "\n",
       "     18-44 Years(Individuals Vaccinated)  45-60 Years(Individuals Vaccinated)  \\\n",
       "212                                  NaN                                  NaN   \n",
       "213                                  NaN                                  NaN   \n",
       "214                                  NaN                                  NaN   \n",
       "215                                  NaN                                  NaN   \n",
       "216                                  NaN                                  NaN   \n",
       "\n",
       "     60+ Years(Individuals Vaccinated)  Male  Female  \\\n",
       "212                                NaN   NaN     NaN   \n",
       "213                                NaN   NaN     NaN   \n",
       "214                                NaN   NaN     NaN   \n",
       "215                                NaN   NaN     NaN   \n",
       "216                                NaN   NaN     NaN   \n",
       "\n",
       "     Transgender(Individuals Vaccinated)  TotalVaccinated  \n",
       "212                                  NaN             23.0  \n",
       "213                                  NaN             23.0  \n",
       "214                                  NaN             42.0  \n",
       "215                                  NaN             89.0  \n",
       "216                                  NaN            124.0  \n",
       "\n",
       "[5 rows x 24 columns]"
      ]
     },
     "execution_count": 18,
     "metadata": {},
     "output_type": "execute_result"
    }
   ],
   "source": [
    "covidVaccine.head()"
   ]
  },
  {
   "cell_type": "code",
   "execution_count": 20,
   "metadata": {},
   "outputs": [],
   "source": [
    "covidVaccine.drop(covidVaccine.loc[covidVaccine['State']=='India'].index, inplace=True)"
   ]
  },
  {
   "cell_type": "code",
   "execution_count": 21,
   "metadata": {},
   "outputs": [],
   "source": [
    "covidVaccine = covidVaccine.rename(columns= {'Updated On':'Date','Total Doses Administered':'TotalDoses','Male(Individuals Vaccinated)':'Male','Female(Individuals Vaccinated)':'Female', 'Total Individuals Vaccinated':'TotalVaccinated',' Covaxin (Doses Administered)':'Covaxin','CoviShield (Doses Administered)':'CoviShield','Sputnik V (Doses Administered)':'Sputnik'})\n",
    "covidVaccine.Date = pd.to_datetime(covidVaccine.Date, format=\"%d/%m/%Y\")"
   ]
  },
  {
   "cell_type": "code",
   "execution_count": 23,
   "metadata": {},
   "outputs": [],
   "source": [
    "covidVaccine_2 = covidVaccine.groupby(['State'])['TotalDoses','Covaxin','CoviShield','Sputnik', 'TotalVaccinated'].sum().reset_index()\n",
    "covidVaccine_2.dropna()\n",
    "covidVaccine = covidVaccine[covidVaccine['State'] !='India']\n"
   ]
  },
  {
   "cell_type": "code",
   "execution_count": 24,
   "metadata": {},
   "outputs": [
    {
     "data": {
      "application/vnd.plotly.v1+json": {
       "config": {
        "plotlyServerURL": "https://plot.ly"
       },
       "data": [
        {
         "alignmentgroup": "True",
         "hovertemplate": "State=%{x}<br>TotalDoses=%{text}<extra></extra>",
         "legendgroup": "",
         "marker": {
          "color": "darkgreen",
          "pattern": {
           "shape": ""
          }
         },
         "name": "",
         "offsetgroup": "",
         "orientation": "v",
         "showlegend": false,
         "text": [
          20544408,
          1591678440,
          60937297,
          716389018,
          1741293449,
          56296840,
          968123302,
          38189479,
          812558419,
          92189542,
          2732064385,
          914454410,
          390132586,
          496053428,
          725794786,
          2300517146,
          1557893825,
          23263011,
          5420101,
          2113537548,
          3497245417,
          79267718,
          74782607,
          57871495,
          51615403,
          1283935962,
          49955717,
          705467577,
          2692747175,
          46704569,
          1579203134,
          1078473591,
          257959864,
          3342846470,
          463276486,
          2382596869
         ],
         "textposition": "outside",
         "texttemplate": "%{text:.2s}",
         "type": "bar",
         "x": [
          "Andaman and Nicobar Islands",
          "Andhra Pradesh",
          "Arunachal Pradesh",
          "Assam",
          "Bihar",
          "Chandigarh",
          "Chhattisgarh",
          "Dadra and Nagar Haveli and Daman and Diu",
          "Delhi",
          "Goa",
          "Gujarat",
          "Haryana",
          "Himachal Pradesh",
          "Jammu and Kashmir",
          "Jharkhand",
          "Karnataka",
          "Kerala",
          "Ladakh",
          "Lakshadweep",
          "Madhya Pradesh",
          "Maharashtra",
          "Manipur",
          "Meghalaya",
          "Mizoram",
          "Nagaland",
          "Odisha",
          "Puducherry",
          "Punjab",
          "Rajasthan",
          "Sikkim",
          "Tamil Nadu",
          "Telangana",
          "Tripura",
          "Uttar Pradesh",
          "Uttarakhand",
          "West Bengal"
         ],
         "xaxis": "x",
         "y": [
          20544408,
          1591678440,
          60937297,
          716389018,
          1741293449,
          56296840,
          968123302,
          38189479,
          812558419,
          92189542,
          2732064385,
          914454410,
          390132586,
          496053428,
          725794786,
          2300517146,
          1557893825,
          23263011,
          5420101,
          2113537548,
          3497245417,
          79267718,
          74782607,
          57871495,
          51615403,
          1283935962,
          49955717,
          705467577,
          2692747175,
          46704569,
          1579203134,
          1078473591,
          257959864,
          3342846470,
          463276486,
          2382596869
         ],
         "yaxis": "y"
        }
       ],
       "layout": {
        "bargap": 0.05,
        "barmode": "relative",
        "height": 900,
        "legend": {
         "tracegroupgap": 0
        },
        "margin": {
         "t": 60
        },
        "template": {
         "data": {
          "bar": [
           {
            "error_x": {
             "color": "#2a3f5f"
            },
            "error_y": {
             "color": "#2a3f5f"
            },
            "marker": {
             "line": {
              "color": "#E5ECF6",
              "width": 0.5
             },
             "pattern": {
              "fillmode": "overlay",
              "size": 10,
              "solidity": 0.2
             }
            },
            "type": "bar"
           }
          ],
          "barpolar": [
           {
            "marker": {
             "line": {
              "color": "#E5ECF6",
              "width": 0.5
             },
             "pattern": {
              "fillmode": "overlay",
              "size": 10,
              "solidity": 0.2
             }
            },
            "type": "barpolar"
           }
          ],
          "carpet": [
           {
            "aaxis": {
             "endlinecolor": "#2a3f5f",
             "gridcolor": "white",
             "linecolor": "white",
             "minorgridcolor": "white",
             "startlinecolor": "#2a3f5f"
            },
            "baxis": {
             "endlinecolor": "#2a3f5f",
             "gridcolor": "white",
             "linecolor": "white",
             "minorgridcolor": "white",
             "startlinecolor": "#2a3f5f"
            },
            "type": "carpet"
           }
          ],
          "choropleth": [
           {
            "colorbar": {
             "outlinewidth": 0,
             "ticks": ""
            },
            "type": "choropleth"
           }
          ],
          "contour": [
           {
            "colorbar": {
             "outlinewidth": 0,
             "ticks": ""
            },
            "colorscale": [
             [
              0,
              "#0d0887"
             ],
             [
              0.1111111111111111,
              "#46039f"
             ],
             [
              0.2222222222222222,
              "#7201a8"
             ],
             [
              0.3333333333333333,
              "#9c179e"
             ],
             [
              0.4444444444444444,
              "#bd3786"
             ],
             [
              0.5555555555555556,
              "#d8576b"
             ],
             [
              0.6666666666666666,
              "#ed7953"
             ],
             [
              0.7777777777777778,
              "#fb9f3a"
             ],
             [
              0.8888888888888888,
              "#fdca26"
             ],
             [
              1,
              "#f0f921"
             ]
            ],
            "type": "contour"
           }
          ],
          "contourcarpet": [
           {
            "colorbar": {
             "outlinewidth": 0,
             "ticks": ""
            },
            "type": "contourcarpet"
           }
          ],
          "heatmap": [
           {
            "colorbar": {
             "outlinewidth": 0,
             "ticks": ""
            },
            "colorscale": [
             [
              0,
              "#0d0887"
             ],
             [
              0.1111111111111111,
              "#46039f"
             ],
             [
              0.2222222222222222,
              "#7201a8"
             ],
             [
              0.3333333333333333,
              "#9c179e"
             ],
             [
              0.4444444444444444,
              "#bd3786"
             ],
             [
              0.5555555555555556,
              "#d8576b"
             ],
             [
              0.6666666666666666,
              "#ed7953"
             ],
             [
              0.7777777777777778,
              "#fb9f3a"
             ],
             [
              0.8888888888888888,
              "#fdca26"
             ],
             [
              1,
              "#f0f921"
             ]
            ],
            "type": "heatmap"
           }
          ],
          "heatmapgl": [
           {
            "colorbar": {
             "outlinewidth": 0,
             "ticks": ""
            },
            "colorscale": [
             [
              0,
              "#0d0887"
             ],
             [
              0.1111111111111111,
              "#46039f"
             ],
             [
              0.2222222222222222,
              "#7201a8"
             ],
             [
              0.3333333333333333,
              "#9c179e"
             ],
             [
              0.4444444444444444,
              "#bd3786"
             ],
             [
              0.5555555555555556,
              "#d8576b"
             ],
             [
              0.6666666666666666,
              "#ed7953"
             ],
             [
              0.7777777777777778,
              "#fb9f3a"
             ],
             [
              0.8888888888888888,
              "#fdca26"
             ],
             [
              1,
              "#f0f921"
             ]
            ],
            "type": "heatmapgl"
           }
          ],
          "histogram": [
           {
            "marker": {
             "pattern": {
              "fillmode": "overlay",
              "size": 10,
              "solidity": 0.2
             }
            },
            "type": "histogram"
           }
          ],
          "histogram2d": [
           {
            "colorbar": {
             "outlinewidth": 0,
             "ticks": ""
            },
            "colorscale": [
             [
              0,
              "#0d0887"
             ],
             [
              0.1111111111111111,
              "#46039f"
             ],
             [
              0.2222222222222222,
              "#7201a8"
             ],
             [
              0.3333333333333333,
              "#9c179e"
             ],
             [
              0.4444444444444444,
              "#bd3786"
             ],
             [
              0.5555555555555556,
              "#d8576b"
             ],
             [
              0.6666666666666666,
              "#ed7953"
             ],
             [
              0.7777777777777778,
              "#fb9f3a"
             ],
             [
              0.8888888888888888,
              "#fdca26"
             ],
             [
              1,
              "#f0f921"
             ]
            ],
            "type": "histogram2d"
           }
          ],
          "histogram2dcontour": [
           {
            "colorbar": {
             "outlinewidth": 0,
             "ticks": ""
            },
            "colorscale": [
             [
              0,
              "#0d0887"
             ],
             [
              0.1111111111111111,
              "#46039f"
             ],
             [
              0.2222222222222222,
              "#7201a8"
             ],
             [
              0.3333333333333333,
              "#9c179e"
             ],
             [
              0.4444444444444444,
              "#bd3786"
             ],
             [
              0.5555555555555556,
              "#d8576b"
             ],
             [
              0.6666666666666666,
              "#ed7953"
             ],
             [
              0.7777777777777778,
              "#fb9f3a"
             ],
             [
              0.8888888888888888,
              "#fdca26"
             ],
             [
              1,
              "#f0f921"
             ]
            ],
            "type": "histogram2dcontour"
           }
          ],
          "mesh3d": [
           {
            "colorbar": {
             "outlinewidth": 0,
             "ticks": ""
            },
            "type": "mesh3d"
           }
          ],
          "parcoords": [
           {
            "line": {
             "colorbar": {
              "outlinewidth": 0,
              "ticks": ""
             }
            },
            "type": "parcoords"
           }
          ],
          "pie": [
           {
            "automargin": true,
            "type": "pie"
           }
          ],
          "scatter": [
           {
            "marker": {
             "colorbar": {
              "outlinewidth": 0,
              "ticks": ""
             }
            },
            "type": "scatter"
           }
          ],
          "scatter3d": [
           {
            "line": {
             "colorbar": {
              "outlinewidth": 0,
              "ticks": ""
             }
            },
            "marker": {
             "colorbar": {
              "outlinewidth": 0,
              "ticks": ""
             }
            },
            "type": "scatter3d"
           }
          ],
          "scattercarpet": [
           {
            "marker": {
             "colorbar": {
              "outlinewidth": 0,
              "ticks": ""
             }
            },
            "type": "scattercarpet"
           }
          ],
          "scattergeo": [
           {
            "marker": {
             "colorbar": {
              "outlinewidth": 0,
              "ticks": ""
             }
            },
            "type": "scattergeo"
           }
          ],
          "scattergl": [
           {
            "marker": {
             "colorbar": {
              "outlinewidth": 0,
              "ticks": ""
             }
            },
            "type": "scattergl"
           }
          ],
          "scattermapbox": [
           {
            "marker": {
             "colorbar": {
              "outlinewidth": 0,
              "ticks": ""
             }
            },
            "type": "scattermapbox"
           }
          ],
          "scatterpolar": [
           {
            "marker": {
             "colorbar": {
              "outlinewidth": 0,
              "ticks": ""
             }
            },
            "type": "scatterpolar"
           }
          ],
          "scatterpolargl": [
           {
            "marker": {
             "colorbar": {
              "outlinewidth": 0,
              "ticks": ""
             }
            },
            "type": "scatterpolargl"
           }
          ],
          "scatterternary": [
           {
            "marker": {
             "colorbar": {
              "outlinewidth": 0,
              "ticks": ""
             }
            },
            "type": "scatterternary"
           }
          ],
          "surface": [
           {
            "colorbar": {
             "outlinewidth": 0,
             "ticks": ""
            },
            "colorscale": [
             [
              0,
              "#0d0887"
             ],
             [
              0.1111111111111111,
              "#46039f"
             ],
             [
              0.2222222222222222,
              "#7201a8"
             ],
             [
              0.3333333333333333,
              "#9c179e"
             ],
             [
              0.4444444444444444,
              "#bd3786"
             ],
             [
              0.5555555555555556,
              "#d8576b"
             ],
             [
              0.6666666666666666,
              "#ed7953"
             ],
             [
              0.7777777777777778,
              "#fb9f3a"
             ],
             [
              0.8888888888888888,
              "#fdca26"
             ],
             [
              1,
              "#f0f921"
             ]
            ],
            "type": "surface"
           }
          ],
          "table": [
           {
            "cells": {
             "fill": {
              "color": "#EBF0F8"
             },
             "line": {
              "color": "white"
             }
            },
            "header": {
             "fill": {
              "color": "#C8D4E3"
             },
             "line": {
              "color": "white"
             }
            },
            "type": "table"
           }
          ]
         },
         "layout": {
          "annotationdefaults": {
           "arrowcolor": "#2a3f5f",
           "arrowhead": 0,
           "arrowwidth": 1
          },
          "autotypenumbers": "strict",
          "coloraxis": {
           "colorbar": {
            "outlinewidth": 0,
            "ticks": ""
           }
          },
          "colorscale": {
           "diverging": [
            [
             0,
             "#8e0152"
            ],
            [
             0.1,
             "#c51b7d"
            ],
            [
             0.2,
             "#de77ae"
            ],
            [
             0.3,
             "#f1b6da"
            ],
            [
             0.4,
             "#fde0ef"
            ],
            [
             0.5,
             "#f7f7f7"
            ],
            [
             0.6,
             "#e6f5d0"
            ],
            [
             0.7,
             "#b8e186"
            ],
            [
             0.8,
             "#7fbc41"
            ],
            [
             0.9,
             "#4d9221"
            ],
            [
             1,
             "#276419"
            ]
           ],
           "sequential": [
            [
             0,
             "#0d0887"
            ],
            [
             0.1111111111111111,
             "#46039f"
            ],
            [
             0.2222222222222222,
             "#7201a8"
            ],
            [
             0.3333333333333333,
             "#9c179e"
            ],
            [
             0.4444444444444444,
             "#bd3786"
            ],
            [
             0.5555555555555556,
             "#d8576b"
            ],
            [
             0.6666666666666666,
             "#ed7953"
            ],
            [
             0.7777777777777778,
             "#fb9f3a"
            ],
            [
             0.8888888888888888,
             "#fdca26"
            ],
            [
             1,
             "#f0f921"
            ]
           ],
           "sequentialminus": [
            [
             0,
             "#0d0887"
            ],
            [
             0.1111111111111111,
             "#46039f"
            ],
            [
             0.2222222222222222,
             "#7201a8"
            ],
            [
             0.3333333333333333,
             "#9c179e"
            ],
            [
             0.4444444444444444,
             "#bd3786"
            ],
            [
             0.5555555555555556,
             "#d8576b"
            ],
            [
             0.6666666666666666,
             "#ed7953"
            ],
            [
             0.7777777777777778,
             "#fb9f3a"
            ],
            [
             0.8888888888888888,
             "#fdca26"
            ],
            [
             1,
             "#f0f921"
            ]
           ]
          },
          "colorway": [
           "#636efa",
           "#EF553B",
           "#00cc96",
           "#ab63fa",
           "#FFA15A",
           "#19d3f3",
           "#FF6692",
           "#B6E880",
           "#FF97FF",
           "#FECB52"
          ],
          "font": {
           "color": "#2a3f5f"
          },
          "geo": {
           "bgcolor": "white",
           "lakecolor": "white",
           "landcolor": "#E5ECF6",
           "showlakes": true,
           "showland": true,
           "subunitcolor": "white"
          },
          "hoverlabel": {
           "align": "left"
          },
          "hovermode": "closest",
          "mapbox": {
           "style": "light"
          },
          "paper_bgcolor": "white",
          "plot_bgcolor": "#E5ECF6",
          "polar": {
           "angularaxis": {
            "gridcolor": "white",
            "linecolor": "white",
            "ticks": ""
           },
           "bgcolor": "#E5ECF6",
           "radialaxis": {
            "gridcolor": "white",
            "linecolor": "white",
            "ticks": ""
           }
          },
          "scene": {
           "xaxis": {
            "backgroundcolor": "#E5ECF6",
            "gridcolor": "white",
            "gridwidth": 2,
            "linecolor": "white",
            "showbackground": true,
            "ticks": "",
            "zerolinecolor": "white"
           },
           "yaxis": {
            "backgroundcolor": "#E5ECF6",
            "gridcolor": "white",
            "gridwidth": 2,
            "linecolor": "white",
            "showbackground": true,
            "ticks": "",
            "zerolinecolor": "white"
           },
           "zaxis": {
            "backgroundcolor": "#E5ECF6",
            "gridcolor": "white",
            "gridwidth": 2,
            "linecolor": "white",
            "showbackground": true,
            "ticks": "",
            "zerolinecolor": "white"
           }
          },
          "shapedefaults": {
           "line": {
            "color": "#2a3f5f"
           }
          },
          "ternary": {
           "aaxis": {
            "gridcolor": "white",
            "linecolor": "white",
            "ticks": ""
           },
           "baxis": {
            "gridcolor": "white",
            "linecolor": "white",
            "ticks": ""
           },
           "bgcolor": "#E5ECF6",
           "caxis": {
            "gridcolor": "white",
            "linecolor": "white",
            "ticks": ""
           }
          },
          "title": {
           "x": 0.05
          },
          "xaxis": {
           "automargin": true,
           "gridcolor": "white",
           "linecolor": "white",
           "ticks": "",
           "title": {
            "standoff": 15
           },
           "zerolinecolor": "white",
           "zerolinewidth": 2
          },
          "yaxis": {
           "automargin": true,
           "gridcolor": "white",
           "linecolor": "white",
           "ticks": "",
           "title": {
            "standoff": 15
           },
           "zerolinecolor": "white",
           "zerolinewidth": 2
          }
         }
        },
        "width": 900,
        "xaxis": {
         "anchor": "y",
         "domain": [
          0,
          1
         ],
         "title": {
          "text": "State"
         }
        },
        "yaxis": {
         "anchor": "x",
         "domain": [
          0,
          1
         ],
         "title": {
          "text": "TotalDoses"
         }
        }
       }
      },
      "text/html": [
       "<div>                            <div id=\"3480c6d6-1f82-4616-8f6a-55206bc6c7f3\" class=\"plotly-graph-div\" style=\"height:900px; width:900px;\"></div>            <script type=\"text/javascript\">                require([\"plotly\"], function(Plotly) {                    window.PLOTLYENV=window.PLOTLYENV || {};                                    if (document.getElementById(\"3480c6d6-1f82-4616-8f6a-55206bc6c7f3\")) {                    Plotly.newPlot(                        \"3480c6d6-1f82-4616-8f6a-55206bc6c7f3\",                        [{\"alignmentgroup\":\"True\",\"hovertemplate\":\"State=%{x}<br>TotalDoses=%{text}<extra></extra>\",\"legendgroup\":\"\",\"marker\":{\"color\":\"darkgreen\",\"pattern\":{\"shape\":\"\"}},\"name\":\"\",\"offsetgroup\":\"\",\"orientation\":\"v\",\"showlegend\":false,\"text\":[20544408.0,1591678440.0,60937297.0,716389018.0,1741293449.0,56296840.0,968123302.0,38189479.0,812558419.0,92189542.0,2732064385.0,914454410.0,390132586.0,496053428.0,725794786.0,2300517146.0,1557893825.0,23263011.0,5420101.0,2113537548.0,3497245417.0,79267718.0,74782607.0,57871495.0,51615403.0,1283935962.0,49955717.0,705467577.0,2692747175.0,46704569.0,1579203134.0,1078473591.0,257959864.0,3342846470.0,463276486.0,2382596869.0],\"textposition\":\"outside\",\"texttemplate\":\"%{text:.2s}\",\"type\":\"bar\",\"x\":[\"Andaman and Nicobar Islands\",\"Andhra Pradesh\",\"Arunachal Pradesh\",\"Assam\",\"Bihar\",\"Chandigarh\",\"Chhattisgarh\",\"Dadra and Nagar Haveli and Daman and Diu\",\"Delhi\",\"Goa\",\"Gujarat\",\"Haryana\",\"Himachal Pradesh\",\"Jammu and Kashmir\",\"Jharkhand\",\"Karnataka\",\"Kerala\",\"Ladakh\",\"Lakshadweep\",\"Madhya Pradesh\",\"Maharashtra\",\"Manipur\",\"Meghalaya\",\"Mizoram\",\"Nagaland\",\"Odisha\",\"Puducherry\",\"Punjab\",\"Rajasthan\",\"Sikkim\",\"Tamil Nadu\",\"Telangana\",\"Tripura\",\"Uttar Pradesh\",\"Uttarakhand\",\"West Bengal\"],\"xaxis\":\"x\",\"y\":[20544408.0,1591678440.0,60937297.0,716389018.0,1741293449.0,56296840.0,968123302.0,38189479.0,812558419.0,92189542.0,2732064385.0,914454410.0,390132586.0,496053428.0,725794786.0,2300517146.0,1557893825.0,23263011.0,5420101.0,2113537548.0,3497245417.0,79267718.0,74782607.0,57871495.0,51615403.0,1283935962.0,49955717.0,705467577.0,2692747175.0,46704569.0,1579203134.0,1078473591.0,257959864.0,3342846470.0,463276486.0,2382596869.0],\"yaxis\":\"y\"}],                        {\"bargap\":0.05,\"barmode\":\"relative\",\"height\":900,\"legend\":{\"tracegroupgap\":0},\"margin\":{\"t\":60},\"template\":{\"data\":{\"bar\":[{\"error_x\":{\"color\":\"#2a3f5f\"},\"error_y\":{\"color\":\"#2a3f5f\"},\"marker\":{\"line\":{\"color\":\"#E5ECF6\",\"width\":0.5},\"pattern\":{\"fillmode\":\"overlay\",\"size\":10,\"solidity\":0.2}},\"type\":\"bar\"}],\"barpolar\":[{\"marker\":{\"line\":{\"color\":\"#E5ECF6\",\"width\":0.5},\"pattern\":{\"fillmode\":\"overlay\",\"size\":10,\"solidity\":0.2}},\"type\":\"barpolar\"}],\"carpet\":[{\"aaxis\":{\"endlinecolor\":\"#2a3f5f\",\"gridcolor\":\"white\",\"linecolor\":\"white\",\"minorgridcolor\":\"white\",\"startlinecolor\":\"#2a3f5f\"},\"baxis\":{\"endlinecolor\":\"#2a3f5f\",\"gridcolor\":\"white\",\"linecolor\":\"white\",\"minorgridcolor\":\"white\",\"startlinecolor\":\"#2a3f5f\"},\"type\":\"carpet\"}],\"choropleth\":[{\"colorbar\":{\"outlinewidth\":0,\"ticks\":\"\"},\"type\":\"choropleth\"}],\"contour\":[{\"colorbar\":{\"outlinewidth\":0,\"ticks\":\"\"},\"colorscale\":[[0.0,\"#0d0887\"],[0.1111111111111111,\"#46039f\"],[0.2222222222222222,\"#7201a8\"],[0.3333333333333333,\"#9c179e\"],[0.4444444444444444,\"#bd3786\"],[0.5555555555555556,\"#d8576b\"],[0.6666666666666666,\"#ed7953\"],[0.7777777777777778,\"#fb9f3a\"],[0.8888888888888888,\"#fdca26\"],[1.0,\"#f0f921\"]],\"type\":\"contour\"}],\"contourcarpet\":[{\"colorbar\":{\"outlinewidth\":0,\"ticks\":\"\"},\"type\":\"contourcarpet\"}],\"heatmap\":[{\"colorbar\":{\"outlinewidth\":0,\"ticks\":\"\"},\"colorscale\":[[0.0,\"#0d0887\"],[0.1111111111111111,\"#46039f\"],[0.2222222222222222,\"#7201a8\"],[0.3333333333333333,\"#9c179e\"],[0.4444444444444444,\"#bd3786\"],[0.5555555555555556,\"#d8576b\"],[0.6666666666666666,\"#ed7953\"],[0.7777777777777778,\"#fb9f3a\"],[0.8888888888888888,\"#fdca26\"],[1.0,\"#f0f921\"]],\"type\":\"heatmap\"}],\"heatmapgl\":[{\"colorbar\":{\"outlinewidth\":0,\"ticks\":\"\"},\"colorscale\":[[0.0,\"#0d0887\"],[0.1111111111111111,\"#46039f\"],[0.2222222222222222,\"#7201a8\"],[0.3333333333333333,\"#9c179e\"],[0.4444444444444444,\"#bd3786\"],[0.5555555555555556,\"#d8576b\"],[0.6666666666666666,\"#ed7953\"],[0.7777777777777778,\"#fb9f3a\"],[0.8888888888888888,\"#fdca26\"],[1.0,\"#f0f921\"]],\"type\":\"heatmapgl\"}],\"histogram\":[{\"marker\":{\"pattern\":{\"fillmode\":\"overlay\",\"size\":10,\"solidity\":0.2}},\"type\":\"histogram\"}],\"histogram2d\":[{\"colorbar\":{\"outlinewidth\":0,\"ticks\":\"\"},\"colorscale\":[[0.0,\"#0d0887\"],[0.1111111111111111,\"#46039f\"],[0.2222222222222222,\"#7201a8\"],[0.3333333333333333,\"#9c179e\"],[0.4444444444444444,\"#bd3786\"],[0.5555555555555556,\"#d8576b\"],[0.6666666666666666,\"#ed7953\"],[0.7777777777777778,\"#fb9f3a\"],[0.8888888888888888,\"#fdca26\"],[1.0,\"#f0f921\"]],\"type\":\"histogram2d\"}],\"histogram2dcontour\":[{\"colorbar\":{\"outlinewidth\":0,\"ticks\":\"\"},\"colorscale\":[[0.0,\"#0d0887\"],[0.1111111111111111,\"#46039f\"],[0.2222222222222222,\"#7201a8\"],[0.3333333333333333,\"#9c179e\"],[0.4444444444444444,\"#bd3786\"],[0.5555555555555556,\"#d8576b\"],[0.6666666666666666,\"#ed7953\"],[0.7777777777777778,\"#fb9f3a\"],[0.8888888888888888,\"#fdca26\"],[1.0,\"#f0f921\"]],\"type\":\"histogram2dcontour\"}],\"mesh3d\":[{\"colorbar\":{\"outlinewidth\":0,\"ticks\":\"\"},\"type\":\"mesh3d\"}],\"parcoords\":[{\"line\":{\"colorbar\":{\"outlinewidth\":0,\"ticks\":\"\"}},\"type\":\"parcoords\"}],\"pie\":[{\"automargin\":true,\"type\":\"pie\"}],\"scatter\":[{\"marker\":{\"colorbar\":{\"outlinewidth\":0,\"ticks\":\"\"}},\"type\":\"scatter\"}],\"scatter3d\":[{\"line\":{\"colorbar\":{\"outlinewidth\":0,\"ticks\":\"\"}},\"marker\":{\"colorbar\":{\"outlinewidth\":0,\"ticks\":\"\"}},\"type\":\"scatter3d\"}],\"scattercarpet\":[{\"marker\":{\"colorbar\":{\"outlinewidth\":0,\"ticks\":\"\"}},\"type\":\"scattercarpet\"}],\"scattergeo\":[{\"marker\":{\"colorbar\":{\"outlinewidth\":0,\"ticks\":\"\"}},\"type\":\"scattergeo\"}],\"scattergl\":[{\"marker\":{\"colorbar\":{\"outlinewidth\":0,\"ticks\":\"\"}},\"type\":\"scattergl\"}],\"scattermapbox\":[{\"marker\":{\"colorbar\":{\"outlinewidth\":0,\"ticks\":\"\"}},\"type\":\"scattermapbox\"}],\"scatterpolar\":[{\"marker\":{\"colorbar\":{\"outlinewidth\":0,\"ticks\":\"\"}},\"type\":\"scatterpolar\"}],\"scatterpolargl\":[{\"marker\":{\"colorbar\":{\"outlinewidth\":0,\"ticks\":\"\"}},\"type\":\"scatterpolargl\"}],\"scatterternary\":[{\"marker\":{\"colorbar\":{\"outlinewidth\":0,\"ticks\":\"\"}},\"type\":\"scatterternary\"}],\"surface\":[{\"colorbar\":{\"outlinewidth\":0,\"ticks\":\"\"},\"colorscale\":[[0.0,\"#0d0887\"],[0.1111111111111111,\"#46039f\"],[0.2222222222222222,\"#7201a8\"],[0.3333333333333333,\"#9c179e\"],[0.4444444444444444,\"#bd3786\"],[0.5555555555555556,\"#d8576b\"],[0.6666666666666666,\"#ed7953\"],[0.7777777777777778,\"#fb9f3a\"],[0.8888888888888888,\"#fdca26\"],[1.0,\"#f0f921\"]],\"type\":\"surface\"}],\"table\":[{\"cells\":{\"fill\":{\"color\":\"#EBF0F8\"},\"line\":{\"color\":\"white\"}},\"header\":{\"fill\":{\"color\":\"#C8D4E3\"},\"line\":{\"color\":\"white\"}},\"type\":\"table\"}]},\"layout\":{\"annotationdefaults\":{\"arrowcolor\":\"#2a3f5f\",\"arrowhead\":0,\"arrowwidth\":1},\"autotypenumbers\":\"strict\",\"coloraxis\":{\"colorbar\":{\"outlinewidth\":0,\"ticks\":\"\"}},\"colorscale\":{\"diverging\":[[0,\"#8e0152\"],[0.1,\"#c51b7d\"],[0.2,\"#de77ae\"],[0.3,\"#f1b6da\"],[0.4,\"#fde0ef\"],[0.5,\"#f7f7f7\"],[0.6,\"#e6f5d0\"],[0.7,\"#b8e186\"],[0.8,\"#7fbc41\"],[0.9,\"#4d9221\"],[1,\"#276419\"]],\"sequential\":[[0.0,\"#0d0887\"],[0.1111111111111111,\"#46039f\"],[0.2222222222222222,\"#7201a8\"],[0.3333333333333333,\"#9c179e\"],[0.4444444444444444,\"#bd3786\"],[0.5555555555555556,\"#d8576b\"],[0.6666666666666666,\"#ed7953\"],[0.7777777777777778,\"#fb9f3a\"],[0.8888888888888888,\"#fdca26\"],[1.0,\"#f0f921\"]],\"sequentialminus\":[[0.0,\"#0d0887\"],[0.1111111111111111,\"#46039f\"],[0.2222222222222222,\"#7201a8\"],[0.3333333333333333,\"#9c179e\"],[0.4444444444444444,\"#bd3786\"],[0.5555555555555556,\"#d8576b\"],[0.6666666666666666,\"#ed7953\"],[0.7777777777777778,\"#fb9f3a\"],[0.8888888888888888,\"#fdca26\"],[1.0,\"#f0f921\"]]},\"colorway\":[\"#636efa\",\"#EF553B\",\"#00cc96\",\"#ab63fa\",\"#FFA15A\",\"#19d3f3\",\"#FF6692\",\"#B6E880\",\"#FF97FF\",\"#FECB52\"],\"font\":{\"color\":\"#2a3f5f\"},\"geo\":{\"bgcolor\":\"white\",\"lakecolor\":\"white\",\"landcolor\":\"#E5ECF6\",\"showlakes\":true,\"showland\":true,\"subunitcolor\":\"white\"},\"hoverlabel\":{\"align\":\"left\"},\"hovermode\":\"closest\",\"mapbox\":{\"style\":\"light\"},\"paper_bgcolor\":\"white\",\"plot_bgcolor\":\"#E5ECF6\",\"polar\":{\"angularaxis\":{\"gridcolor\":\"white\",\"linecolor\":\"white\",\"ticks\":\"\"},\"bgcolor\":\"#E5ECF6\",\"radialaxis\":{\"gridcolor\":\"white\",\"linecolor\":\"white\",\"ticks\":\"\"}},\"scene\":{\"xaxis\":{\"backgroundcolor\":\"#E5ECF6\",\"gridcolor\":\"white\",\"gridwidth\":2,\"linecolor\":\"white\",\"showbackground\":true,\"ticks\":\"\",\"zerolinecolor\":\"white\"},\"yaxis\":{\"backgroundcolor\":\"#E5ECF6\",\"gridcolor\":\"white\",\"gridwidth\":2,\"linecolor\":\"white\",\"showbackground\":true,\"ticks\":\"\",\"zerolinecolor\":\"white\"},\"zaxis\":{\"backgroundcolor\":\"#E5ECF6\",\"gridcolor\":\"white\",\"gridwidth\":2,\"linecolor\":\"white\",\"showbackground\":true,\"ticks\":\"\",\"zerolinecolor\":\"white\"}},\"shapedefaults\":{\"line\":{\"color\":\"#2a3f5f\"}},\"ternary\":{\"aaxis\":{\"gridcolor\":\"white\",\"linecolor\":\"white\",\"ticks\":\"\"},\"baxis\":{\"gridcolor\":\"white\",\"linecolor\":\"white\",\"ticks\":\"\"},\"bgcolor\":\"#E5ECF6\",\"caxis\":{\"gridcolor\":\"white\",\"linecolor\":\"white\",\"ticks\":\"\"}},\"title\":{\"x\":0.05},\"xaxis\":{\"automargin\":true,\"gridcolor\":\"white\",\"linecolor\":\"white\",\"ticks\":\"\",\"title\":{\"standoff\":15},\"zerolinecolor\":\"white\",\"zerolinewidth\":2},\"yaxis\":{\"automargin\":true,\"gridcolor\":\"white\",\"linecolor\":\"white\",\"ticks\":\"\",\"title\":{\"standoff\":15},\"zerolinecolor\":\"white\",\"zerolinewidth\":2}}},\"width\":900,\"xaxis\":{\"anchor\":\"y\",\"domain\":[0.0,1.0],\"title\":{\"text\":\"State\"}},\"yaxis\":{\"anchor\":\"x\",\"domain\":[0.0,1.0],\"title\":{\"text\":\"TotalDoses\"}}},                        {\"responsive\": true}                    ).then(function(){\n",
       "                            \n",
       "var gd = document.getElementById('3480c6d6-1f82-4616-8f6a-55206bc6c7f3');\n",
       "var x = new MutationObserver(function (mutations, observer) {{\n",
       "        var display = window.getComputedStyle(gd).display;\n",
       "        if (!display || display === 'none') {{\n",
       "            console.log([gd, 'removed!']);\n",
       "            Plotly.purge(gd);\n",
       "            observer.disconnect();\n",
       "        }}\n",
       "}});\n",
       "\n",
       "// Listen for the removal of the full notebook cells\n",
       "var notebookContainer = gd.closest('#notebook-container');\n",
       "if (notebookContainer) {{\n",
       "    x.observe(notebookContainer, {childList: true});\n",
       "}}\n",
       "\n",
       "// Listen for the clearing of the current output cell\n",
       "var outputEl = gd.closest('.output');\n",
       "if (outputEl) {{\n",
       "    x.observe(outputEl, {childList: true});\n",
       "}}\n",
       "\n",
       "                        })                };                });            </script>        </div>"
      ]
     },
     "metadata": {},
     "output_type": "display_data"
    }
   ],
   "source": [
    "fig = px.bar(covidVaccine_2, x='State', y='TotalDoses',text='TotalDoses')\n",
    "fig.update_traces(marker_color='darkgreen',texttemplate='%{text:.2s}', textposition='outside')\n",
    "fig.update_layout(width=900, height=900, bargap=0.05)\n",
    "fig.show()"
   ]
  },
  {
   "cell_type": "code",
   "execution_count": 25,
   "metadata": {},
   "outputs": [
    {
     "data": {
      "application/vnd.plotly.v1+json": {
       "config": {
        "plotlyServerURL": "https://plot.ly"
       },
       "data": [
        {
         "alignmentgroup": "True",
         "hovertemplate": "variable=Covaxin<br>State=%{x}<br>value=%{y}<extra></extra>",
         "legendgroup": "Covaxin",
         "marker": {
          "color": "#636efa",
          "pattern": {
           "shape": ""
          }
         },
         "name": "Covaxin",
         "offsetgroup": "Covaxin",
         "orientation": "v",
         "showlegend": true,
         "textposition": "auto",
         "type": "bar",
         "x": [
          "Andaman and Nicobar Islands",
          "Andhra Pradesh",
          "Arunachal Pradesh",
          "Assam",
          "Bihar",
          "Chandigarh",
          "Chhattisgarh",
          "Dadra and Nagar Haveli and Daman and Diu",
          "Delhi",
          "Goa",
          "Gujarat",
          "Haryana",
          "Himachal Pradesh",
          "Jammu and Kashmir",
          "Jharkhand",
          "Karnataka",
          "Kerala",
          "Ladakh",
          "Lakshadweep",
          "Madhya Pradesh",
          "Maharashtra",
          "Manipur",
          "Meghalaya",
          "Mizoram",
          "Nagaland",
          "Odisha",
          "Puducherry",
          "Punjab",
          "Rajasthan",
          "Sikkim",
          "Tamil Nadu",
          "Telangana",
          "Tripura",
          "Uttar Pradesh",
          "Uttarakhand",
          "West Bengal"
         ],
         "xaxis": "x",
         "y": [
          0,
          263695249,
          1820,
          118720291,
          156807520,
          117678,
          57309565,
          1072,
          218692040,
          1469705,
          307771021,
          129521424,
          106196,
          10689044,
          101754584,
          260352181,
          121110027,
          910,
          75,
          242969922,
          407481575,
          743,
          2275,
          137,
          3736,
          144665930,
          10324,
          73123941,
          246809265,
          3239,
          240280582,
          191325530,
          2928848,
          381441691,
          21899227,
          279383416
         ],
         "yaxis": "y"
        },
        {
         "alignmentgroup": "True",
         "hovertemplate": "variable=CoviShield<br>State=%{x}<br>value=%{y}<extra></extra>",
         "legendgroup": "CoviShield",
         "marker": {
          "color": "#EF553B",
          "pattern": {
           "shape": ""
          }
         },
         "name": "CoviShield",
         "offsetgroup": "CoviShield",
         "orientation": "v",
         "showlegend": true,
         "textposition": "auto",
         "type": "bar",
         "x": [
          "Andaman and Nicobar Islands",
          "Andhra Pradesh",
          "Arunachal Pradesh",
          "Assam",
          "Bihar",
          "Chandigarh",
          "Chhattisgarh",
          "Dadra and Nagar Haveli and Daman and Diu",
          "Delhi",
          "Goa",
          "Gujarat",
          "Haryana",
          "Himachal Pradesh",
          "Jammu and Kashmir",
          "Jharkhand",
          "Karnataka",
          "Kerala",
          "Ladakh",
          "Lakshadweep",
          "Madhya Pradesh",
          "Maharashtra",
          "Manipur",
          "Meghalaya",
          "Mizoram",
          "Nagaland",
          "Odisha",
          "Puducherry",
          "Punjab",
          "Rajasthan",
          "Sikkim",
          "Tamil Nadu",
          "Telangana",
          "Tripura",
          "Uttar Pradesh",
          "Uttarakhand",
          "West Bengal"
         ],
         "xaxis": "x",
         "y": [
          20511428,
          1323987110,
          60800520,
          597082285,
          1582599853,
          56145302,
          909554256,
          38172816,
          592068871,
          90655057,
          2420791163,
          782914023,
          389422909,
          485074945,
          623347104,
          2035227559,
          1434197931,
          23240760,
          5417951,
          1867868439,
          3084927597,
          79216636,
          74712550,
          57761789,
          51477504,
          1136848204,
          49919498,
          631604429,
          2442166197,
          46663770,
          1337448910,
          881185368,
          254641197,
          2955198559,
          440878712,
          2099640463
         ],
         "yaxis": "y"
        },
        {
         "alignmentgroup": "True",
         "hovertemplate": "variable=TotalDoses<br>State=%{x}<br>value=%{y}<extra></extra>",
         "legendgroup": "TotalDoses",
         "marker": {
          "color": "#00cc96",
          "pattern": {
           "shape": ""
          }
         },
         "name": "TotalDoses",
         "offsetgroup": "TotalDoses",
         "orientation": "v",
         "showlegend": true,
         "textposition": "auto",
         "type": "bar",
         "x": [
          "Andaman and Nicobar Islands",
          "Andhra Pradesh",
          "Arunachal Pradesh",
          "Assam",
          "Bihar",
          "Chandigarh",
          "Chhattisgarh",
          "Dadra and Nagar Haveli and Daman and Diu",
          "Delhi",
          "Goa",
          "Gujarat",
          "Haryana",
          "Himachal Pradesh",
          "Jammu and Kashmir",
          "Jharkhand",
          "Karnataka",
          "Kerala",
          "Ladakh",
          "Lakshadweep",
          "Madhya Pradesh",
          "Maharashtra",
          "Manipur",
          "Meghalaya",
          "Mizoram",
          "Nagaland",
          "Odisha",
          "Puducherry",
          "Punjab",
          "Rajasthan",
          "Sikkim",
          "Tamil Nadu",
          "Telangana",
          "Tripura",
          "Uttar Pradesh",
          "Uttarakhand",
          "West Bengal"
         ],
         "xaxis": "x",
         "y": [
          20544408,
          1591678440,
          60937297,
          716389018,
          1741293449,
          56296840,
          968123302,
          38189479,
          812558419,
          92189542,
          2732064385,
          914454410,
          390132586,
          496053428,
          725794786,
          2300517146,
          1557893825,
          23263011,
          5420101,
          2113537548,
          3497245417,
          79267718,
          74782607,
          57871495,
          51615403,
          1283935962,
          49955717,
          705467577,
          2692747175,
          46704569,
          1579203134,
          1078473591,
          257959864,
          3342846470,
          463276486,
          2382596869
         ],
         "yaxis": "y"
        }
       ],
       "layout": {
        "barmode": "stack",
        "height": 1000,
        "legend": {
         "orientation": "h",
         "title": {
          "text": "variable"
         },
         "tracegroupgap": 0,
         "x": 0.3,
         "y": 1
        },
        "margin": {
         "t": 60
        },
        "template": {
         "data": {
          "bar": [
           {
            "error_x": {
             "color": "#2a3f5f"
            },
            "error_y": {
             "color": "#2a3f5f"
            },
            "marker": {
             "line": {
              "color": "#E5ECF6",
              "width": 0.5
             },
             "pattern": {
              "fillmode": "overlay",
              "size": 10,
              "solidity": 0.2
             }
            },
            "type": "bar"
           }
          ],
          "barpolar": [
           {
            "marker": {
             "line": {
              "color": "#E5ECF6",
              "width": 0.5
             },
             "pattern": {
              "fillmode": "overlay",
              "size": 10,
              "solidity": 0.2
             }
            },
            "type": "barpolar"
           }
          ],
          "carpet": [
           {
            "aaxis": {
             "endlinecolor": "#2a3f5f",
             "gridcolor": "white",
             "linecolor": "white",
             "minorgridcolor": "white",
             "startlinecolor": "#2a3f5f"
            },
            "baxis": {
             "endlinecolor": "#2a3f5f",
             "gridcolor": "white",
             "linecolor": "white",
             "minorgridcolor": "white",
             "startlinecolor": "#2a3f5f"
            },
            "type": "carpet"
           }
          ],
          "choropleth": [
           {
            "colorbar": {
             "outlinewidth": 0,
             "ticks": ""
            },
            "type": "choropleth"
           }
          ],
          "contour": [
           {
            "colorbar": {
             "outlinewidth": 0,
             "ticks": ""
            },
            "colorscale": [
             [
              0,
              "#0d0887"
             ],
             [
              0.1111111111111111,
              "#46039f"
             ],
             [
              0.2222222222222222,
              "#7201a8"
             ],
             [
              0.3333333333333333,
              "#9c179e"
             ],
             [
              0.4444444444444444,
              "#bd3786"
             ],
             [
              0.5555555555555556,
              "#d8576b"
             ],
             [
              0.6666666666666666,
              "#ed7953"
             ],
             [
              0.7777777777777778,
              "#fb9f3a"
             ],
             [
              0.8888888888888888,
              "#fdca26"
             ],
             [
              1,
              "#f0f921"
             ]
            ],
            "type": "contour"
           }
          ],
          "contourcarpet": [
           {
            "colorbar": {
             "outlinewidth": 0,
             "ticks": ""
            },
            "type": "contourcarpet"
           }
          ],
          "heatmap": [
           {
            "colorbar": {
             "outlinewidth": 0,
             "ticks": ""
            },
            "colorscale": [
             [
              0,
              "#0d0887"
             ],
             [
              0.1111111111111111,
              "#46039f"
             ],
             [
              0.2222222222222222,
              "#7201a8"
             ],
             [
              0.3333333333333333,
              "#9c179e"
             ],
             [
              0.4444444444444444,
              "#bd3786"
             ],
             [
              0.5555555555555556,
              "#d8576b"
             ],
             [
              0.6666666666666666,
              "#ed7953"
             ],
             [
              0.7777777777777778,
              "#fb9f3a"
             ],
             [
              0.8888888888888888,
              "#fdca26"
             ],
             [
              1,
              "#f0f921"
             ]
            ],
            "type": "heatmap"
           }
          ],
          "heatmapgl": [
           {
            "colorbar": {
             "outlinewidth": 0,
             "ticks": ""
            },
            "colorscale": [
             [
              0,
              "#0d0887"
             ],
             [
              0.1111111111111111,
              "#46039f"
             ],
             [
              0.2222222222222222,
              "#7201a8"
             ],
             [
              0.3333333333333333,
              "#9c179e"
             ],
             [
              0.4444444444444444,
              "#bd3786"
             ],
             [
              0.5555555555555556,
              "#d8576b"
             ],
             [
              0.6666666666666666,
              "#ed7953"
             ],
             [
              0.7777777777777778,
              "#fb9f3a"
             ],
             [
              0.8888888888888888,
              "#fdca26"
             ],
             [
              1,
              "#f0f921"
             ]
            ],
            "type": "heatmapgl"
           }
          ],
          "histogram": [
           {
            "marker": {
             "pattern": {
              "fillmode": "overlay",
              "size": 10,
              "solidity": 0.2
             }
            },
            "type": "histogram"
           }
          ],
          "histogram2d": [
           {
            "colorbar": {
             "outlinewidth": 0,
             "ticks": ""
            },
            "colorscale": [
             [
              0,
              "#0d0887"
             ],
             [
              0.1111111111111111,
              "#46039f"
             ],
             [
              0.2222222222222222,
              "#7201a8"
             ],
             [
              0.3333333333333333,
              "#9c179e"
             ],
             [
              0.4444444444444444,
              "#bd3786"
             ],
             [
              0.5555555555555556,
              "#d8576b"
             ],
             [
              0.6666666666666666,
              "#ed7953"
             ],
             [
              0.7777777777777778,
              "#fb9f3a"
             ],
             [
              0.8888888888888888,
              "#fdca26"
             ],
             [
              1,
              "#f0f921"
             ]
            ],
            "type": "histogram2d"
           }
          ],
          "histogram2dcontour": [
           {
            "colorbar": {
             "outlinewidth": 0,
             "ticks": ""
            },
            "colorscale": [
             [
              0,
              "#0d0887"
             ],
             [
              0.1111111111111111,
              "#46039f"
             ],
             [
              0.2222222222222222,
              "#7201a8"
             ],
             [
              0.3333333333333333,
              "#9c179e"
             ],
             [
              0.4444444444444444,
              "#bd3786"
             ],
             [
              0.5555555555555556,
              "#d8576b"
             ],
             [
              0.6666666666666666,
              "#ed7953"
             ],
             [
              0.7777777777777778,
              "#fb9f3a"
             ],
             [
              0.8888888888888888,
              "#fdca26"
             ],
             [
              1,
              "#f0f921"
             ]
            ],
            "type": "histogram2dcontour"
           }
          ],
          "mesh3d": [
           {
            "colorbar": {
             "outlinewidth": 0,
             "ticks": ""
            },
            "type": "mesh3d"
           }
          ],
          "parcoords": [
           {
            "line": {
             "colorbar": {
              "outlinewidth": 0,
              "ticks": ""
             }
            },
            "type": "parcoords"
           }
          ],
          "pie": [
           {
            "automargin": true,
            "type": "pie"
           }
          ],
          "scatter": [
           {
            "marker": {
             "colorbar": {
              "outlinewidth": 0,
              "ticks": ""
             }
            },
            "type": "scatter"
           }
          ],
          "scatter3d": [
           {
            "line": {
             "colorbar": {
              "outlinewidth": 0,
              "ticks": ""
             }
            },
            "marker": {
             "colorbar": {
              "outlinewidth": 0,
              "ticks": ""
             }
            },
            "type": "scatter3d"
           }
          ],
          "scattercarpet": [
           {
            "marker": {
             "colorbar": {
              "outlinewidth": 0,
              "ticks": ""
             }
            },
            "type": "scattercarpet"
           }
          ],
          "scattergeo": [
           {
            "marker": {
             "colorbar": {
              "outlinewidth": 0,
              "ticks": ""
             }
            },
            "type": "scattergeo"
           }
          ],
          "scattergl": [
           {
            "marker": {
             "colorbar": {
              "outlinewidth": 0,
              "ticks": ""
             }
            },
            "type": "scattergl"
           }
          ],
          "scattermapbox": [
           {
            "marker": {
             "colorbar": {
              "outlinewidth": 0,
              "ticks": ""
             }
            },
            "type": "scattermapbox"
           }
          ],
          "scatterpolar": [
           {
            "marker": {
             "colorbar": {
              "outlinewidth": 0,
              "ticks": ""
             }
            },
            "type": "scatterpolar"
           }
          ],
          "scatterpolargl": [
           {
            "marker": {
             "colorbar": {
              "outlinewidth": 0,
              "ticks": ""
             }
            },
            "type": "scatterpolargl"
           }
          ],
          "scatterternary": [
           {
            "marker": {
             "colorbar": {
              "outlinewidth": 0,
              "ticks": ""
             }
            },
            "type": "scatterternary"
           }
          ],
          "surface": [
           {
            "colorbar": {
             "outlinewidth": 0,
             "ticks": ""
            },
            "colorscale": [
             [
              0,
              "#0d0887"
             ],
             [
              0.1111111111111111,
              "#46039f"
             ],
             [
              0.2222222222222222,
              "#7201a8"
             ],
             [
              0.3333333333333333,
              "#9c179e"
             ],
             [
              0.4444444444444444,
              "#bd3786"
             ],
             [
              0.5555555555555556,
              "#d8576b"
             ],
             [
              0.6666666666666666,
              "#ed7953"
             ],
             [
              0.7777777777777778,
              "#fb9f3a"
             ],
             [
              0.8888888888888888,
              "#fdca26"
             ],
             [
              1,
              "#f0f921"
             ]
            ],
            "type": "surface"
           }
          ],
          "table": [
           {
            "cells": {
             "fill": {
              "color": "#EBF0F8"
             },
             "line": {
              "color": "white"
             }
            },
            "header": {
             "fill": {
              "color": "#C8D4E3"
             },
             "line": {
              "color": "white"
             }
            },
            "type": "table"
           }
          ]
         },
         "layout": {
          "annotationdefaults": {
           "arrowcolor": "#2a3f5f",
           "arrowhead": 0,
           "arrowwidth": 1
          },
          "autotypenumbers": "strict",
          "coloraxis": {
           "colorbar": {
            "outlinewidth": 0,
            "ticks": ""
           }
          },
          "colorscale": {
           "diverging": [
            [
             0,
             "#8e0152"
            ],
            [
             0.1,
             "#c51b7d"
            ],
            [
             0.2,
             "#de77ae"
            ],
            [
             0.3,
             "#f1b6da"
            ],
            [
             0.4,
             "#fde0ef"
            ],
            [
             0.5,
             "#f7f7f7"
            ],
            [
             0.6,
             "#e6f5d0"
            ],
            [
             0.7,
             "#b8e186"
            ],
            [
             0.8,
             "#7fbc41"
            ],
            [
             0.9,
             "#4d9221"
            ],
            [
             1,
             "#276419"
            ]
           ],
           "sequential": [
            [
             0,
             "#0d0887"
            ],
            [
             0.1111111111111111,
             "#46039f"
            ],
            [
             0.2222222222222222,
             "#7201a8"
            ],
            [
             0.3333333333333333,
             "#9c179e"
            ],
            [
             0.4444444444444444,
             "#bd3786"
            ],
            [
             0.5555555555555556,
             "#d8576b"
            ],
            [
             0.6666666666666666,
             "#ed7953"
            ],
            [
             0.7777777777777778,
             "#fb9f3a"
            ],
            [
             0.8888888888888888,
             "#fdca26"
            ],
            [
             1,
             "#f0f921"
            ]
           ],
           "sequentialminus": [
            [
             0,
             "#0d0887"
            ],
            [
             0.1111111111111111,
             "#46039f"
            ],
            [
             0.2222222222222222,
             "#7201a8"
            ],
            [
             0.3333333333333333,
             "#9c179e"
            ],
            [
             0.4444444444444444,
             "#bd3786"
            ],
            [
             0.5555555555555556,
             "#d8576b"
            ],
            [
             0.6666666666666666,
             "#ed7953"
            ],
            [
             0.7777777777777778,
             "#fb9f3a"
            ],
            [
             0.8888888888888888,
             "#fdca26"
            ],
            [
             1,
             "#f0f921"
            ]
           ]
          },
          "colorway": [
           "#636efa",
           "#EF553B",
           "#00cc96",
           "#ab63fa",
           "#FFA15A",
           "#19d3f3",
           "#FF6692",
           "#B6E880",
           "#FF97FF",
           "#FECB52"
          ],
          "font": {
           "color": "#2a3f5f"
          },
          "geo": {
           "bgcolor": "white",
           "lakecolor": "white",
           "landcolor": "#E5ECF6",
           "showlakes": true,
           "showland": true,
           "subunitcolor": "white"
          },
          "hoverlabel": {
           "align": "left"
          },
          "hovermode": "closest",
          "mapbox": {
           "style": "light"
          },
          "paper_bgcolor": "white",
          "plot_bgcolor": "#E5ECF6",
          "polar": {
           "angularaxis": {
            "gridcolor": "white",
            "linecolor": "white",
            "ticks": ""
           },
           "bgcolor": "#E5ECF6",
           "radialaxis": {
            "gridcolor": "white",
            "linecolor": "white",
            "ticks": ""
           }
          },
          "scene": {
           "xaxis": {
            "backgroundcolor": "#E5ECF6",
            "gridcolor": "white",
            "gridwidth": 2,
            "linecolor": "white",
            "showbackground": true,
            "ticks": "",
            "zerolinecolor": "white"
           },
           "yaxis": {
            "backgroundcolor": "#E5ECF6",
            "gridcolor": "white",
            "gridwidth": 2,
            "linecolor": "white",
            "showbackground": true,
            "ticks": "",
            "zerolinecolor": "white"
           },
           "zaxis": {
            "backgroundcolor": "#E5ECF6",
            "gridcolor": "white",
            "gridwidth": 2,
            "linecolor": "white",
            "showbackground": true,
            "ticks": "",
            "zerolinecolor": "white"
           }
          },
          "shapedefaults": {
           "line": {
            "color": "#2a3f5f"
           }
          },
          "ternary": {
           "aaxis": {
            "gridcolor": "white",
            "linecolor": "white",
            "ticks": ""
           },
           "baxis": {
            "gridcolor": "white",
            "linecolor": "white",
            "ticks": ""
           },
           "bgcolor": "#E5ECF6",
           "caxis": {
            "gridcolor": "white",
            "linecolor": "white",
            "ticks": ""
           }
          },
          "title": {
           "x": 0.05
          },
          "xaxis": {
           "automargin": true,
           "gridcolor": "white",
           "linecolor": "white",
           "ticks": "",
           "title": {
            "standoff": 15
           },
           "zerolinecolor": "white",
           "zerolinewidth": 2
          },
          "yaxis": {
           "automargin": true,
           "gridcolor": "white",
           "linecolor": "white",
           "ticks": "",
           "title": {
            "standoff": 15
           },
           "zerolinecolor": "white",
           "zerolinewidth": 2
          }
         }
        },
        "title": {
         "text": "<b>Covid-19 Total Vaccinations in India according to type of vaccine<b>",
         "x": 0.5
        },
        "width": 1100,
        "xaxis": {
         "anchor": "y",
         "categoryorder": "total descending",
         "domain": [
          0,
          1
         ],
         "tickfont": {
          "color": "black",
          "size": 14
         },
         "title": {
          "text": "State"
         }
        },
        "yaxis": {
         "anchor": "x",
         "domain": [
          0,
          1
         ],
         "tickfont": {
          "color": "black",
          "size": 14
         },
         "title": {
          "text": "value"
         }
        }
       }
      },
      "text/html": [
       "<div>                            <div id=\"1eeecc13-9199-4f20-8d23-3256091a18f8\" class=\"plotly-graph-div\" style=\"height:1000px; width:1100px;\"></div>            <script type=\"text/javascript\">                require([\"plotly\"], function(Plotly) {                    window.PLOTLYENV=window.PLOTLYENV || {};                                    if (document.getElementById(\"1eeecc13-9199-4f20-8d23-3256091a18f8\")) {                    Plotly.newPlot(                        \"1eeecc13-9199-4f20-8d23-3256091a18f8\",                        [{\"alignmentgroup\":\"True\",\"hovertemplate\":\"variable=Covaxin<br>State=%{x}<br>value=%{y}<extra></extra>\",\"legendgroup\":\"Covaxin\",\"marker\":{\"color\":\"#636efa\",\"pattern\":{\"shape\":\"\"}},\"name\":\"Covaxin\",\"offsetgroup\":\"Covaxin\",\"orientation\":\"v\",\"showlegend\":true,\"textposition\":\"auto\",\"type\":\"bar\",\"x\":[\"Andaman and Nicobar Islands\",\"Andhra Pradesh\",\"Arunachal Pradesh\",\"Assam\",\"Bihar\",\"Chandigarh\",\"Chhattisgarh\",\"Dadra and Nagar Haveli and Daman and Diu\",\"Delhi\",\"Goa\",\"Gujarat\",\"Haryana\",\"Himachal Pradesh\",\"Jammu and Kashmir\",\"Jharkhand\",\"Karnataka\",\"Kerala\",\"Ladakh\",\"Lakshadweep\",\"Madhya Pradesh\",\"Maharashtra\",\"Manipur\",\"Meghalaya\",\"Mizoram\",\"Nagaland\",\"Odisha\",\"Puducherry\",\"Punjab\",\"Rajasthan\",\"Sikkim\",\"Tamil Nadu\",\"Telangana\",\"Tripura\",\"Uttar Pradesh\",\"Uttarakhand\",\"West Bengal\"],\"xaxis\":\"x\",\"y\":[0.0,263695249.0,1820.0,118720291.0,156807520.0,117678.0,57309565.0,1072.0,218692040.0,1469705.0,307771021.0,129521424.0,106196.0,10689044.0,101754584.0,260352181.0,121110027.0,910.0,75.0,242969922.0,407481575.0,743.0,2275.0,137.0,3736.0,144665930.0,10324.0,73123941.0,246809265.0,3239.0,240280582.0,191325530.0,2928848.0,381441691.0,21899227.0,279383416.0],\"yaxis\":\"y\"},{\"alignmentgroup\":\"True\",\"hovertemplate\":\"variable=CoviShield<br>State=%{x}<br>value=%{y}<extra></extra>\",\"legendgroup\":\"CoviShield\",\"marker\":{\"color\":\"#EF553B\",\"pattern\":{\"shape\":\"\"}},\"name\":\"CoviShield\",\"offsetgroup\":\"CoviShield\",\"orientation\":\"v\",\"showlegend\":true,\"textposition\":\"auto\",\"type\":\"bar\",\"x\":[\"Andaman and Nicobar Islands\",\"Andhra Pradesh\",\"Arunachal Pradesh\",\"Assam\",\"Bihar\",\"Chandigarh\",\"Chhattisgarh\",\"Dadra and Nagar Haveli and Daman and Diu\",\"Delhi\",\"Goa\",\"Gujarat\",\"Haryana\",\"Himachal Pradesh\",\"Jammu and Kashmir\",\"Jharkhand\",\"Karnataka\",\"Kerala\",\"Ladakh\",\"Lakshadweep\",\"Madhya Pradesh\",\"Maharashtra\",\"Manipur\",\"Meghalaya\",\"Mizoram\",\"Nagaland\",\"Odisha\",\"Puducherry\",\"Punjab\",\"Rajasthan\",\"Sikkim\",\"Tamil Nadu\",\"Telangana\",\"Tripura\",\"Uttar Pradesh\",\"Uttarakhand\",\"West Bengal\"],\"xaxis\":\"x\",\"y\":[20511428.0,1323987110.0,60800520.0,597082285.0,1582599853.0,56145302.0,909554256.0,38172816.0,592068871.0,90655057.0,2420791163.0,782914023.0,389422909.0,485074945.0,623347104.0,2035227559.0,1434197931.0,23240760.0,5417951.0,1867868439.0,3084927597.0,79216636.0,74712550.0,57761789.0,51477504.0,1136848204.0,49919498.0,631604429.0,2442166197.0,46663770.0,1337448910.0,881185368.0,254641197.0,2955198559.0,440878712.0,2099640463.0],\"yaxis\":\"y\"},{\"alignmentgroup\":\"True\",\"hovertemplate\":\"variable=TotalDoses<br>State=%{x}<br>value=%{y}<extra></extra>\",\"legendgroup\":\"TotalDoses\",\"marker\":{\"color\":\"#00cc96\",\"pattern\":{\"shape\":\"\"}},\"name\":\"TotalDoses\",\"offsetgroup\":\"TotalDoses\",\"orientation\":\"v\",\"showlegend\":true,\"textposition\":\"auto\",\"type\":\"bar\",\"x\":[\"Andaman and Nicobar Islands\",\"Andhra Pradesh\",\"Arunachal Pradesh\",\"Assam\",\"Bihar\",\"Chandigarh\",\"Chhattisgarh\",\"Dadra and Nagar Haveli and Daman and Diu\",\"Delhi\",\"Goa\",\"Gujarat\",\"Haryana\",\"Himachal Pradesh\",\"Jammu and Kashmir\",\"Jharkhand\",\"Karnataka\",\"Kerala\",\"Ladakh\",\"Lakshadweep\",\"Madhya Pradesh\",\"Maharashtra\",\"Manipur\",\"Meghalaya\",\"Mizoram\",\"Nagaland\",\"Odisha\",\"Puducherry\",\"Punjab\",\"Rajasthan\",\"Sikkim\",\"Tamil Nadu\",\"Telangana\",\"Tripura\",\"Uttar Pradesh\",\"Uttarakhand\",\"West Bengal\"],\"xaxis\":\"x\",\"y\":[20544408.0,1591678440.0,60937297.0,716389018.0,1741293449.0,56296840.0,968123302.0,38189479.0,812558419.0,92189542.0,2732064385.0,914454410.0,390132586.0,496053428.0,725794786.0,2300517146.0,1557893825.0,23263011.0,5420101.0,2113537548.0,3497245417.0,79267718.0,74782607.0,57871495.0,51615403.0,1283935962.0,49955717.0,705467577.0,2692747175.0,46704569.0,1579203134.0,1078473591.0,257959864.0,3342846470.0,463276486.0,2382596869.0],\"yaxis\":\"y\"}],                        {\"barmode\":\"stack\",\"height\":1000,\"legend\":{\"orientation\":\"h\",\"title\":{\"text\":\"variable\"},\"tracegroupgap\":0,\"x\":0.3,\"y\":1.0},\"margin\":{\"t\":60},\"template\":{\"data\":{\"bar\":[{\"error_x\":{\"color\":\"#2a3f5f\"},\"error_y\":{\"color\":\"#2a3f5f\"},\"marker\":{\"line\":{\"color\":\"#E5ECF6\",\"width\":0.5},\"pattern\":{\"fillmode\":\"overlay\",\"size\":10,\"solidity\":0.2}},\"type\":\"bar\"}],\"barpolar\":[{\"marker\":{\"line\":{\"color\":\"#E5ECF6\",\"width\":0.5},\"pattern\":{\"fillmode\":\"overlay\",\"size\":10,\"solidity\":0.2}},\"type\":\"barpolar\"}],\"carpet\":[{\"aaxis\":{\"endlinecolor\":\"#2a3f5f\",\"gridcolor\":\"white\",\"linecolor\":\"white\",\"minorgridcolor\":\"white\",\"startlinecolor\":\"#2a3f5f\"},\"baxis\":{\"endlinecolor\":\"#2a3f5f\",\"gridcolor\":\"white\",\"linecolor\":\"white\",\"minorgridcolor\":\"white\",\"startlinecolor\":\"#2a3f5f\"},\"type\":\"carpet\"}],\"choropleth\":[{\"colorbar\":{\"outlinewidth\":0,\"ticks\":\"\"},\"type\":\"choropleth\"}],\"contour\":[{\"colorbar\":{\"outlinewidth\":0,\"ticks\":\"\"},\"colorscale\":[[0.0,\"#0d0887\"],[0.1111111111111111,\"#46039f\"],[0.2222222222222222,\"#7201a8\"],[0.3333333333333333,\"#9c179e\"],[0.4444444444444444,\"#bd3786\"],[0.5555555555555556,\"#d8576b\"],[0.6666666666666666,\"#ed7953\"],[0.7777777777777778,\"#fb9f3a\"],[0.8888888888888888,\"#fdca26\"],[1.0,\"#f0f921\"]],\"type\":\"contour\"}],\"contourcarpet\":[{\"colorbar\":{\"outlinewidth\":0,\"ticks\":\"\"},\"type\":\"contourcarpet\"}],\"heatmap\":[{\"colorbar\":{\"outlinewidth\":0,\"ticks\":\"\"},\"colorscale\":[[0.0,\"#0d0887\"],[0.1111111111111111,\"#46039f\"],[0.2222222222222222,\"#7201a8\"],[0.3333333333333333,\"#9c179e\"],[0.4444444444444444,\"#bd3786\"],[0.5555555555555556,\"#d8576b\"],[0.6666666666666666,\"#ed7953\"],[0.7777777777777778,\"#fb9f3a\"],[0.8888888888888888,\"#fdca26\"],[1.0,\"#f0f921\"]],\"type\":\"heatmap\"}],\"heatmapgl\":[{\"colorbar\":{\"outlinewidth\":0,\"ticks\":\"\"},\"colorscale\":[[0.0,\"#0d0887\"],[0.1111111111111111,\"#46039f\"],[0.2222222222222222,\"#7201a8\"],[0.3333333333333333,\"#9c179e\"],[0.4444444444444444,\"#bd3786\"],[0.5555555555555556,\"#d8576b\"],[0.6666666666666666,\"#ed7953\"],[0.7777777777777778,\"#fb9f3a\"],[0.8888888888888888,\"#fdca26\"],[1.0,\"#f0f921\"]],\"type\":\"heatmapgl\"}],\"histogram\":[{\"marker\":{\"pattern\":{\"fillmode\":\"overlay\",\"size\":10,\"solidity\":0.2}},\"type\":\"histogram\"}],\"histogram2d\":[{\"colorbar\":{\"outlinewidth\":0,\"ticks\":\"\"},\"colorscale\":[[0.0,\"#0d0887\"],[0.1111111111111111,\"#46039f\"],[0.2222222222222222,\"#7201a8\"],[0.3333333333333333,\"#9c179e\"],[0.4444444444444444,\"#bd3786\"],[0.5555555555555556,\"#d8576b\"],[0.6666666666666666,\"#ed7953\"],[0.7777777777777778,\"#fb9f3a\"],[0.8888888888888888,\"#fdca26\"],[1.0,\"#f0f921\"]],\"type\":\"histogram2d\"}],\"histogram2dcontour\":[{\"colorbar\":{\"outlinewidth\":0,\"ticks\":\"\"},\"colorscale\":[[0.0,\"#0d0887\"],[0.1111111111111111,\"#46039f\"],[0.2222222222222222,\"#7201a8\"],[0.3333333333333333,\"#9c179e\"],[0.4444444444444444,\"#bd3786\"],[0.5555555555555556,\"#d8576b\"],[0.6666666666666666,\"#ed7953\"],[0.7777777777777778,\"#fb9f3a\"],[0.8888888888888888,\"#fdca26\"],[1.0,\"#f0f921\"]],\"type\":\"histogram2dcontour\"}],\"mesh3d\":[{\"colorbar\":{\"outlinewidth\":0,\"ticks\":\"\"},\"type\":\"mesh3d\"}],\"parcoords\":[{\"line\":{\"colorbar\":{\"outlinewidth\":0,\"ticks\":\"\"}},\"type\":\"parcoords\"}],\"pie\":[{\"automargin\":true,\"type\":\"pie\"}],\"scatter\":[{\"marker\":{\"colorbar\":{\"outlinewidth\":0,\"ticks\":\"\"}},\"type\":\"scatter\"}],\"scatter3d\":[{\"line\":{\"colorbar\":{\"outlinewidth\":0,\"ticks\":\"\"}},\"marker\":{\"colorbar\":{\"outlinewidth\":0,\"ticks\":\"\"}},\"type\":\"scatter3d\"}],\"scattercarpet\":[{\"marker\":{\"colorbar\":{\"outlinewidth\":0,\"ticks\":\"\"}},\"type\":\"scattercarpet\"}],\"scattergeo\":[{\"marker\":{\"colorbar\":{\"outlinewidth\":0,\"ticks\":\"\"}},\"type\":\"scattergeo\"}],\"scattergl\":[{\"marker\":{\"colorbar\":{\"outlinewidth\":0,\"ticks\":\"\"}},\"type\":\"scattergl\"}],\"scattermapbox\":[{\"marker\":{\"colorbar\":{\"outlinewidth\":0,\"ticks\":\"\"}},\"type\":\"scattermapbox\"}],\"scatterpolar\":[{\"marker\":{\"colorbar\":{\"outlinewidth\":0,\"ticks\":\"\"}},\"type\":\"scatterpolar\"}],\"scatterpolargl\":[{\"marker\":{\"colorbar\":{\"outlinewidth\":0,\"ticks\":\"\"}},\"type\":\"scatterpolargl\"}],\"scatterternary\":[{\"marker\":{\"colorbar\":{\"outlinewidth\":0,\"ticks\":\"\"}},\"type\":\"scatterternary\"}],\"surface\":[{\"colorbar\":{\"outlinewidth\":0,\"ticks\":\"\"},\"colorscale\":[[0.0,\"#0d0887\"],[0.1111111111111111,\"#46039f\"],[0.2222222222222222,\"#7201a8\"],[0.3333333333333333,\"#9c179e\"],[0.4444444444444444,\"#bd3786\"],[0.5555555555555556,\"#d8576b\"],[0.6666666666666666,\"#ed7953\"],[0.7777777777777778,\"#fb9f3a\"],[0.8888888888888888,\"#fdca26\"],[1.0,\"#f0f921\"]],\"type\":\"surface\"}],\"table\":[{\"cells\":{\"fill\":{\"color\":\"#EBF0F8\"},\"line\":{\"color\":\"white\"}},\"header\":{\"fill\":{\"color\":\"#C8D4E3\"},\"line\":{\"color\":\"white\"}},\"type\":\"table\"}]},\"layout\":{\"annotationdefaults\":{\"arrowcolor\":\"#2a3f5f\",\"arrowhead\":0,\"arrowwidth\":1},\"autotypenumbers\":\"strict\",\"coloraxis\":{\"colorbar\":{\"outlinewidth\":0,\"ticks\":\"\"}},\"colorscale\":{\"diverging\":[[0,\"#8e0152\"],[0.1,\"#c51b7d\"],[0.2,\"#de77ae\"],[0.3,\"#f1b6da\"],[0.4,\"#fde0ef\"],[0.5,\"#f7f7f7\"],[0.6,\"#e6f5d0\"],[0.7,\"#b8e186\"],[0.8,\"#7fbc41\"],[0.9,\"#4d9221\"],[1,\"#276419\"]],\"sequential\":[[0.0,\"#0d0887\"],[0.1111111111111111,\"#46039f\"],[0.2222222222222222,\"#7201a8\"],[0.3333333333333333,\"#9c179e\"],[0.4444444444444444,\"#bd3786\"],[0.5555555555555556,\"#d8576b\"],[0.6666666666666666,\"#ed7953\"],[0.7777777777777778,\"#fb9f3a\"],[0.8888888888888888,\"#fdca26\"],[1.0,\"#f0f921\"]],\"sequentialminus\":[[0.0,\"#0d0887\"],[0.1111111111111111,\"#46039f\"],[0.2222222222222222,\"#7201a8\"],[0.3333333333333333,\"#9c179e\"],[0.4444444444444444,\"#bd3786\"],[0.5555555555555556,\"#d8576b\"],[0.6666666666666666,\"#ed7953\"],[0.7777777777777778,\"#fb9f3a\"],[0.8888888888888888,\"#fdca26\"],[1.0,\"#f0f921\"]]},\"colorway\":[\"#636efa\",\"#EF553B\",\"#00cc96\",\"#ab63fa\",\"#FFA15A\",\"#19d3f3\",\"#FF6692\",\"#B6E880\",\"#FF97FF\",\"#FECB52\"],\"font\":{\"color\":\"#2a3f5f\"},\"geo\":{\"bgcolor\":\"white\",\"lakecolor\":\"white\",\"landcolor\":\"#E5ECF6\",\"showlakes\":true,\"showland\":true,\"subunitcolor\":\"white\"},\"hoverlabel\":{\"align\":\"left\"},\"hovermode\":\"closest\",\"mapbox\":{\"style\":\"light\"},\"paper_bgcolor\":\"white\",\"plot_bgcolor\":\"#E5ECF6\",\"polar\":{\"angularaxis\":{\"gridcolor\":\"white\",\"linecolor\":\"white\",\"ticks\":\"\"},\"bgcolor\":\"#E5ECF6\",\"radialaxis\":{\"gridcolor\":\"white\",\"linecolor\":\"white\",\"ticks\":\"\"}},\"scene\":{\"xaxis\":{\"backgroundcolor\":\"#E5ECF6\",\"gridcolor\":\"white\",\"gridwidth\":2,\"linecolor\":\"white\",\"showbackground\":true,\"ticks\":\"\",\"zerolinecolor\":\"white\"},\"yaxis\":{\"backgroundcolor\":\"#E5ECF6\",\"gridcolor\":\"white\",\"gridwidth\":2,\"linecolor\":\"white\",\"showbackground\":true,\"ticks\":\"\",\"zerolinecolor\":\"white\"},\"zaxis\":{\"backgroundcolor\":\"#E5ECF6\",\"gridcolor\":\"white\",\"gridwidth\":2,\"linecolor\":\"white\",\"showbackground\":true,\"ticks\":\"\",\"zerolinecolor\":\"white\"}},\"shapedefaults\":{\"line\":{\"color\":\"#2a3f5f\"}},\"ternary\":{\"aaxis\":{\"gridcolor\":\"white\",\"linecolor\":\"white\",\"ticks\":\"\"},\"baxis\":{\"gridcolor\":\"white\",\"linecolor\":\"white\",\"ticks\":\"\"},\"bgcolor\":\"#E5ECF6\",\"caxis\":{\"gridcolor\":\"white\",\"linecolor\":\"white\",\"ticks\":\"\"}},\"title\":{\"x\":0.05},\"xaxis\":{\"automargin\":true,\"gridcolor\":\"white\",\"linecolor\":\"white\",\"ticks\":\"\",\"title\":{\"standoff\":15},\"zerolinecolor\":\"white\",\"zerolinewidth\":2},\"yaxis\":{\"automargin\":true,\"gridcolor\":\"white\",\"linecolor\":\"white\",\"ticks\":\"\",\"title\":{\"standoff\":15},\"zerolinecolor\":\"white\",\"zerolinewidth\":2}}},\"title\":{\"text\":\"<b>Covid-19 Total Vaccinations in India according to type of vaccine<b>\",\"x\":0.5},\"width\":1100,\"xaxis\":{\"anchor\":\"y\",\"categoryorder\":\"total descending\",\"domain\":[0.0,1.0],\"tickfont\":{\"color\":\"black\",\"size\":14},\"title\":{\"text\":\"State\"}},\"yaxis\":{\"anchor\":\"x\",\"domain\":[0.0,1.0],\"tickfont\":{\"color\":\"black\",\"size\":14},\"title\":{\"text\":\"value\"}}},                        {\"responsive\": true}                    ).then(function(){\n",
       "                            \n",
       "var gd = document.getElementById('1eeecc13-9199-4f20-8d23-3256091a18f8');\n",
       "var x = new MutationObserver(function (mutations, observer) {{\n",
       "        var display = window.getComputedStyle(gd).display;\n",
       "        if (!display || display === 'none') {{\n",
       "            console.log([gd, 'removed!']);\n",
       "            Plotly.purge(gd);\n",
       "            observer.disconnect();\n",
       "        }}\n",
       "}});\n",
       "\n",
       "// Listen for the removal of the full notebook cells\n",
       "var notebookContainer = gd.closest('#notebook-container');\n",
       "if (notebookContainer) {{\n",
       "    x.observe(notebookContainer, {childList: true});\n",
       "}}\n",
       "\n",
       "// Listen for the clearing of the current output cell\n",
       "var outputEl = gd.closest('.output');\n",
       "if (outputEl) {{\n",
       "    x.observe(outputEl, {childList: true});\n",
       "}}\n",
       "\n",
       "                        })                };                });            </script>        </div>"
      ]
     },
     "metadata": {},
     "output_type": "display_data"
    }
   ],
   "source": [
    "fig = px.bar(covidVaccine_2, x=\"State\", y=[\"Covaxin\", \"CoviShield\",'TotalDoses'])\n",
    "\n",
    "fig.update_layout(barmode='stack',legend_orientation=\"h\",legend=dict(x= 0.3, y=1.0),\n",
    "                  xaxis={'categoryorder':'total descending'},\n",
    "                 title_text='<b>Covid-19 Total Vaccinations in India according to type of vaccine<b>',\n",
    "                  title_x=0.5,\n",
    "                  width= 1100,\n",
    "                  height= 1000\n",
    "                 )\n",
    "fig.update_xaxes(tickfont=dict(color='black', size=14))\n",
    "fig.update_yaxes(tickfont=dict(color='black', size=14))\n",
    "fig.show()"
   ]
  },
  {
   "cell_type": "code",
   "execution_count": 26,
   "metadata": {},
   "outputs": [
    {
     "name": "stdout",
     "output_type": "stream",
     "text": [
      "               Name: Register Number :                      Branch:  \\\n",
      "332    Challa Nohith         16MIS1099  M.tech Software Engineering   \n",
      "186            Bindu         18BME1111                   Mechanical   \n",
      "222  Anandaveeryan D         16MIS1040                          MIS   \n",
      "661              NaN               NaN                          NaN   \n",
      "76      Nayanthara B         18bla1059                          Law   \n",
      "\n",
      "    Mention the State where you live currently  \\\n",
      "332                                  Telangana   \n",
      "186                                  Tamilnadu   \n",
      "222                                  Tamilnadu   \n",
      "661                                        NaN   \n",
      "76                                      Kerala   \n",
      "\n",
      "    Mention the district where you live currently  \\\n",
      "332                                   Mahabubabad   \n",
      "186                                   Krishnagiri   \n",
      "222                                       Chennai   \n",
      "661                                      Medchal    \n",
      "76                                     Trivandrum   \n",
      "\n",
      "     Are you Currently affected by Covid-19?   \\\n",
      "332                                        17   \n",
      "186                                        13   \n",
      "222                                        72   \n",
      "661                                        30   \n",
      "76                                         60   \n",
      "\n",
      "     Do you have any of the symptoms like Fever, Dry cough, tiredness, sour throat, loss of taste or smell, difficulties in breathing?   \\\n",
      "332                                                 35                                                                                    \n",
      "186                                                 24                                                                                    \n",
      "222                                                 63                                                                                    \n",
      "661                                                 20                                                                                    \n",
      "76                                                  50                                                                                    \n",
      "\n",
      "     Are you vaccinated?       vulnerability  \n",
      "332                   35  very less affected  \n",
      "186                   24  very less affected  \n",
      "222                   63      More affected   \n",
      "661                   20  very less affected  \n",
      "76                    50       less affected  \n",
      "vulnerability\n",
      "More affected         273\n",
      "less affected         245\n",
      "very less affected    236\n",
      "dtype: int64\n"
     ]
    }
   ],
   "source": [
    "dataset = pd.read_csv(r'C:\\Users\\Admin\\OneDrive\\Desktop\\covid 19\\new1.csv')\n",
    "dataset = dataset.reindex(np.random.permutation(dataset.index))\n",
    "\n",
    "X = dataset.iloc[:, 5:7].values\n",
    "y = dataset.iloc[:, -1].values\n",
    "\n",
    "\n",
    "print(dataset.head())\n",
    "print(dataset.groupby('vulnerability').size())\n",
    "\n",
    "le = preprocessing.LabelEncoder()\n",
    "y=le.fit_transform(list(dataset['vulnerability']))\n"
   ]
  },
  {
   "cell_type": "code",
   "execution_count": 27,
   "metadata": {},
   "outputs": [],
   "source": [
    "\"\"\"## Splitting the dataset into the Training set and Test set\"\"\"\n",
    "\n",
    "from sklearn.model_selection import train_test_split\n",
    "X_train, X_test, y_train, y_test = train_test_split(X, y, test_size = 0.25, random_state = 0)"
   ]
  },
  {
   "cell_type": "code",
   "execution_count": 28,
   "metadata": {},
   "outputs": [
    {
     "name": "stdout",
     "output_type": "stream",
     "text": [
      "[[-1.4608598  -1.19485352]\n",
      " [ 1.14154958  1.24988966]\n",
      " [ 1.52839422  1.89324312]\n",
      " ...\n",
      " [ 0.403028   -0.03681728]\n",
      " [ 0.75470494  0.64942642]\n",
      " [-1.28502133 -1.06618282]]\n",
      "[2 0 0 1 2 0 2 2 2 1 1 0 2 0 2 0 2 0 1 2 0 0 1 0 0 1 0 0 1 1 0 2 0 1 0 0 0\n",
      " 2 0 0 0 1 0 1 0 2 1 2 1 0 2 1 2 2 0 1 2 1 0 2 2 0 0 0 0 2 0 2 2 0 1 0 0 1\n",
      " 0 2 0 2 0 2 1 2 1 0 1 2 2 1 2 2 2 1 2 0 1 0 2 2 2 1 1 2 2 0 0 2 1 1 2 2 0\n",
      " 2 1 0 2 0 1 1 0 0 1 2 2 1 2 0 0 1 0 1 0 0 0 1 1 1 2 1 1 1 1 0 2 1 0 2 2 0\n",
      " 2 2 1 2 2 1 0 1 0 2 1 0 0 2 1 0 2 0 1 1 2 2 1 2 1 1 1 1 2 2 0 2 0 1 0 2 1\n",
      " 2 0 1 2 0 2 1 2 1 0 1 0 1 2 0 1 2 1 0 1 1 0 1 2 0 0 0 2 1 1 1 1 0 2 2 0 0\n",
      " 1 0 2 1 2 1 2 1 2 1 1 2 0 0 2 1 0 2 1 1 1 2 0 2 1 0 0 0 2 0 2 1 0 2 0 0 2\n",
      " 0 0 1 1 1 0 1 1 0 1 0 2 1 0 2 1 1 0 1 2 0 0 0 1 1 1 0 0 0 0 0 2 1 2 1 2 0\n",
      " 1 2 1 1 0 0 1 0 1 0 2 2 1 2 1 2 2 2 0 1 1 0 0 1 2 1 0 1 1 0 2 2 0 1 0 2 2\n",
      " 1 0 1 0 0 0 0 0 2 2 0 2 2 2 2 0 0 0 1 1 1 1 1 1 2 1 0 2 1 1 2 0 2 0 0 2 2\n",
      " 1 0 1 1 1 1 0 0 2 2 2 1 2 0 0 2 1 0 0 1 2 1 0 0 2 0 2 0 1 2 1 1 0 2 2 0 2\n",
      " 1 2 2 2 0 2 2 2 1 1 2 0 0 0 0 0 2 1 1 1 1 2 2 1 2 1 2 1 0 1 1 0 2 2 0 0 1\n",
      " 0 0 1 0 0 2 0 1 0 2 0 0 2 1 0 0 0 0 2 2 2 0 0 2 2 2 2 0 2 2 1 2 0 1 0 0 0\n",
      " 0 2 0 1 0 1 1 0 0 1 0 2 0 0 2 1 0 1 1 1 1 2 2 0 2 0 0 2 0 0 1 1 1 2 2 0 1\n",
      " 0 2 0 0 0 0 2 0 0 0 1 0 2 0 0 2 1 0 0 2 0 0 1 0 2 0 2 1 2 0 1 0 1 1 1 0 1\n",
      " 0 1 2 0 1 2 2 0 0 2]\n"
     ]
    }
   ],
   "source": [
    "\"\"\"## Feature Scaling\"\"\"\n",
    "\n",
    "from sklearn.preprocessing import StandardScaler\n",
    "sc = StandardScaler()\n",
    "X_train = sc.fit_transform(X_train)\n",
    "X_test = sc.transform(X_test)\n",
    "\n",
    "\n",
    "from math import sqrt\n",
    "from sklearn.metrics import mean_squared_error\n",
    "\n",
    "\n",
    "print(X_train)\n",
    "print(y_train)"
   ]
  },
  {
   "cell_type": "code",
   "execution_count": 29,
   "metadata": {},
   "outputs": [],
   "source": [
    "\"\"\"## Training the K-NN model on the Training set\"\"\"\n",
    "\n",
    "from sklearn.neighbors import KNeighborsClassifier\n",
    "classifier = KNeighborsClassifier(n_neighbors = 5, metric = 'minkowski', p = 2)\n",
    "classifier.fit(X_train, y_train)\n",
    "\n",
    "# Its important to use binary mode\n",
    "knnPickle = open('C:\\\\Users\\\\Admin\\\\OneDrive\\\\Desktop\\\\covid 19\\\\knnpickle_file', 'wb')\n",
    "\n",
    "# source, destination\n",
    "pickle.dump(classifier, knnPickle)\n",
    "\n"
   ]
  },
  {
   "cell_type": "code",
   "execution_count": 30,
   "metadata": {},
   "outputs": [],
   "source": [
    "# load the model from disk\n",
    "loaded_model = pickle.load(open('C:\\\\Users\\\\Admin\\\\OneDrive\\\\Desktop\\\\covid 19\\\\knnpickle_file', 'rb'))\n",
    "result = loaded_model.predict(X_test)\n"
   ]
  },
  {
   "cell_type": "code",
   "execution_count": 31,
   "metadata": {},
   "outputs": [
    {
     "name": "stdout",
     "output_type": "stream",
     "text": [
      "[[1 1]\n",
      " [2 2]\n",
      " [2 2]\n",
      " [1 1]\n",
      " [1 1]\n",
      " [2 2]\n",
      " [2 2]\n",
      " [2 2]\n",
      " [2 2]\n",
      " [2 2]\n",
      " [1 1]\n",
      " [0 0]\n",
      " [1 1]\n",
      " [0 0]\n",
      " [2 2]\n",
      " [2 2]\n",
      " [0 0]\n",
      " [1 1]\n",
      " [1 1]\n",
      " [1 1]\n",
      " [1 1]\n",
      " [2 2]\n",
      " [1 1]\n",
      " [1 1]\n",
      " [0 0]\n",
      " [2 2]\n",
      " [0 0]\n",
      " [0 0]\n",
      " [2 2]\n",
      " [1 1]\n",
      " [1 1]\n",
      " [0 0]\n",
      " [0 0]\n",
      " [1 1]\n",
      " [0 0]\n",
      " [2 2]\n",
      " [2 2]\n",
      " [0 0]\n",
      " [0 0]\n",
      " [2 2]\n",
      " [2 2]\n",
      " [1 1]\n",
      " [0 0]\n",
      " [0 0]\n",
      " [0 0]\n",
      " [2 2]\n",
      " [0 0]\n",
      " [0 0]\n",
      " [2 2]\n",
      " [0 0]\n",
      " [0 0]\n",
      " [1 1]\n",
      " [2 2]\n",
      " [1 1]\n",
      " [1 1]\n",
      " [0 0]\n",
      " [2 2]\n",
      " [0 0]\n",
      " [0 0]\n",
      " [0 0]\n",
      " [1 1]\n",
      " [2 2]\n",
      " [2 2]\n",
      " [2 2]\n",
      " [1 1]\n",
      " [2 2]\n",
      " [1 1]\n",
      " [2 1]\n",
      " [1 1]\n",
      " [1 1]\n",
      " [2 2]\n",
      " [0 0]\n",
      " [2 2]\n",
      " [1 1]\n",
      " [2 2]\n",
      " [1 1]\n",
      " [2 2]\n",
      " [2 2]\n",
      " [0 0]\n",
      " [1 1]\n",
      " [1 1]\n",
      " [1 1]\n",
      " [0 0]\n",
      " [2 2]\n",
      " [1 1]\n",
      " [0 0]\n",
      " [2 2]\n",
      " [1 1]\n",
      " [0 0]\n",
      " [1 1]\n",
      " [2 2]\n",
      " [2 2]\n",
      " [2 2]\n",
      " [1 1]\n",
      " [1 1]\n",
      " [1 1]\n",
      " [0 1]\n",
      " [0 0]\n",
      " [0 0]\n",
      " [1 1]\n",
      " [0 0]\n",
      " [1 1]\n",
      " [2 2]\n",
      " [0 0]\n",
      " [1 1]\n",
      " [0 0]\n",
      " [2 2]\n",
      " [1 1]\n",
      " [2 2]\n",
      " [1 1]\n",
      " [1 1]\n",
      " [0 0]\n",
      " [1 1]\n",
      " [0 0]\n",
      " [2 2]\n",
      " [2 2]\n",
      " [0 0]\n",
      " [0 0]\n",
      " [2 2]\n",
      " [0 0]\n",
      " [0 0]\n",
      " [0 0]\n",
      " [2 2]\n",
      " [1 1]\n",
      " [1 1]\n",
      " [0 0]\n",
      " [1 1]\n",
      " [2 2]\n",
      " [1 1]\n",
      " [0 0]\n",
      " [2 2]\n",
      " [1 1]\n",
      " [0 0]\n",
      " [2 2]\n",
      " [0 0]\n",
      " [2 2]\n",
      " [1 1]\n",
      " [1 1]\n",
      " [2 2]\n",
      " [0 0]\n",
      " [0 0]\n",
      " [0 0]\n",
      " [0 0]\n",
      " [0 0]\n",
      " [2 2]\n",
      " [0 0]\n",
      " [0 0]\n",
      " [0 0]\n",
      " [0 1]\n",
      " [1 1]\n",
      " [2 2]\n",
      " [1 1]\n",
      " [1 1]\n",
      " [2 2]\n",
      " [2 2]\n",
      " [2 2]\n",
      " [1 1]\n",
      " [1 1]\n",
      " [1 1]\n",
      " [1 1]\n",
      " [1 1]\n",
      " [1 1]\n",
      " [1 1]\n",
      " [0 0]\n",
      " [1 1]\n",
      " [1 1]\n",
      " [0 0]\n",
      " [2 2]\n",
      " [2 2]\n",
      " [0 0]\n",
      " [0 0]\n",
      " [1 1]\n",
      " [1 1]\n",
      " [2 2]\n",
      " [2 2]\n",
      " [2 2]\n",
      " [1 1]\n",
      " [0 0]\n",
      " [0 0]\n",
      " [2 2]\n",
      " [1 1]\n",
      " [2 2]\n",
      " [1 1]\n",
      " [0 0]\n",
      " [0 0]\n",
      " [0 0]\n",
      " [2 2]\n",
      " [2 2]\n",
      " [0 0]]\n"
     ]
    }
   ],
   "source": [
    "\"\"\"## Predicting the Test set results\"\"\"\n",
    "\n",
    "y_pred = loaded_model.predict(X_test)\n",
    "print(np.concatenate((y_pred.reshape(len(y_pred),1), y_test.reshape(len(y_test),1)),1))"
   ]
  },
  {
   "cell_type": "code",
   "execution_count": 32,
   "metadata": {},
   "outputs": [
    {
     "name": "stdout",
     "output_type": "stream",
     "text": [
      "[[61  0  0]\n",
      " [ 2 65  1]\n",
      " [ 0  0 60]]\n",
      "              precision    recall  f1-score   support\n",
      "\n",
      "           0       0.97      1.00      0.98        61\n",
      "           1       1.00      0.96      0.98        68\n",
      "           2       0.98      1.00      0.99        60\n",
      "\n",
      "    accuracy                           0.98       189\n",
      "   macro avg       0.98      0.99      0.98       189\n",
      "weighted avg       0.98      0.98      0.98       189\n",
      "\n"
     ]
    },
    {
     "data": {
      "image/png": "[encoded data removed]",
      "text/plain": [
       "<Figure size 864x432 with 1 Axes>"
      ]
     },
     "metadata": {},
     "output_type": "display_data"
    }
   ],
   "source": [
    "\"\"\"## Making the Confusion Matrix\"\"\"\n",
    "\n",
    "from sklearn.metrics import confusion_matrix, accuracy_score,classification_report\n",
    "cm = confusion_matrix(y_test, y_pred)\n",
    "print(cm)\n",
    "accuracy_score(y_test, y_pred)\n",
    "print(classification_report(y_test, y_pred))\n",
    "error = []\n",
    "\n",
    "# Calculating error for K values between 1 and 40\n",
    "for i in range(1, 40):\n",
    "    knn = KNeighborsClassifier(n_neighbors=i)\n",
    "    knn.fit(X_train, y_train)\n",
    "    pred_i = knn.predict(X_test)\n",
    "    error.append(np.mean(y_pred != y_test))\n",
    "\n",
    "plt.figure(figsize=(12, 6))\n",
    "plt.plot(range(1, 40), error, color='red', linestyle='dashed', marker='o',\n",
    "         markerfacecolor='blue', markersize=10)\n",
    "plt.title('Error Rate K Value')\n",
    "plt.xlabel('K Value')\n",
    "plt.ylabel('Mean Error')\n",
    "plt.show()\n",
    "\n"
   ]
  },
  {
   "cell_type": "code",
   "execution_count": 33,
   "metadata": {},
   "outputs": [
    {
     "data": {
      "image/png": "[encoded data removed]",
      "text/plain": [
       "<Figure size 432x288 with 1 Axes>"
      ]
     },
     "metadata": {},
     "output_type": "display_data"
    }
   ],
   "source": [
    "plt.scatter(dataset.iloc[:, 5].values,dataset.iloc[:, 6].values,c=y, cmap=plt.cm.Paired)\n",
    "plt.xlabel(\"corona\")\n",
    "plt.ylabel(\"symptoms\")\n",
    "plt.show()"
   ]
  },
  {
   "cell_type": "code",
   "execution_count": 34,
   "metadata": {},
   "outputs": [],
   "source": [
    "import tkinter as tk\n",
    "\n",
    "import shutil\n",
    "import os\n",
    "import sys\n",
    "from PIL import Image, ImageTk\n",
    "\n",
    "window = tk.Tk()\n",
    "\n",
    "window.title(\"Covid Alert\")\n",
    "\n",
    "window.geometry(\"500x610\")\n",
    "window.configure(background =\"lightgreen\")\n",
    "\n",
    "title = tk.Label(text=\"Enter the parameters to check for corona\", background = \"lightgreen\", fg=\"Brown\", font=(\"\", 15))\n",
    "title.grid()\n",
    "\n",
    "states_list=[\"Tamilnadu\",\"Telangana\",\"Andrapradesh\",\"Kerala\"]\n",
    "More_affected=['Chennai','Dindigal','Erode','Guntur','Hyderabad','Chittoor','Kurnool','Namakkal','Prakasam','Thiruvallur','Tirupur','Trichy',]\n",
    "\n",
    "less_affected=['Chengalpattu','Cuddalore','Ernakulam','Kancheepuram','Kanyakumari','Kottayam','Kozhikode','Palakkad','Rangareddy','Thanjavur','Thoothukudi','Trivandrum',\n",
    "               'Vellore','Virudhunagar']\n",
    "\n",
    "very_less_affected=['Ariyalur','Dharmapuri','Kadapa','Kamareddy','Khammam','Krishnagiri','Mahabubabad','Medchal','Pondicherry','Ramanathapuram','Rayagoda','Srikakulam','Thiruvannamalai',]\n",
    "\n",
    "state=tk.StringVar()\n",
    "district=tk.StringVar()\n",
    "corona=tk.StringVar()\n",
    "symptoms=tk.StringVar()\n",
    "vaccine = tk.StringVar()\n",
    "\n",
    "entry1 = tk.Label(text=\"Enter State\", background=\"lightgreen\",\n",
    "                      fg=\"Brown\", font=(\"\", 15))\n",
    "entry1.grid(column=0, row=1, padx=10, pady = 10)\n",
    "entry = tk.Entry(window, textvariable=state)\n",
    "entry.grid(column=0, row=2, padx=10, pady = 10)\n",
    "entry1 = tk.Label(text=\"Enter District\", background=\"lightgreen\",\n",
    "                      fg=\"Brown\", font=(\"\", 15))\n",
    "entry1.grid(column=0, row=3, padx=10, pady = 10)\n",
    "entry = tk.Entry(window, textvariable=district)\n",
    "entry.grid(column=0, row=4, padx=10, pady = 10)\n",
    "entry1 = tk.Label(text=\"Enter Symptoms\", background=\"lightgreen\",\n",
    "                      fg=\"Brown\", font=(\"\", 15))\n",
    "entry1.grid(column=0, row=5, padx=10, pady = 10)\n",
    "entry = tk.Entry(window, textvariable=corona)\n",
    "entry.grid(column=0, row=6, padx=10, pady = 10)\n",
    "entry1 = tk.Label(text=\"Enter Corona\", background=\"lightgreen\",\n",
    "                      fg=\"Brown\", font=(\"\", 15))\n",
    "entry1.grid(column=0, row=7, padx=10, pady = 10)\n",
    "entry = tk.Entry(window, textvariable=symptoms)\n",
    "entry.grid(column=0, row=8, padx=10, pady = 10)\n",
    "entry1 = tk.Label(text=\"Enter Vaccine\", background=\"lightgreen\",\n",
    "                      fg=\"Brown\", font=(\"\", 15))\n",
    "entry1.grid(column=0, row=9, padx=10, pady = 10)\n",
    "entry = tk.Entry(window, textvariable=vaccine)\n",
    "entry.grid(column=0, row=10, padx=10, pady = 10)\n",
    "\n",
    "\n",
    "def alert():\n",
    "    window.destroy()\n",
    "    window1 = tk.Tk()\n",
    "\n",
    "    window1.title(\"corona Alert\")\n",
    "\n",
    "    window1.geometry(\"500x510\")\n",
    "    window1.configure(background=\"lightgreen\")\n",
    "\n",
    "    def exit():\n",
    "        window1.destroy()\n",
    "\n",
    "    if state.get() in states_list:\n",
    "        #print(\"state\")\n",
    "        if district.get() in More_affected:\n",
    "            #print(\"dist\")\n",
    "            if symptoms.get() == \"yes\" or symptoms.get() == \"no\":\n",
    "                #print(\"symp\")\n",
    "                if vaccine.get() == \"yes\" or vaccine.get() == \"no\":\n",
    "                    #print(\"vacc\")\n",
    "                    if corona.get() == \"yes\":\n",
    "                        dst = \"C:\\\\Users\\\\Admin\\\\OneDrive\\\\Desktop\\\\covid 19\\\\red.jpg\"\n",
    "                        # shutil.copy(fileName, dst)\n",
    "                        load = Image.open(dst)\n",
    "                        render = ImageTk.PhotoImage(load)\n",
    "                        img = tk.Label(image=render, height=\"250\", width=\"500\")\n",
    "                        img.image = render\n",
    "                        img.place(x=0, y=0)\n",
    "                        img.grid(column=0, row=1, padx=10, pady=10)\n",
    "\n",
    "                        text = \"Severly affected \"\n",
    "                        text1 = tk.Label(text=text, background=\"lightgreen\",\n",
    "                                        fg=\"Brown\", font=(\"\", 15))\n",
    "                        text1.grid(column=0, row=4, padx=10, pady=10)\n",
    "\n",
    "                        button = tk.Button(text=\"Exit\", command=exit)\n",
    "                        button.grid(column=0, row=11, padx=20, pady=20)\n",
    "                    \n",
    "                    \n",
    "                    else:\n",
    "                        dst = \"C:\\\\Users\\\\Admin\\\\OneDrive\\\\Desktop\\\\covid 19\\\\red.jpg\"\n",
    "                        # shutil.copy(fileName, dst)\n",
    "                        load = Image.open(dst)\n",
    "                        render = ImageTk.PhotoImage(load)\n",
    "                        img = tk.Label(image=render, height=\"250\", width=\"500\")\n",
    "                        img.image = render\n",
    "                        img.place(x=0, y=0)\n",
    "                        img.grid(column=0, row=1, padx=10, pady=10)\n",
    "\n",
    "                        text = \"Please Take a Corona Test\"\n",
    "                        text1 = tk.Label(text=text, background=\"lightgreen\",\n",
    "                                        fg=\"Brown\", font=(\"\", 15))\n",
    "                        text1.grid(column=0, row=4, padx=10, pady=10)\n",
    "\n",
    "                        button = tk.Button(text=\"Exit\", command=exit)\n",
    "                        button.grid(column=0, row=11, padx=20, pady=20)\n",
    "        elif district.get() in less_affected:\n",
    "            if(symptoms.get() ==\"yes\" or symptoms.get()== \"no\"):\n",
    "                if(vaccine.get() ==\"yes\" or vaccine.get()== \"no\"):\n",
    "                    if corona.get() == \"yes\":\n",
    "                        \n",
    "                        dst = \"C:\\\\Users\\\\Admin\\\\OneDrive\\\\Desktop\\\\covid 19\\\\yellow.jpg\"\n",
    "                        # shutil.copy(fileName, dst)\n",
    "                        load = Image.open(dst)\n",
    "                        render = ImageTk.PhotoImage(load)\n",
    "                        img = tk.Label(image=render, height=\"250\", width=\"500\")\n",
    "                        img.image = render\n",
    "                        img.place(x=0, y=0)\n",
    "                        img.grid(column=0, row=1, padx=10, pady=10)\n",
    "\n",
    "                        text = \"Mildly affected \"\n",
    "                        text1 = tk.Label(text=text, background=\"lightgreen\",\n",
    "                                        fg=\"Brown\", font=(\"\", 15))\n",
    "                        text1.grid(column=0, row=4, padx=10, pady=10)\n",
    "\n",
    "                        button = tk.Button(text=\"Exit\", command=exit)\n",
    "                        button.grid(column=0, row=11, padx=20, pady=20)\n",
    "                    else:\n",
    "                        dst = \"C:\\\\Users\\\\Admin\\\\OneDrive\\\\Desktop\\\\covid 19\\\\yellow.jpg\"\n",
    "                        # shutil.copy(fileName, dst)\n",
    "                        load = Image.open(dst)\n",
    "                        render = ImageTk.PhotoImage(load)\n",
    "                        img = tk.Label(image=render, height=\"250\", width=\"500\")\n",
    "                        img.image = render\n",
    "                        img.place(x=0, y=0)\n",
    "                        img.grid(column=0, row=1, padx=10, pady=10)\n",
    "\n",
    "                        text = \"Please Take a Corona Test\"\n",
    "                        text1 = tk.Label(text=text, background=\"lightgreen\",\n",
    "                                        fg=\"Brown\", font=(\"\", 15))\n",
    "                        text1.grid(column=0, row=4, padx=10, pady=10)\n",
    "\n",
    "                        button = tk.Button(text=\"Exit\", command=exit)\n",
    "                        button.grid(column=0, row=11, padx=20, pady=20)\n",
    "        elif district.get() in very_less_affected:\n",
    "            if (symptoms.get() == \"yes\" or symptoms.get() == \"no\"):\n",
    "                if(vaccine.get() ==\"yes\" or vaccine.get()== \"no\"):\n",
    "                    \n",
    "                    if corona.get() == \"yes\":\n",
    "                        dst = \"C:\\\\Users\\\\Admin\\\\OneDrive\\\\Desktop\\\\covid 19\\\\green.jpg\"\n",
    "                        # shutil.copy(fileName, dst)\n",
    "                        load = Image.open(dst)\n",
    "                        render = ImageTk.PhotoImage(load)\n",
    "                        img = tk.Label(image=render, height=\"250\", width=\"500\")\n",
    "                        img.image = render\n",
    "                        img.place(x=0, y=0)\n",
    "                        img.grid(column=0, row=1, padx=10, pady=10)\n",
    "\n",
    "                        text = \"Not affected \"\n",
    "                        text1 = tk.Label(text=text, background=\"lightgreen\",\n",
    "                                        fg=\"Brown\", font=(\"\", 15))\n",
    "                        text1.grid(column=0, row=4, padx=10, pady=10)\n",
    "\n",
    "                        button = tk.Button(text=\"Exit\", command=exit)\n",
    "                        button.grid(column=0, row=11, padx=20, pady=20)\n",
    "                    else:\n",
    "                        dst = \"C:\\\\Users\\\\Admin\\\\OneDrive\\\\Desktop\\\\covid 19\\\\green.jpg\"\n",
    "                        # shutil.copy(fileName, dst)\n",
    "                        load = Image.open(dst)\n",
    "                        render = ImageTk.PhotoImage(load)\n",
    "                        img = tk.Label(image=render, height=\"250\", width=\"500\")\n",
    "                        img.image = render\n",
    "                        img.place(x=0, y=0)\n",
    "                        img.grid(column=0, row=1, padx=10, pady=10)\n",
    "\n",
    "                        text = \"Not Infected \"\n",
    "                        text1 = tk.Label(text=text, background=\"lightgreen\",\n",
    "                                        fg=\"Brown\", font=(\"\", 15))\n",
    "                        text1.grid(column=0, row=4, padx=10, pady=10)\n",
    "\n",
    "                        button = tk.Button(text=\"Exit\", command=exit)\n",
    "                        button.grid(column=0, row=11, padx=20, pady=20)\n",
    "                        \n",
    "    window1.mainloop()\n",
    "\n",
    "button1 = tk.Button(text=\"predict\", command = alert)\n",
    "button1.grid(column=0, row=11, padx=10, pady = 10)\n",
    "\n",
    "\n",
    "\n",
    "window.mainloop()"
   ]
  },
  {
   "cell_type": "code",
   "execution_count": null,
   "metadata": {},
   "outputs": [],
   "source": []
  }
 ],
 "metadata": {
  "colab": {
   "name": "covid_19.ipynb",
   "provenance": []
  },
  "kernelspec": {
   "display_name": "Python 3",
   "language": "python",
   "name": "python3"
  },
  "language_info": {
   "codemirror_mode": {
    "name": "ipython",
    "version": 3
   },
   "file_extension": ".py",
   "mimetype": "text/x-python",
   "name": "python",
   "nbconvert_exporter": "python",
   "pygments_lexer": "ipython3",
   "version": "3.8.5"
  }
 },
 "nbformat": 4,
 "nbformat_minor": 1
}
