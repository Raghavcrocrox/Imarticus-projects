{
  "nbformat": 4,
  "nbformat_minor": 0,
  "metadata": {
    "colab": {
      "name": "Breast_cancer_prediction4.ipynb",
      "provenance": [],
      "collapsed_sections": [],
      "machine_shape": "hm"
    },
    "kernelspec": {
      "name": "python3",
      "display_name": "Python 3"
    },
    "accelerator": "GPU"
  },
  "cells": [
    {
      "cell_type": "code",
      "metadata": {
        "id": "vvdFH4M7RtAu",
        "colab_type": "code",
        "outputId": "240e5498-8403-4878-9dea-69d77b36fece",
        "colab": {
          "base_uri": "https://localhost:8080/",
          "height": 122
        }
      },
      "source": [
        "from google.colab import drive\n",
        "drive.mount('/content/drive')"
      ],
      "execution_count": 0,
      "outputs": [
        {
          "output_type": "stream",
          "text": [
            "Go to this URL in a browser: https://accounts.google.com/o/oauth2/auth?client_id=947318989803-6bn6qk8qdgf4n4g3pfee6491hc0brc4i.apps.googleusercontent.com&redirect_uri=urn%3aietf%3awg%3aoauth%3a2.0%3aoob&response_type=code&scope=email%20https%3a%2f%2fwww.googleapis.com%2fauth%2fdocs.test%20https%3a%2f%2fwww.googleapis.com%2fauth%2fdrive%20https%3a%2f%2fwww.googleapis.com%2fauth%2fdrive.photos.readonly%20https%3a%2f%2fwww.googleapis.com%2fauth%2fpeopleapi.readonly\n",
            "\n",
            "Enter your authorization code:\n",
            "··········\n",
            "Mounted at /content/drive\n"
          ],
          "name": "stdout"
        }
      ]
    },
    {
      "cell_type": "code",
      "metadata": {
        "id": "HFwJR37ATgMj",
        "colab_type": "code",
        "outputId": "3c139c54-33de-4096-aa5f-27cd11b50bae",
        "colab": {
          "base_uri": "https://localhost:8080/",
          "height": 80
        }
      },
      "source": [
        "import tensorflow as tf\n",
        "from tensorflow.keras.layers import Conv2D, Input, ZeroPadding2D, BatchNormalization, Activation, MaxPooling2D, Flatten, Dense\n",
        "from tensorflow.keras.models import Model, load_model\n",
        "from tensorflow.keras.callbacks import TensorBoard, ModelCheckpoint\n",
        "from sklearn.model_selection import train_test_split\n",
        "from sklearn.metrics import f1_score\n",
        "from sklearn.utils import shuffle\n",
        "import cv2\n",
        "import imutils\n",
        "import numpy as np\n",
        "import matplotlib.pyplot as plt\n",
        "import time\n",
        "from os import listdir\n",
        "\n",
        "%matplotlib inline"
      ],
      "execution_count": 0,
      "outputs": [
        {
          "output_type": "display_data",
          "data": {
            "text/html": [
              "<p style=\"color: red;\">\n",
              "The default version of TensorFlow in Colab will soon switch to TensorFlow 2.x.<br>\n",
              "We recommend you <a href=\"https://www.tensorflow.org/guide/migrate\" target=\"_blank\">upgrade</a> now \n",
              "or ensure your notebook will continue to use TensorFlow 1.x via the <code>%tensorflow_version 1.x</code> magic:\n",
              "<a href=\"https://colab.research.google.com/notebooks/tensorflow_version.ipynb\" target=\"_blank\">more info</a>.</p>\n"
            ],
            "text/plain": [
              "<IPython.core.display.HTML object>"
            ]
          },
          "metadata": {
            "tags": []
          }
        }
      ]
    },
    {
      "cell_type": "code",
      "metadata": {
        "id": "HTDr-_KxDcJ2",
        "colab_type": "code",
        "colab": {}
      },
      "source": [
        "def load_data(dir_list, image_size):\n",
        "    \"\"\"\n",
        "    Read images, resize and normalize them. \n",
        "    Arguments:\n",
        "        dir_list: list of strings representing file directories.\n",
        "    Returns:\n",
        "        X: A numpy array with shape = (#_examples, image_width, image_height, #_channels)\n",
        "        y: A numpy array with shape = (#_examples, 1)\n",
        "    \"\"\"\n",
        "\n",
        "    # load all images in a directory\n",
        "    X = []\n",
        "    y = []\n",
        "    image_width, image_height = image_size\n",
        "    \n",
        "    for directory in dir_list:\n",
        "        for filename in listdir(directory):\n",
        "            # load the image\n",
        "            \n",
        "#             print(directory + '/' + filename)\n",
        "            \n",
        "            image = cv2.imread(directory + '/' + filename)\n",
        "            \n",
        "            # resize image\n",
        "            image = cv2.resize(image, dsize=(image_width, image_height), interpolation=cv2.INTER_CUBIC)\n",
        "            # normalize values\n",
        "            # image = image / 255.\n",
        "            # convert image to numpy array and append it to X\n",
        "            X.append(image)\n",
        "            # append a value of 1 to the target array if the image\n",
        "            # is in the folder named 'yes', otherwise append 0.\n",
        "            if directory[-3:] == 'yes':\n",
        "                y.append([1])            \n",
        "            else:\n",
        "                y.append([0])\n",
        "                \n",
        "    X = np.array(X)\n",
        "    y = np.array(y)\n",
        "    print(y)\n",
        "    \n",
        "    # Shuffle the data\n",
        "    X, y = shuffle(X, y)\n",
        "    \n",
        "    print(f'Number of examples is: {len(X)}')\n",
        "    print(f'X shape is: {X.shape}')\n",
        "    print(f'y shape is: {y.shape}')\n",
        "    \n",
        "    return X, y"
      ],
      "execution_count": 0,
      "outputs": []
    },
    {
      "cell_type": "code",
      "metadata": {
        "id": "6tFRpE-iEWEo",
        "colab_type": "code",
        "outputId": "0f4e6cd0-bffd-459b-e7e5-db3f9df4b299",
        "colab": {
          "base_uri": "https://localhost:8080/",
          "height": 221
        }
      },
      "source": [
        "augmented_path = '/content/drive/My Drive/Breast/augmented_data/'\n",
        "\n",
        "# augmented data (yes and no) contains both the original and the new generated examples\n",
        "augmented_yes = augmented_path + 'yes' \n",
        "augmented_no = augmented_path + 'no'\n",
        "\n",
        "\n",
        "print(augmented_yes)\n",
        "print(augmented_no)\n",
        "# print(augmented_normal)\n",
        "\n",
        "IMG_WIDTH, IMG_HEIGHT = (240, 240)\n",
        "\n",
        "X, y = load_data([augmented_yes, augmented_no], (IMG_WIDTH, IMG_HEIGHT))"
      ],
      "execution_count": 0,
      "outputs": [
        {
          "output_type": "stream",
          "text": [
            "/content/drive/My Drive/Breast/augmented_data/yes\n",
            "/content/drive/My Drive/Breast/augmented_data/no\n",
            "[[1]\n",
            " [1]\n",
            " [1]\n",
            " ...\n",
            " [0]\n",
            " [0]\n",
            " [0]]\n",
            "Number of examples is: 3865\n",
            "X shape is: (3865, 240, 240, 3)\n",
            "y shape is: (3865, 1)\n"
          ],
          "name": "stdout"
        }
      ]
    },
    {
      "cell_type": "code",
      "metadata": {
        "id": "AsAG9VI3YYdM",
        "colab_type": "code",
        "outputId": "33d78547-b54b-4a76-f504-93c1a318208b",
        "colab": {
          "base_uri": "https://localhost:8080/",
          "height": 136
        }
      },
      "source": [
        "# print(X)\n",
        "print(y)"
      ],
      "execution_count": 0,
      "outputs": [
        {
          "output_type": "stream",
          "text": [
            "[[1]\n",
            " [1]\n",
            " [1]\n",
            " ...\n",
            " [1]\n",
            " [1]\n",
            " [1]]\n"
          ],
          "name": "stdout"
        }
      ]
    },
    {
      "cell_type": "code",
      "metadata": {
        "id": "Fs3Y7Az8M-M2",
        "colab_type": "code",
        "colab": {}
      },
      "source": [
        "def plot_sample_images(X, y, n=50):\n",
        "    \"\"\"\n",
        "    Plots n sample images for both values of y (labels).\n",
        "    Arguments:\n",
        "        X: A numpy array with shape = (#_examples, image_width, image_height, #_channels)\n",
        "        y: A numpy array with shape = (#_examples, 1)\n",
        "    \"\"\"\n",
        "    \n",
        "    for label in [0,1]:\n",
        "        # grab the first n images with the corresponding y values equal to label\n",
        "        images = X[np.argwhere(y == label)]\n",
        "        n_images = images[:n]\n",
        "        \n",
        "        columns_n = 10\n",
        "        rows_n = int(n/ columns_n)\n",
        "\n",
        "        plt.figure(figsize=(20, 10))\n",
        "        \n",
        "        i = 1 # current plot        \n",
        "        for image in n_images:\n",
        "            plt.subplot(rows_n, columns_n, i)\n",
        "            plt.imshow(image[0])\n",
        "            \n",
        "            # remove ticks\n",
        "            plt.tick_params(axis='both', which='both', \n",
        "                            top=False, bottom=False, left=False, right=False,\n",
        "                           labelbottom=False, labeltop=False, labelleft=False, labelright=False)\n",
        "            \n",
        "            i += 1\n",
        "        \n",
        "        label_to_str = lambda label: \"Yes\" if label == 1 else \"No\"\n",
        "        plt.suptitle(f\"Breast_cancer: {label_to_str(label)}\")\n",
        "        plt.show()"
      ],
      "execution_count": 0,
      "outputs": []
    },
    {
      "cell_type": "code",
      "metadata": {
        "colab_type": "code",
        "id": "VX35dgigDpbN",
        "colab": {}
      },
      "source": [
        "plot_sample_images(X, y)"
      ],
      "execution_count": 0,
      "outputs": []
    },
    {
      "cell_type": "code",
      "metadata": {
        "id": "wsaZM0ETPKFP",
        "colab_type": "code",
        "colab": {}
      },
      "source": [
        "def split_data(X, y, test_size=0.2):\n",
        "       \n",
        "    \"\"\"\n",
        "    Splits data into training, development and test sets.\n",
        "    Arguments:\n",
        "        X: A numpy array with shape = (#_examples, image_width, image_height, #_channels)\n",
        "        y: A numpy array with shape = (#_examples, 1)\n",
        "    Returns:\n",
        "        X_train: A numpy array with shape = (#_train_examples, image_width, image_height, #_channels)\n",
        "        y_train: A numpy array with shape = (#_train_examples, 1)\n",
        "        X_val: A numpy array with shape = (#_val_examples, image_width, image_height, #_channels)\n",
        "        y_val: A numpy array with shape = (#_val_examples, 1)\n",
        "        X_test: A numpy array with shape = (#_test_examples, image_width, image_height, #_channels)\n",
        "        y_test: A numpy array with shape = (#_test_examples, 1)\n",
        "    \"\"\"\n",
        "    \n",
        "    X_train, X_test_val, y_train, y_test_val = train_test_split(X, y, test_size=test_size)\n",
        "    X_test, X_val, y_test, y_val = train_test_split(X_test_val, y_test_val, test_size=0.5)\n",
        "    \n",
        "    return X_train, y_train, X_val, y_val, X_test, y_test"
      ],
      "execution_count": 0,
      "outputs": []
    },
    {
      "cell_type": "code",
      "metadata": {
        "id": "Hlo0IwzSPPdY",
        "colab_type": "code",
        "colab": {}
      },
      "source": [
        "X_train, y_train, X_val, y_val, X_test, y_test = split_data(X, y, test_size=0.3)"
      ],
      "execution_count": 0,
      "outputs": []
    },
    {
      "cell_type": "code",
      "metadata": {
        "id": "sAKWNFgBVGMz",
        "colab_type": "code",
        "outputId": "44ad332a-549d-49b1-bebc-714a15ca7620",
        "colab": {
          "base_uri": "https://localhost:8080/",
          "height": 170
        }
      },
      "source": [
        "print (\"number of training examples = \" + str(X_train.shape[0]))\n",
        "print (\"number of development examples = \" + str(X_val.shape[0]))\n",
        "print (\"number of test examples = \" + str(X_test.shape[0]))\n",
        "print (\"X_train shape: \" + str(X_train.shape))\n",
        "print (\"Y_train shape: \" + str(y_train.shape))\n",
        "print (\"X_val (dev) shape: \" + str(X_val.shape))\n",
        "print (\"Y_val (dev) shape: \" + str(y_val.shape))\n",
        "print (\"X_test shape: \" + str(X_test.shape))\n",
        "print (\"Y_test shape: \" + str(y_test.shape))"
      ],
      "execution_count": 0,
      "outputs": [
        {
          "output_type": "stream",
          "text": [
            "number of training examples = 2705\n",
            "number of development examples = 580\n",
            "number of test examples = 580\n",
            "X_train shape: (2705, 240, 240, 3)\n",
            "Y_train shape: (2705, 1)\n",
            "X_val (dev) shape: (580, 240, 240, 3)\n",
            "Y_val (dev) shape: (580, 1)\n",
            "X_test shape: (580, 240, 240, 3)\n",
            "Y_test shape: (580, 1)\n"
          ],
          "name": "stdout"
        }
      ]
    },
    {
      "cell_type": "code",
      "metadata": {
        "id": "CR77Xz9SWLCz",
        "colab_type": "code",
        "colab": {}
      },
      "source": [
        "# Nicely formatted time string\n",
        "def hms_string(sec_elapsed):\n",
        "    h = int(sec_elapsed / (60 * 60))\n",
        "    m = int((sec_elapsed % (60 * 60)) / 60)\n",
        "    s = sec_elapsed % 60\n",
        "    return f\"{h}:{m}:{round(s,1)}\""
      ],
      "execution_count": 0,
      "outputs": []
    },
    {
      "cell_type": "code",
      "metadata": {
        "id": "fzYW8Hw9WPCR",
        "colab_type": "code",
        "colab": {}
      },
      "source": [
        "def compute_f1_score(y_true, prob):\n",
        "    # convert the vector of probabilities to a target vector\n",
        "    y_pred = np.where(prob > 0.5, 1, 0)\n",
        "    \n",
        "    score = f1_score(y_true, y_pred)\n",
        "    \n",
        "    return score"
      ],
      "execution_count": 0,
      "outputs": []
    },
    {
      "cell_type": "code",
      "metadata": {
        "id": "mue39DLuWUtD",
        "colab_type": "code",
        "colab": {}
      },
      "source": [
        "def build_model(input_shape):\n",
        "    \"\"\"\n",
        "    Arugments:\n",
        "        input_shape: A tuple representing the shape of the input of the model. shape=(image_width, image_height, #_channels)\n",
        "    Returns:\n",
        "        model: A Model object.\n",
        "    \"\"\"\n",
        "    # Define the input placeholder as a tensor with shape input_shape. \n",
        "    X_input = Input(input_shape) # shape=(?, 240, 240, 3)\n",
        "    \n",
        "    # Zero-Padding: pads the border of X_input with zeroes\n",
        "    X = ZeroPadding2D((2, 2))(X_input) # shape=(?, 244, 244, 3)\n",
        "    \n",
        "    # CONV -> BN -> RELU Block applied to X\n",
        "    X = Conv2D(32, (7, 7), strides = (1, 1), name = 'conv0')(X)\n",
        "    X = BatchNormalization(axis = 3, name = 'bn0')(X)\n",
        "    X = Activation('relu')(X) # shape=(?, 238, 238, 32)\n",
        "    \n",
        "    # MAXPOOL\n",
        "    X = MaxPooling2D((4, 4), name='max_pool0')(X) # shape=(?, 59, 59, 32) \n",
        "    \n",
        "    # MAXPOOL\n",
        "    X = MaxPooling2D((4, 4), name='max_pool1')(X) # shape=(?, 14, 14, 32)\n",
        "    \n",
        "    # FLATTEN X \n",
        "    X = Flatten()(X) # shape=(?, 6272)\n",
        "    # FULLYCONNECTED\n",
        "    X = Dense(1, activation='sigmoid', name='fc')(X) # shape=(?, 1)\n",
        "    \n",
        "    # Create model. This creates your Keras model instance, you'll use this instance to train/test the model.\n",
        "    model = Model(inputs = X_input, outputs = X, name='Breast_cancer_DetectionModel')\n",
        "    \n",
        "    return model"
      ],
      "execution_count": 0,
      "outputs": []
    },
    {
      "cell_type": "code",
      "metadata": {
        "id": "dnj_M6XTWh79",
        "colab_type": "code",
        "colab": {}
      },
      "source": [
        "IMG_SHAPE = (IMG_WIDTH, IMG_HEIGHT, 3)"
      ],
      "execution_count": 0,
      "outputs": []
    },
    {
      "cell_type": "code",
      "metadata": {
        "id": "xbR9xy83Wk0l",
        "colab_type": "code",
        "outputId": "3af4d96c-dee5-43d0-9fd6-0f9fe6b7314a",
        "colab": {
          "base_uri": "https://localhost:8080/",
          "height": 88
        }
      },
      "source": [
        "model = build_model(IMG_SHAPE)"
      ],
      "execution_count": 0,
      "outputs": [
        {
          "output_type": "stream",
          "text": [
            "WARNING:tensorflow:From /usr/local/lib/python3.6/dist-packages/tensorflow_core/python/ops/resource_variable_ops.py:1630: calling BaseResourceVariable.__init__ (from tensorflow.python.ops.resource_variable_ops) with constraint is deprecated and will be removed in a future version.\n",
            "Instructions for updating:\n",
            "If using Keras pass *_constraint arguments to layers.\n"
          ],
          "name": "stdout"
        }
      ]
    },
    {
      "cell_type": "code",
      "metadata": {
        "id": "muJAg4AAWqsC",
        "colab_type": "code",
        "outputId": "7de35d3f-43eb-4ebc-bba3-476e0873c32a",
        "colab": {
          "base_uri": "https://localhost:8080/",
          "height": 459
        }
      },
      "source": [
        "model.summary()"
      ],
      "execution_count": 0,
      "outputs": [
        {
          "output_type": "stream",
          "text": [
            "Model: \"Breast_cancer_DetectionModel\"\n",
            "_________________________________________________________________\n",
            "Layer (type)                 Output Shape              Param #   \n",
            "=================================================================\n",
            "input_1 (InputLayer)         [(None, 240, 240, 3)]     0         \n",
            "_________________________________________________________________\n",
            "zero_padding2d (ZeroPadding2 (None, 244, 244, 3)       0         \n",
            "_________________________________________________________________\n",
            "conv0 (Conv2D)               (None, 238, 238, 32)      4736      \n",
            "_________________________________________________________________\n",
            "bn0 (BatchNormalization)     (None, 238, 238, 32)      128       \n",
            "_________________________________________________________________\n",
            "activation (Activation)      (None, 238, 238, 32)      0         \n",
            "_________________________________________________________________\n",
            "max_pool0 (MaxPooling2D)     (None, 59, 59, 32)        0         \n",
            "_________________________________________________________________\n",
            "max_pool1 (MaxPooling2D)     (None, 14, 14, 32)        0         \n",
            "_________________________________________________________________\n",
            "flatten (Flatten)            (None, 6272)              0         \n",
            "_________________________________________________________________\n",
            "fc (Dense)                   (None, 1)                 6273      \n",
            "=================================================================\n",
            "Total params: 11,137\n",
            "Trainable params: 11,073\n",
            "Non-trainable params: 64\n",
            "_________________________________________________________________\n"
          ],
          "name": "stdout"
        }
      ]
    },
    {
      "cell_type": "code",
      "metadata": {
        "id": "fcuzz2kRWxZe",
        "colab_type": "code",
        "outputId": "0aa2a1c7-f59a-457d-d149-18b4178f9be5",
        "colab": {
          "base_uri": "https://localhost:8080/",
          "height": 88
        }
      },
      "source": [
        "model.compile(optimizer='adam', loss='binary_crossentropy', metrics=['accuracy'])"
      ],
      "execution_count": 0,
      "outputs": [
        {
          "output_type": "stream",
          "text": [
            "WARNING:tensorflow:From /usr/local/lib/python3.6/dist-packages/tensorflow_core/python/ops/nn_impl.py:183: where (from tensorflow.python.ops.array_ops) is deprecated and will be removed in a future version.\n",
            "Instructions for updating:\n",
            "Use tf.where in 2.0, which has the same broadcast rule as np.where\n"
          ],
          "name": "stdout"
        }
      ]
    },
    {
      "cell_type": "code",
      "metadata": {
        "id": "WJShizTTW3sg",
        "colab_type": "code",
        "colab": {}
      },
      "source": [
        "# tensorboard\n",
        "log_file_name = f'breast_cancer_detection_cnn_{int(time.time())}'\n",
        "tensorboard = TensorBoard(log_dir=f'/content/drive/My Drive/Breast/logs/{log_file_name}')"
      ],
      "execution_count": 0,
      "outputs": []
    },
    {
      "cell_type": "code",
      "metadata": {
        "id": "FwygS7WDW7pB",
        "colab_type": "code",
        "colab": {}
      },
      "source": [
        "# checkpoint\n",
        "# unique file name that will include the epoch and the validation (development) accuracy\n",
        "filepath=\"cnn-parameters-improvement-{epoch:02d}-{val_acc:.2f}\"\n",
        "# save the model with the best validation (development) accuracy till now\n",
        "checkpoint = ModelCheckpoint(\"/content/drive/My Drive/Breast/models/{}.model\".format(filepath, monitor='val_acc', verbose=1, save_best_only=True, mode='max'))"
      ],
      "execution_count": 0,
      "outputs": []
    },
    {
      "cell_type": "code",
      "metadata": {
        "id": "jzlHfyJbXJ8R",
        "colab_type": "code",
        "outputId": "0e0b49d2-7a3d-4847-8390-760440ed8db4",
        "colab": {
          "base_uri": "https://localhost:8080/",
          "height": 1000
        }
      },
      "source": [
        "start_time = time.time()\n",
        "\n",
        "model.fit(x=X_train, y=y_train, batch_size=32, epochs=50, validation_data=(X_val, y_val), callbacks=[tensorboard, checkpoint])\n",
        "\n",
        "end_time = time.time()\n",
        "execution_time = (end_time - start_time)\n",
        "print(f\"Elapsed time: {hms_string(execution_time)}\")"
      ],
      "execution_count": 0,
      "outputs": [
        {
          "output_type": "stream",
          "text": [
            "Train on 2705 samples, validate on 580 samples\n",
            "Epoch 1/50\n",
            "2705/2705 [==============================] - 10s 4ms/sample - loss: 0.7135 - acc: 0.6488 - val_loss: 0.6392 - val_acc: 0.6724\n",
            "Epoch 2/50\n",
            "2705/2705 [==============================] - 3s 1ms/sample - loss: 0.6075 - acc: 0.6891 - val_loss: 0.5972 - val_acc: 0.7103\n",
            "Epoch 3/50\n",
            "2705/2705 [==============================] - 3s 1ms/sample - loss: 0.5594 - acc: 0.7275 - val_loss: 0.6241 - val_acc: 0.6552\n",
            "Epoch 4/50\n",
            "2705/2705 [==============================] - 3s 1ms/sample - loss: 0.5607 - acc: 0.7198 - val_loss: 0.8042 - val_acc: 0.6000\n",
            "Epoch 5/50\n",
            "2705/2705 [==============================] - 3s 1ms/sample - loss: 0.6009 - acc: 0.7031 - val_loss: 0.5822 - val_acc: 0.7190\n",
            "Epoch 6/50\n",
            "2705/2705 [==============================] - 3s 1ms/sample - loss: 0.6033 - acc: 0.6972 - val_loss: 0.5812 - val_acc: 0.7293\n",
            "Epoch 7/50\n",
            "2705/2705 [==============================] - 3s 1ms/sample - loss: 0.5528 - acc: 0.7327 - val_loss: 0.6035 - val_acc: 0.6862\n",
            "Epoch 8/50\n",
            "2705/2705 [==============================] - 3s 1ms/sample - loss: 0.4903 - acc: 0.7630 - val_loss: 0.5457 - val_acc: 0.7379\n",
            "Epoch 9/50\n",
            "2705/2705 [==============================] - 3s 1ms/sample - loss: 0.4844 - acc: 0.7693 - val_loss: 0.5184 - val_acc: 0.7569\n",
            "Epoch 10/50\n",
            "2705/2705 [==============================] - 3s 1ms/sample - loss: 0.4941 - acc: 0.7579 - val_loss: 0.5727 - val_acc: 0.7103\n",
            "Epoch 11/50\n",
            "2705/2705 [==============================] - 3s 1ms/sample - loss: 0.5046 - acc: 0.7575 - val_loss: 0.6152 - val_acc: 0.7121\n",
            "Epoch 12/50\n",
            "2705/2705 [==============================] - 3s 1ms/sample - loss: 0.4625 - acc: 0.7867 - val_loss: 0.8050 - val_acc: 0.6034\n",
            "Epoch 13/50\n",
            "2705/2705 [==============================] - 3s 1ms/sample - loss: 0.4528 - acc: 0.7963 - val_loss: 0.5583 - val_acc: 0.7241\n",
            "Epoch 14/50\n",
            "2705/2705 [==============================] - 3s 1ms/sample - loss: 0.4576 - acc: 0.7811 - val_loss: 0.6734 - val_acc: 0.6655\n",
            "Epoch 15/50\n",
            "2705/2705 [==============================] - 3s 1ms/sample - loss: 0.4408 - acc: 0.7989 - val_loss: 0.5648 - val_acc: 0.7276\n",
            "Epoch 16/50\n",
            "2705/2705 [==============================] - 3s 1ms/sample - loss: 0.4673 - acc: 0.7845 - val_loss: 0.5996 - val_acc: 0.7241\n",
            "Epoch 17/50\n",
            "2705/2705 [==============================] - 3s 1ms/sample - loss: 0.4348 - acc: 0.7952 - val_loss: 0.5680 - val_acc: 0.7276\n",
            "Epoch 18/50\n",
            "2705/2705 [==============================] - 3s 1ms/sample - loss: 0.3896 - acc: 0.8281 - val_loss: 0.5549 - val_acc: 0.7431\n",
            "Epoch 19/50\n",
            "2705/2705 [==============================] - 3s 1ms/sample - loss: 0.3909 - acc: 0.8244 - val_loss: 0.5628 - val_acc: 0.7379\n",
            "Epoch 20/50\n",
            "2705/2705 [==============================] - 3s 1ms/sample - loss: 0.3947 - acc: 0.8233 - val_loss: 0.6953 - val_acc: 0.6672\n",
            "Epoch 21/50\n",
            "2705/2705 [==============================] - 3s 1ms/sample - loss: 0.3904 - acc: 0.8266 - val_loss: 0.5088 - val_acc: 0.7793\n",
            "Epoch 22/50\n",
            "2705/2705 [==============================] - 3s 1ms/sample - loss: 0.4226 - acc: 0.7974 - val_loss: 0.5540 - val_acc: 0.7483\n",
            "Epoch 23/50\n",
            "2705/2705 [==============================] - 3s 1ms/sample - loss: 0.3931 - acc: 0.8296 - val_loss: 0.5093 - val_acc: 0.7724\n",
            "Epoch 24/50\n",
            "2705/2705 [==============================] - 3s 1ms/sample - loss: 0.3752 - acc: 0.8333 - val_loss: 0.5908 - val_acc: 0.7121\n",
            "Epoch 25/50\n",
            "2705/2705 [==============================] - 3s 1ms/sample - loss: 0.3967 - acc: 0.8303 - val_loss: 0.5228 - val_acc: 0.7569\n",
            "Epoch 26/50\n",
            "2705/2705 [==============================] - 3s 1ms/sample - loss: 0.3759 - acc: 0.8344 - val_loss: 0.5712 - val_acc: 0.7431\n",
            "Epoch 27/50\n",
            "2705/2705 [==============================] - 3s 1ms/sample - loss: 0.3774 - acc: 0.8322 - val_loss: 0.5774 - val_acc: 0.7259\n",
            "Epoch 28/50\n",
            "2705/2705 [==============================] - 3s 1ms/sample - loss: 0.4123 - acc: 0.8133 - val_loss: 0.9810 - val_acc: 0.5948\n",
            "Epoch 29/50\n",
            "2705/2705 [==============================] - 3s 1ms/sample - loss: 0.3755 - acc: 0.8325 - val_loss: 0.5672 - val_acc: 0.7534\n",
            "Epoch 30/50\n",
            "2705/2705 [==============================] - 3s 1ms/sample - loss: 0.3521 - acc: 0.8488 - val_loss: 0.7467 - val_acc: 0.7000\n",
            "Epoch 31/50\n",
            "2705/2705 [==============================] - 3s 1ms/sample - loss: 0.3477 - acc: 0.8492 - val_loss: 0.5264 - val_acc: 0.7638\n",
            "Epoch 32/50\n",
            "2705/2705 [==============================] - 3s 1ms/sample - loss: 0.3430 - acc: 0.8510 - val_loss: 0.5404 - val_acc: 0.7586\n",
            "Epoch 33/50\n",
            "2705/2705 [==============================] - 3s 1ms/sample - loss: 0.3363 - acc: 0.8447 - val_loss: 0.5604 - val_acc: 0.7793\n",
            "Epoch 34/50\n",
            "2705/2705 [==============================] - 3s 1ms/sample - loss: 0.3034 - acc: 0.8754 - val_loss: 0.7337 - val_acc: 0.6983\n",
            "Epoch 35/50\n",
            "2705/2705 [==============================] - 3s 1ms/sample - loss: 0.3145 - acc: 0.8595 - val_loss: 0.6665 - val_acc: 0.7483\n",
            "Epoch 36/50\n",
            "2705/2705 [==============================] - 3s 1ms/sample - loss: 0.2696 - acc: 0.8950 - val_loss: 0.5254 - val_acc: 0.7672\n",
            "Epoch 37/50\n",
            "2705/2705 [==============================] - 3s 1ms/sample - loss: 0.3026 - acc: 0.8732 - val_loss: 0.5865 - val_acc: 0.7690\n",
            "Epoch 38/50\n",
            "2705/2705 [==============================] - 3s 1ms/sample - loss: 0.2891 - acc: 0.8784 - val_loss: 0.5440 - val_acc: 0.7759\n",
            "Epoch 39/50\n",
            "2705/2705 [==============================] - 3s 1ms/sample - loss: 0.2849 - acc: 0.8769 - val_loss: 0.6717 - val_acc: 0.7466\n",
            "Epoch 40/50\n",
            "2705/2705 [==============================] - 3s 1ms/sample - loss: 0.2705 - acc: 0.8913 - val_loss: 1.0243 - val_acc: 0.6655\n",
            "Epoch 41/50\n",
            "2705/2705 [==============================] - 3s 1ms/sample - loss: 0.2628 - acc: 0.8924 - val_loss: 0.5699 - val_acc: 0.7672\n",
            "Epoch 42/50\n",
            "2705/2705 [==============================] - 3s 1ms/sample - loss: 0.2499 - acc: 0.8935 - val_loss: 0.5439 - val_acc: 0.7707\n",
            "Epoch 43/50\n",
            "2705/2705 [==============================] - 3s 1ms/sample - loss: 0.2427 - acc: 0.9028 - val_loss: 0.6152 - val_acc: 0.7414\n",
            "Epoch 44/50\n",
            "2705/2705 [==============================] - 3s 1ms/sample - loss: 0.2358 - acc: 0.9083 - val_loss: 0.8620 - val_acc: 0.6914\n",
            "Epoch 45/50\n",
            "2705/2705 [==============================] - 3s 1ms/sample - loss: 0.2402 - acc: 0.9046 - val_loss: 0.6137 - val_acc: 0.7759\n",
            "Epoch 46/50\n",
            "2705/2705 [==============================] - 3s 1ms/sample - loss: 0.2378 - acc: 0.8957 - val_loss: 0.6237 - val_acc: 0.7362\n",
            "Epoch 47/50\n",
            "2705/2705 [==============================] - 3s 1ms/sample - loss: 0.2707 - acc: 0.8869 - val_loss: 0.5978 - val_acc: 0.7672\n",
            "Epoch 48/50\n",
            "2705/2705 [==============================] - 3s 1ms/sample - loss: 0.2112 - acc: 0.9220 - val_loss: 0.6628 - val_acc: 0.7069\n",
            "Epoch 49/50\n",
            "2705/2705 [==============================] - 3s 1ms/sample - loss: 0.2099 - acc: 0.9165 - val_loss: 0.6364 - val_acc: 0.7397\n",
            "Epoch 50/50\n",
            "2705/2705 [==============================] - 3s 1ms/sample - loss: 0.2078 - acc: 0.9216 - val_loss: 0.6526 - val_acc: 0.7621\n",
            "Elapsed time: 0:2:54.1\n"
          ],
          "name": "stdout"
        }
      ]
    },
    {
      "cell_type": "code",
      "metadata": {
        "id": "4l-7fiyfacsh",
        "colab_type": "code",
        "outputId": "643b16ce-8551-4004-b3ba-428523beb6a5",
        "colab": {
          "base_uri": "https://localhost:8080/",
          "height": 751
        }
      },
      "source": [
        "start_time = time.time()\n",
        "\n",
        "model.fit(x=X_train, y=y_train, batch_size=32, epochs=20, validation_data=(X_val, y_val), callbacks=[tensorboard, checkpoint])\n",
        "\n",
        "end_time = time.time()\n",
        "execution_time = (end_time - start_time)\n",
        "print(f\"Elapsed time: {hms_string(execution_time)}\")"
      ],
      "execution_count": 0,
      "outputs": [
        {
          "output_type": "stream",
          "text": [
            "Train on 2705 samples, validate on 580 samples\n",
            "Epoch 1/20\n",
            "2705/2705 [==============================] - 3s 1ms/sample - loss: 0.1982 - acc: 0.9227 - val_loss: 0.5709 - val_acc: 0.7690\n",
            "Epoch 2/20\n",
            "2705/2705 [==============================] - 3s 1ms/sample - loss: 0.1870 - acc: 0.9283 - val_loss: 0.6177 - val_acc: 0.7655\n",
            "Epoch 3/20\n",
            "2705/2705 [==============================] - 3s 1ms/sample - loss: 0.1740 - acc: 0.9416 - val_loss: 0.6338 - val_acc: 0.7483\n",
            "Epoch 4/20\n",
            "2705/2705 [==============================] - 3s 1ms/sample - loss: 0.1753 - acc: 0.9372 - val_loss: 0.8569 - val_acc: 0.6966\n",
            "Epoch 5/20\n",
            "2705/2705 [==============================] - 3s 1ms/sample - loss: 0.1764 - acc: 0.9327 - val_loss: 0.6961 - val_acc: 0.7345\n",
            "Epoch 6/20\n",
            "2705/2705 [==============================] - 3s 1ms/sample - loss: 0.1495 - acc: 0.9519 - val_loss: 0.7557 - val_acc: 0.7121\n",
            "Epoch 7/20\n",
            "2705/2705 [==============================] - 3s 1ms/sample - loss: 0.1721 - acc: 0.9360 - val_loss: 0.6484 - val_acc: 0.7466\n",
            "Epoch 8/20\n",
            "2705/2705 [==============================] - 3s 1ms/sample - loss: 0.1577 - acc: 0.9457 - val_loss: 0.6706 - val_acc: 0.7397\n",
            "Epoch 9/20\n",
            "2705/2705 [==============================] - 3s 1ms/sample - loss: 0.1610 - acc: 0.9420 - val_loss: 0.6567 - val_acc: 0.7569\n",
            "Epoch 10/20\n",
            "2705/2705 [==============================] - 3s 1ms/sample - loss: 0.1640 - acc: 0.9445 - val_loss: 0.9477 - val_acc: 0.6793\n",
            "Epoch 11/20\n",
            "2705/2705 [==============================] - 3s 1ms/sample - loss: 0.2833 - acc: 0.8799 - val_loss: 0.7058 - val_acc: 0.7707\n",
            "Epoch 12/20\n",
            "2705/2705 [==============================] - 3s 1ms/sample - loss: 0.1662 - acc: 0.9416 - val_loss: 0.9972 - val_acc: 0.7052\n",
            "Epoch 13/20\n",
            "2705/2705 [==============================] - 3s 1ms/sample - loss: 0.1384 - acc: 0.9571 - val_loss: 0.8186 - val_acc: 0.7207\n",
            "Epoch 14/20\n",
            "2705/2705 [==============================] - 3s 1ms/sample - loss: 0.1355 - acc: 0.9482 - val_loss: 0.9027 - val_acc: 0.7121\n",
            "Epoch 15/20\n",
            "2705/2705 [==============================] - 3s 1ms/sample - loss: 0.1232 - acc: 0.9597 - val_loss: 0.8050 - val_acc: 0.7293\n",
            "Epoch 16/20\n",
            "2705/2705 [==============================] - 3s 1ms/sample - loss: 0.1190 - acc: 0.9619 - val_loss: 0.7887 - val_acc: 0.7276\n",
            "Epoch 17/20\n",
            "2705/2705 [==============================] - 3s 1ms/sample - loss: 0.1279 - acc: 0.9549 - val_loss: 0.8946 - val_acc: 0.7259\n",
            "Epoch 18/20\n",
            "2705/2705 [==============================] - 3s 1ms/sample - loss: 0.1096 - acc: 0.9689 - val_loss: 0.7716 - val_acc: 0.7397\n",
            "Epoch 19/20\n",
            "2705/2705 [==============================] - 3s 1ms/sample - loss: 0.1194 - acc: 0.9586 - val_loss: 0.7375 - val_acc: 0.7534\n",
            "Epoch 20/20\n",
            "2705/2705 [==============================] - 3s 1ms/sample - loss: 0.1061 - acc: 0.9689 - val_loss: 1.0719 - val_acc: 0.7034\n",
            "Elapsed time: 0:1:4.7\n"
          ],
          "name": "stdout"
        }
      ]
    },
    {
      "cell_type": "code",
      "metadata": {
        "id": "Ijb-96wo9LvC",
        "colab_type": "code",
        "outputId": "ded76adc-fb47-4d0c-cd3a-05303961d101",
        "colab": {
          "base_uri": "https://localhost:8080/",
          "height": 751
        }
      },
      "source": [
        "start_time = time.time()\n",
        "\n",
        "model.fit(x=X_train, y=y_train, batch_size=32, epochs=20, validation_data=(X_val, y_val), callbacks=[tensorboard, checkpoint])\n",
        "\n",
        "end_time = time.time()\n",
        "execution_time = (end_time - start_time)\n",
        "print(f\"Elapsed time: {hms_string(execution_time)}\")"
      ],
      "execution_count": 0,
      "outputs": [
        {
          "output_type": "stream",
          "text": [
            "Train on 2705 samples, validate on 580 samples\n",
            "Epoch 1/20\n",
            "2705/2705 [==============================] - 4s 1ms/sample - loss: 0.1187 - acc: 0.9652 - val_loss: 0.7151 - val_acc: 0.7707\n",
            "Epoch 2/20\n",
            "2705/2705 [==============================] - 4s 1ms/sample - loss: 0.1089 - acc: 0.9652 - val_loss: 0.7379 - val_acc: 0.7707\n",
            "Epoch 3/20\n",
            "2705/2705 [==============================] - 3s 1ms/sample - loss: 0.1064 - acc: 0.9667 - val_loss: 0.7494 - val_acc: 0.7603\n",
            "Epoch 4/20\n",
            "2705/2705 [==============================] - 3s 1ms/sample - loss: 0.0882 - acc: 0.9774 - val_loss: 0.7807 - val_acc: 0.7552\n",
            "Epoch 5/20\n",
            "2705/2705 [==============================] - 3s 1ms/sample - loss: 0.1064 - acc: 0.9612 - val_loss: 0.7663 - val_acc: 0.7552\n",
            "Epoch 6/20\n",
            "2705/2705 [==============================] - 3s 1ms/sample - loss: 0.0795 - acc: 0.9841 - val_loss: 0.9073 - val_acc: 0.7397\n",
            "Epoch 7/20\n",
            "2705/2705 [==============================] - 3s 1ms/sample - loss: 0.0976 - acc: 0.9652 - val_loss: 0.9007 - val_acc: 0.7121\n",
            "Epoch 8/20\n",
            "2705/2705 [==============================] - 3s 1ms/sample - loss: 0.0777 - acc: 0.9811 - val_loss: 0.7967 - val_acc: 0.7517\n",
            "Epoch 9/20\n",
            "2705/2705 [==============================] - 3s 1ms/sample - loss: 0.0793 - acc: 0.9815 - val_loss: 0.8061 - val_acc: 0.7500\n",
            "Epoch 10/20\n",
            "2705/2705 [==============================] - 3s 1ms/sample - loss: 0.0721 - acc: 0.9837 - val_loss: 0.8822 - val_acc: 0.7466\n",
            "Epoch 11/20\n",
            "2705/2705 [==============================] - 3s 1ms/sample - loss: 0.0819 - acc: 0.9771 - val_loss: 0.9550 - val_acc: 0.7224\n",
            "Epoch 12/20\n",
            "2705/2705 [==============================] - 3s 1ms/sample - loss: 0.0863 - acc: 0.9745 - val_loss: 1.3992 - val_acc: 0.6810\n",
            "Epoch 13/20\n",
            "2705/2705 [==============================] - 3s 1ms/sample - loss: 0.0823 - acc: 0.9756 - val_loss: 0.8451 - val_acc: 0.7569\n",
            "Epoch 14/20\n",
            "2705/2705 [==============================] - 3s 1ms/sample - loss: 0.0595 - acc: 0.9911 - val_loss: 0.8706 - val_acc: 0.7414\n",
            "Epoch 15/20\n",
            "2705/2705 [==============================] - 3s 1ms/sample - loss: 0.0752 - acc: 0.9800 - val_loss: 1.0298 - val_acc: 0.7103\n",
            "Epoch 16/20\n",
            "2705/2705 [==============================] - 3s 1ms/sample - loss: 0.0969 - acc: 0.9675 - val_loss: 0.8834 - val_acc: 0.7517\n",
            "Epoch 17/20\n",
            "2705/2705 [==============================] - 3s 1ms/sample - loss: 0.1402 - acc: 0.9405 - val_loss: 1.7051 - val_acc: 0.6276\n",
            "Epoch 18/20\n",
            "2705/2705 [==============================] - 3s 1ms/sample - loss: 0.0756 - acc: 0.9774 - val_loss: 1.0121 - val_acc: 0.7121\n",
            "Epoch 19/20\n",
            "2705/2705 [==============================] - 4s 2ms/sample - loss: 0.0525 - acc: 0.9919 - val_loss: 0.8898 - val_acc: 0.7362\n",
            "Epoch 20/20\n",
            "2705/2705 [==============================] - 3s 1ms/sample - loss: 0.0525 - acc: 0.9919 - val_loss: 0.9338 - val_acc: 0.7414\n",
            "Elapsed time: 0:1:12.2\n"
          ],
          "name": "stdout"
        }
      ]
    },
    {
      "cell_type": "code",
      "metadata": {
        "id": "4StaHi6T9mPN",
        "colab_type": "code",
        "outputId": "ae6b141e-5938-4048-de36-bea96caeb462",
        "colab": {
          "base_uri": "https://localhost:8080/",
          "height": 1000
        }
      },
      "source": [
        "start_time = time.time()\n",
        "\n",
        "model.fit(x=X_train, y=y_train, batch_size=32, epochs=30, validation_data=(X_val, y_val), callbacks=[tensorboard, checkpoint])\n",
        "\n",
        "end_time = time.time()\n",
        "execution_time = (end_time - start_time)\n",
        "print(f\"Elapsed time: {hms_string(execution_time)}\")"
      ],
      "execution_count": 0,
      "outputs": [
        {
          "output_type": "stream",
          "text": [
            "Train on 2705 samples, validate on 580 samples\n",
            "Epoch 1/30\n",
            "2705/2705 [==============================] - 3s 1ms/sample - loss: 0.0537 - acc: 0.9904 - val_loss: 0.8922 - val_acc: 0.7552\n",
            "Epoch 2/30\n",
            "2705/2705 [==============================] - 3s 1ms/sample - loss: 0.0432 - acc: 0.9959 - val_loss: 0.9018 - val_acc: 0.7621\n",
            "Epoch 3/30\n",
            "2705/2705 [==============================] - 3s 1ms/sample - loss: 0.0417 - acc: 0.9948 - val_loss: 0.8991 - val_acc: 0.7448\n",
            "Epoch 4/30\n",
            "2705/2705 [==============================] - 4s 1ms/sample - loss: 0.0480 - acc: 0.9915 - val_loss: 0.8762 - val_acc: 0.7569\n",
            "Epoch 5/30\n",
            "2705/2705 [==============================] - 4s 1ms/sample - loss: 0.0776 - acc: 0.9726 - val_loss: 1.0644 - val_acc: 0.7172\n",
            "Epoch 6/30\n",
            "2705/2705 [==============================] - 3s 1ms/sample - loss: 0.0599 - acc: 0.9863 - val_loss: 0.9054 - val_acc: 0.7638\n",
            "Epoch 7/30\n",
            "2705/2705 [==============================] - 3s 1ms/sample - loss: 0.0590 - acc: 0.9845 - val_loss: 1.0138 - val_acc: 0.7414\n",
            "Epoch 8/30\n",
            "2705/2705 [==============================] - 3s 1ms/sample - loss: 0.0880 - acc: 0.9704 - val_loss: 1.0319 - val_acc: 0.7328\n",
            "Epoch 9/30\n",
            "2705/2705 [==============================] - 4s 1ms/sample - loss: 0.0369 - acc: 0.9959 - val_loss: 0.9357 - val_acc: 0.7552\n",
            "Epoch 10/30\n",
            "2705/2705 [==============================] - 4s 1ms/sample - loss: 0.0319 - acc: 0.9974 - val_loss: 0.9656 - val_acc: 0.7483\n",
            "Epoch 11/30\n",
            "2705/2705 [==============================] - 3s 1ms/sample - loss: 0.0506 - acc: 0.9896 - val_loss: 1.6519 - val_acc: 0.6655\n",
            "Epoch 12/30\n",
            "2705/2705 [==============================] - 4s 1ms/sample - loss: 0.0671 - acc: 0.9786 - val_loss: 1.2649 - val_acc: 0.7138\n",
            "Epoch 13/30\n",
            "2705/2705 [==============================] - 4s 1ms/sample - loss: 0.0471 - acc: 0.9915 - val_loss: 1.1772 - val_acc: 0.7172\n",
            "Epoch 14/30\n",
            "2705/2705 [==============================] - 4s 1ms/sample - loss: 0.0323 - acc: 0.9974 - val_loss: 0.9830 - val_acc: 0.7397\n",
            "Epoch 15/30\n",
            "2705/2705 [==============================] - 3s 1ms/sample - loss: 0.0232 - acc: 0.9985 - val_loss: 0.9910 - val_acc: 0.7483\n",
            "Epoch 16/30\n",
            "2705/2705 [==============================] - 4s 1ms/sample - loss: 0.0236 - acc: 0.9996 - val_loss: 1.0574 - val_acc: 0.7345\n",
            "Epoch 17/30\n",
            "2705/2705 [==============================] - 3s 1ms/sample - loss: 0.0223 - acc: 0.9996 - val_loss: 1.0290 - val_acc: 0.7552\n",
            "Epoch 18/30\n",
            "2705/2705 [==============================] - 3s 1ms/sample - loss: 0.0430 - acc: 0.9889 - val_loss: 2.5712 - val_acc: 0.5931\n",
            "Epoch 19/30\n",
            "2705/2705 [==============================] - 4s 1ms/sample - loss: 0.0746 - acc: 0.9734 - val_loss: 0.9142 - val_acc: 0.7500\n",
            "Epoch 20/30\n",
            "2705/2705 [==============================] - 3s 1ms/sample - loss: 0.0630 - acc: 0.9815 - val_loss: 0.9651 - val_acc: 0.7621\n",
            "Epoch 21/30\n",
            "2705/2705 [==============================] - 3s 1ms/sample - loss: 0.0370 - acc: 0.9933 - val_loss: 1.2863 - val_acc: 0.6931\n",
            "Epoch 22/30\n",
            "2705/2705 [==============================] - 4s 1ms/sample - loss: 0.0335 - acc: 0.9948 - val_loss: 1.0539 - val_acc: 0.7517\n",
            "Epoch 23/30\n",
            "2705/2705 [==============================] - 3s 1ms/sample - loss: 0.0287 - acc: 0.9970 - val_loss: 1.0908 - val_acc: 0.7466\n",
            "Epoch 24/30\n",
            "2705/2705 [==============================] - 3s 1ms/sample - loss: 0.0274 - acc: 0.9974 - val_loss: 1.0102 - val_acc: 0.7517\n",
            "Epoch 25/30\n",
            "2705/2705 [==============================] - 3s 1ms/sample - loss: 0.0183 - acc: 1.0000 - val_loss: 1.0639 - val_acc: 0.7534\n",
            "Epoch 26/30\n",
            "2705/2705 [==============================] - 4s 1ms/sample - loss: 0.0188 - acc: 0.9996 - val_loss: 1.1112 - val_acc: 0.7379\n",
            "Epoch 27/30\n",
            "2705/2705 [==============================] - 3s 1ms/sample - loss: 0.0180 - acc: 0.9985 - val_loss: 1.0648 - val_acc: 0.7552\n",
            "Epoch 28/30\n",
            "2705/2705 [==============================] - 3s 1ms/sample - loss: 0.0277 - acc: 0.9933 - val_loss: 3.2777 - val_acc: 0.6224\n",
            "Epoch 29/30\n",
            "2705/2705 [==============================] - 3s 1ms/sample - loss: 0.0849 - acc: 0.9697 - val_loss: 1.1979 - val_acc: 0.7293\n",
            "Epoch 30/30\n",
            "2705/2705 [==============================] - 3s 1ms/sample - loss: 0.1427 - acc: 0.9449 - val_loss: 1.2125 - val_acc: 0.7086\n",
            "Elapsed time: 0:1:46.8\n"
          ],
          "name": "stdout"
        }
      ]
    },
    {
      "cell_type": "code",
      "metadata": {
        "id": "WsbZoydOph7l",
        "colab_type": "code",
        "outputId": "b149d293-228e-4d53-a6e0-ac4357e9fb86",
        "colab": {
          "base_uri": "https://localhost:8080/",
          "height": 34
        }
      },
      "source": [
        "X_test.shape"
      ],
      "execution_count": 0,
      "outputs": [
        {
          "output_type": "execute_result",
          "data": {
            "text/plain": [
              "(580, 240, 240, 3)"
            ]
          },
          "metadata": {
            "tags": []
          },
          "execution_count": 21
        }
      ]
    },
    {
      "cell_type": "code",
      "metadata": {
        "id": "e7FMPvnvpn21",
        "colab_type": "code",
        "colab": {}
      },
      "source": [
        "def load_data1(file_path,image_size):\n",
        "    \n",
        "    X2 = []\n",
        "    \n",
        "    image_width, image_height = image_size\n",
        "    print(file_path)\n",
        "    image = cv2.imread(file_path)\n",
        "    # crop the brain and ignore the unnecessary rest part of the image\n",
        "    # image = crop_brain_contour(image, plot=False)\n",
        "    # resize image\n",
        "    image = cv2.resize(image, dsize=(image_width, image_height), interpolation=cv2.INTER_CUBIC)\n",
        "    # normalize values\n",
        "    # image = image / 255.\n",
        "    # convert image to numpy array and append it to X\n",
        "    X2.append(image)\n",
        "    \n",
        "    X2 = np.array(X2)\n",
        "    \n",
        "    print(f'Number of examples is: {len(X2)}')\n",
        "    print(f'X shape is: {X2.shape}')\n",
        "    \n",
        "    return X2"
      ],
      "execution_count": 0,
      "outputs": []
    },
    {
      "cell_type": "code",
      "metadata": {
        "id": "CRKN4Z-spwP9",
        "colab_type": "code",
        "outputId": "4b69e8fe-6c5a-41b0-fb1d-f56eecc34008",
        "colab": {
          "base_uri": "https://localhost:8080/",
          "height": 68
        }
      },
      "source": [
        "file_path=\"/content/drive/My Drive/Breast/malignant/malignant (12).png\"\n",
        "img=load_data1(file_path,(IMG_WIDTH, IMG_HEIGHT))"
      ],
      "execution_count": 0,
      "outputs": [
        {
          "output_type": "stream",
          "text": [
            "/content/drive/My Drive/Breast/malignant/malignant (12).png\n",
            "Number of examples is: 1\n",
            "X shape is: (1, 240, 240, 3)\n"
          ],
          "name": "stdout"
        }
      ]
    },
    {
      "cell_type": "code",
      "metadata": {
        "id": "KSuV6-Y5qO8s",
        "colab_type": "code",
        "outputId": "0925306d-78ef-44de-86c2-c432f2e76e47",
        "colab": {
          "base_uri": "https://localhost:8080/",
          "height": 51
        }
      },
      "source": [
        "best_model = load_model(filepath='/content/drive/My Drive/Breast/models/cnn-parameters-improvement-50-0.76.model')\n",
        "\n",
        "ss=best_model.predict(img)\n",
        "\n",
        "print(ss)\n",
        "\n",
        "if ss[0][0]>0.2:\n",
        "    output=\"Affected\"\n",
        "else:\n",
        "    output=\"Not Affected\"\n",
        "        \n",
        "print(output)"
      ],
      "execution_count": 0,
      "outputs": [
        {
          "output_type": "stream",
          "text": [
            "[[0.7918848]]\n",
            "Affected\n"
          ],
          "name": "stdout"
        }
      ]
    }
  ]
}